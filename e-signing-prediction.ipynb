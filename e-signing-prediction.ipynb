{
 "cells": [
  {
   "cell_type": "code",
   "execution_count": 1,
   "id": "5b2d3a4b",
   "metadata": {
    "_cell_guid": "b1076dfc-b9ad-4769-8c92-a6c4dae69d19",
    "_uuid": "8f2839f25d086af736a60e9eeb907d3b93b6e0e5",
    "execution": {
     "iopub.execute_input": "2022-10-05T02:57:20.428083Z",
     "iopub.status.busy": "2022-10-05T02:57:20.427432Z",
     "iopub.status.idle": "2022-10-05T02:57:28.505089Z",
     "shell.execute_reply": "2022-10-05T02:57:28.503805Z"
    },
    "papermill": {
     "duration": 8.097344,
     "end_time": "2022-10-05T02:57:28.507574",
     "exception": false,
     "start_time": "2022-10-05T02:57:20.410230",
     "status": "completed"
    },
    "tags": []
   },
   "outputs": [
    {
     "name": "stdout",
     "output_type": "stream",
     "text": [
      "/kaggle/input/esigning-of-loanbased-on-financial-history/Financial-Data.csv\n"
     ]
    }
   ],
   "source": [
    "#This notebook uses the following dataset: https://www.kaggle.com/datasets/yashpaloswal/esigning-of-loanbased-on-financial-history\n",
    "\n",
    "import numpy as np \n",
    "import pandas as pd \n",
    "import matplotlib.pyplot as plt\n",
    "from sklearn.model_selection import train_test_split\n",
    "from sklearn.tree import DecisionTreeClassifier\n",
    "from sklearn.ensemble import RandomForestClassifier\n",
    "from sklearn import metrics\n",
    "from sklearn import preprocessing\n",
    "from tensorflow.keras import models\n",
    "from tensorflow.keras.layers import Dense\n",
    "from tensorflow.keras import backend as K\n",
    "\n",
    "import os\n",
    "for dirname, _, filenames in os.walk('/kaggle/input'):\n",
    "    for filename in filenames:\n",
    "        print(os.path.join(dirname, filename))"
   ]
  },
  {
   "cell_type": "markdown",
   "id": "8aac9541",
   "metadata": {
    "papermill": {
     "duration": 0.013298,
     "end_time": "2022-10-05T02:57:28.534923",
     "exception": false,
     "start_time": "2022-10-05T02:57:28.521625",
     "status": "completed"
    },
    "tags": []
   },
   "source": [
    "This notebook was created on Kaggle, so many of the basic kaggle features are included"
   ]
  },
  {
   "cell_type": "markdown",
   "id": "99884a99",
   "metadata": {
    "papermill": {
     "duration": 0.012825,
     "end_time": "2022-10-05T02:57:28.561541",
     "exception": false,
     "start_time": "2022-10-05T02:57:28.548716",
     "status": "completed"
    },
    "tags": []
   },
   "source": [
    "First, I will load and investigate the data"
   ]
  },
  {
   "cell_type": "code",
   "execution_count": 2,
   "id": "7afb5d5c",
   "metadata": {
    "execution": {
     "iopub.execute_input": "2022-10-05T02:57:28.589135Z",
     "iopub.status.busy": "2022-10-05T02:57:28.588600Z",
     "iopub.status.idle": "2022-10-05T02:57:28.664704Z",
     "shell.execute_reply": "2022-10-05T02:57:28.663768Z"
    },
    "papermill": {
     "duration": 0.092383,
     "end_time": "2022-10-05T02:57:28.666775",
     "exception": false,
     "start_time": "2022-10-05T02:57:28.574392",
     "status": "completed"
    },
    "tags": []
   },
   "outputs": [],
   "source": [
    "df = pd.read_csv('/kaggle/input/esigning-of-loanbased-on-financial-history/Financial-Data.csv')"
   ]
  },
  {
   "cell_type": "code",
   "execution_count": 3,
   "id": "53361704",
   "metadata": {
    "execution": {
     "iopub.execute_input": "2022-10-05T02:57:28.694861Z",
     "iopub.status.busy": "2022-10-05T02:57:28.694326Z",
     "iopub.status.idle": "2022-10-05T02:57:28.701155Z",
     "shell.execute_reply": "2022-10-05T02:57:28.700292Z"
    },
    "papermill": {
     "duration": 0.022984,
     "end_time": "2022-10-05T02:57:28.702899",
     "exception": false,
     "start_time": "2022-10-05T02:57:28.679915",
     "status": "completed"
    },
    "tags": []
   },
   "outputs": [
    {
     "data": {
      "text/plain": [
       "(17908, 21)"
      ]
     },
     "execution_count": 3,
     "metadata": {},
     "output_type": "execute_result"
    }
   ],
   "source": [
    "df.shape"
   ]
  },
  {
   "cell_type": "code",
   "execution_count": 4,
   "id": "adccabd0",
   "metadata": {
    "execution": {
     "iopub.execute_input": "2022-10-05T02:57:28.730441Z",
     "iopub.status.busy": "2022-10-05T02:57:28.730060Z",
     "iopub.status.idle": "2022-10-05T02:57:28.757849Z",
     "shell.execute_reply": "2022-10-05T02:57:28.756934Z"
    },
    "papermill": {
     "duration": 0.043847,
     "end_time": "2022-10-05T02:57:28.759757",
     "exception": false,
     "start_time": "2022-10-05T02:57:28.715910",
     "status": "completed"
    },
    "tags": []
   },
   "outputs": [
    {
     "data": {
      "text/html": [
       "<div>\n",
       "<style scoped>\n",
       "    .dataframe tbody tr th:only-of-type {\n",
       "        vertical-align: middle;\n",
       "    }\n",
       "\n",
       "    .dataframe tbody tr th {\n",
       "        vertical-align: top;\n",
       "    }\n",
       "\n",
       "    .dataframe thead th {\n",
       "        text-align: right;\n",
       "    }\n",
       "</style>\n",
       "<table border=\"1\" class=\"dataframe\">\n",
       "  <thead>\n",
       "    <tr style=\"text-align: right;\">\n",
       "      <th></th>\n",
       "      <th>Entry_id</th>\n",
       "      <th>age</th>\n",
       "      <th>pay_schedule</th>\n",
       "      <th>home_owner</th>\n",
       "      <th>income</th>\n",
       "      <th>months_employed</th>\n",
       "      <th>years_employed</th>\n",
       "      <th>current_address_year</th>\n",
       "      <th>personal_account_m</th>\n",
       "      <th>personal_account_y</th>\n",
       "      <th>...</th>\n",
       "      <th>amount_requested</th>\n",
       "      <th>risk_score</th>\n",
       "      <th>risk_score_2</th>\n",
       "      <th>risk_score_3</th>\n",
       "      <th>risk_score_4</th>\n",
       "      <th>risk_score_5</th>\n",
       "      <th>ext_quality_score</th>\n",
       "      <th>ext_quality_score_2</th>\n",
       "      <th>inquiries_last_month</th>\n",
       "      <th>e_signed</th>\n",
       "    </tr>\n",
       "  </thead>\n",
       "  <tbody>\n",
       "    <tr>\n",
       "      <th>0</th>\n",
       "      <td>7629673</td>\n",
       "      <td>40</td>\n",
       "      <td>bi-weekly</td>\n",
       "      <td>1</td>\n",
       "      <td>3135</td>\n",
       "      <td>0</td>\n",
       "      <td>3</td>\n",
       "      <td>3</td>\n",
       "      <td>6</td>\n",
       "      <td>2</td>\n",
       "      <td>...</td>\n",
       "      <td>550</td>\n",
       "      <td>36200</td>\n",
       "      <td>0.737398</td>\n",
       "      <td>0.903517</td>\n",
       "      <td>0.487712</td>\n",
       "      <td>0.515977</td>\n",
       "      <td>0.580918</td>\n",
       "      <td>0.380918</td>\n",
       "      <td>10</td>\n",
       "      <td>1</td>\n",
       "    </tr>\n",
       "    <tr>\n",
       "      <th>1</th>\n",
       "      <td>3560428</td>\n",
       "      <td>61</td>\n",
       "      <td>weekly</td>\n",
       "      <td>0</td>\n",
       "      <td>3180</td>\n",
       "      <td>0</td>\n",
       "      <td>6</td>\n",
       "      <td>3</td>\n",
       "      <td>2</td>\n",
       "      <td>7</td>\n",
       "      <td>...</td>\n",
       "      <td>600</td>\n",
       "      <td>30150</td>\n",
       "      <td>0.738510</td>\n",
       "      <td>0.881027</td>\n",
       "      <td>0.713423</td>\n",
       "      <td>0.826402</td>\n",
       "      <td>0.730720</td>\n",
       "      <td>0.630720</td>\n",
       "      <td>9</td>\n",
       "      <td>0</td>\n",
       "    </tr>\n",
       "    <tr>\n",
       "      <th>2</th>\n",
       "      <td>6934997</td>\n",
       "      <td>23</td>\n",
       "      <td>weekly</td>\n",
       "      <td>0</td>\n",
       "      <td>1540</td>\n",
       "      <td>6</td>\n",
       "      <td>0</td>\n",
       "      <td>0</td>\n",
       "      <td>7</td>\n",
       "      <td>1</td>\n",
       "      <td>...</td>\n",
       "      <td>450</td>\n",
       "      <td>34550</td>\n",
       "      <td>0.642993</td>\n",
       "      <td>0.766554</td>\n",
       "      <td>0.595018</td>\n",
       "      <td>0.762284</td>\n",
       "      <td>0.531712</td>\n",
       "      <td>0.531712</td>\n",
       "      <td>7</td>\n",
       "      <td>0</td>\n",
       "    </tr>\n",
       "    <tr>\n",
       "      <th>3</th>\n",
       "      <td>5682812</td>\n",
       "      <td>40</td>\n",
       "      <td>bi-weekly</td>\n",
       "      <td>0</td>\n",
       "      <td>5230</td>\n",
       "      <td>0</td>\n",
       "      <td>6</td>\n",
       "      <td>1</td>\n",
       "      <td>2</td>\n",
       "      <td>7</td>\n",
       "      <td>...</td>\n",
       "      <td>700</td>\n",
       "      <td>42150</td>\n",
       "      <td>0.665224</td>\n",
       "      <td>0.960832</td>\n",
       "      <td>0.767828</td>\n",
       "      <td>0.778831</td>\n",
       "      <td>0.792552</td>\n",
       "      <td>0.592552</td>\n",
       "      <td>8</td>\n",
       "      <td>1</td>\n",
       "    </tr>\n",
       "    <tr>\n",
       "      <th>4</th>\n",
       "      <td>5335819</td>\n",
       "      <td>33</td>\n",
       "      <td>semi-monthly</td>\n",
       "      <td>0</td>\n",
       "      <td>3590</td>\n",
       "      <td>0</td>\n",
       "      <td>5</td>\n",
       "      <td>2</td>\n",
       "      <td>2</td>\n",
       "      <td>8</td>\n",
       "      <td>...</td>\n",
       "      <td>1100</td>\n",
       "      <td>53850</td>\n",
       "      <td>0.617361</td>\n",
       "      <td>0.857560</td>\n",
       "      <td>0.613487</td>\n",
       "      <td>0.665523</td>\n",
       "      <td>0.744634</td>\n",
       "      <td>0.744634</td>\n",
       "      <td>12</td>\n",
       "      <td>0</td>\n",
       "    </tr>\n",
       "  </tbody>\n",
       "</table>\n",
       "<p>5 rows × 21 columns</p>\n",
       "</div>"
      ],
      "text/plain": [
       "   Entry_id  age  pay_schedule  home_owner  income  months_employed  \\\n",
       "0   7629673   40     bi-weekly           1    3135                0   \n",
       "1   3560428   61        weekly           0    3180                0   \n",
       "2   6934997   23        weekly           0    1540                6   \n",
       "3   5682812   40     bi-weekly           0    5230                0   \n",
       "4   5335819   33  semi-monthly           0    3590                0   \n",
       "\n",
       "   years_employed  current_address_year  personal_account_m  \\\n",
       "0               3                     3                   6   \n",
       "1               6                     3                   2   \n",
       "2               0                     0                   7   \n",
       "3               6                     1                   2   \n",
       "4               5                     2                   2   \n",
       "\n",
       "   personal_account_y  ...  amount_requested  risk_score  risk_score_2  \\\n",
       "0                   2  ...               550       36200      0.737398   \n",
       "1                   7  ...               600       30150      0.738510   \n",
       "2                   1  ...               450       34550      0.642993   \n",
       "3                   7  ...               700       42150      0.665224   \n",
       "4                   8  ...              1100       53850      0.617361   \n",
       "\n",
       "   risk_score_3  risk_score_4  risk_score_5  ext_quality_score  \\\n",
       "0      0.903517      0.487712      0.515977           0.580918   \n",
       "1      0.881027      0.713423      0.826402           0.730720   \n",
       "2      0.766554      0.595018      0.762284           0.531712   \n",
       "3      0.960832      0.767828      0.778831           0.792552   \n",
       "4      0.857560      0.613487      0.665523           0.744634   \n",
       "\n",
       "   ext_quality_score_2  inquiries_last_month  e_signed  \n",
       "0             0.380918                    10         1  \n",
       "1             0.630720                     9         0  \n",
       "2             0.531712                     7         0  \n",
       "3             0.592552                     8         1  \n",
       "4             0.744634                    12         0  \n",
       "\n",
       "[5 rows x 21 columns]"
      ]
     },
     "execution_count": 4,
     "metadata": {},
     "output_type": "execute_result"
    }
   ],
   "source": [
    "df.head()"
   ]
  },
  {
   "cell_type": "code",
   "execution_count": 5,
   "id": "330d47ff",
   "metadata": {
    "execution": {
     "iopub.execute_input": "2022-10-05T02:57:28.788131Z",
     "iopub.status.busy": "2022-10-05T02:57:28.787675Z",
     "iopub.status.idle": "2022-10-05T02:57:28.796727Z",
     "shell.execute_reply": "2022-10-05T02:57:28.795671Z"
    },
    "papermill": {
     "duration": 0.025531,
     "end_time": "2022-10-05T02:57:28.798775",
     "exception": false,
     "start_time": "2022-10-05T02:57:28.773244",
     "status": "completed"
    },
    "tags": []
   },
   "outputs": [],
   "source": [
    "df.drop(columns = ['Entry_id'], inplace = True)"
   ]
  },
  {
   "cell_type": "code",
   "execution_count": 6,
   "id": "2a5949d3",
   "metadata": {
    "execution": {
     "iopub.execute_input": "2022-10-05T02:57:28.827037Z",
     "iopub.status.busy": "2022-10-05T02:57:28.826557Z",
     "iopub.status.idle": "2022-10-05T02:57:28.831639Z",
     "shell.execute_reply": "2022-10-05T02:57:28.830751Z"
    },
    "papermill": {
     "duration": 0.021658,
     "end_time": "2022-10-05T02:57:28.833669",
     "exception": false,
     "start_time": "2022-10-05T02:57:28.812011",
     "status": "completed"
    },
    "tags": []
   },
   "outputs": [
    {
     "data": {
      "text/plain": [
       "Index(['age', 'pay_schedule', 'home_owner', 'income', 'months_employed',\n",
       "       'years_employed', 'current_address_year', 'personal_account_m',\n",
       "       'personal_account_y', 'has_debt', 'amount_requested', 'risk_score',\n",
       "       'risk_score_2', 'risk_score_3', 'risk_score_4', 'risk_score_5',\n",
       "       'ext_quality_score', 'ext_quality_score_2', 'inquiries_last_month',\n",
       "       'e_signed'],\n",
       "      dtype='object')"
      ]
     },
     "execution_count": 6,
     "metadata": {},
     "output_type": "execute_result"
    }
   ],
   "source": [
    "df.columns"
   ]
  },
  {
   "cell_type": "markdown",
   "id": "fd6c895d",
   "metadata": {
    "papermill": {
     "duration": 0.013573,
     "end_time": "2022-10-05T02:57:28.860730",
     "exception": false,
     "start_time": "2022-10-05T02:57:28.847157",
     "status": "completed"
    },
    "tags": []
   },
   "source": [
    "I now check if there are any duplicate rows to get rid of"
   ]
  },
  {
   "cell_type": "code",
   "execution_count": 7,
   "id": "5324f363",
   "metadata": {
    "execution": {
     "iopub.execute_input": "2022-10-05T02:57:28.888121Z",
     "iopub.status.busy": "2022-10-05T02:57:28.887800Z",
     "iopub.status.idle": "2022-10-05T02:57:28.912702Z",
     "shell.execute_reply": "2022-10-05T02:57:28.911546Z"
    },
    "papermill": {
     "duration": 0.041519,
     "end_time": "2022-10-05T02:57:28.915157",
     "exception": false,
     "start_time": "2022-10-05T02:57:28.873638",
     "status": "completed"
    },
    "tags": []
   },
   "outputs": [
    {
     "data": {
      "text/plain": [
       "0"
      ]
     },
     "execution_count": 7,
     "metadata": {},
     "output_type": "execute_result"
    }
   ],
   "source": [
    "df.duplicated().sum()"
   ]
  },
  {
   "cell_type": "code",
   "execution_count": 8,
   "id": "965d3e12",
   "metadata": {
    "execution": {
     "iopub.execute_input": "2022-10-05T02:57:28.943748Z",
     "iopub.status.busy": "2022-10-05T02:57:28.943412Z",
     "iopub.status.idle": "2022-10-05T02:57:28.962762Z",
     "shell.execute_reply": "2022-10-05T02:57:28.961233Z"
    },
    "papermill": {
     "duration": 0.036291,
     "end_time": "2022-10-05T02:57:28.965063",
     "exception": false,
     "start_time": "2022-10-05T02:57:28.928772",
     "status": "completed"
    },
    "tags": []
   },
   "outputs": [
    {
     "name": "stdout",
     "output_type": "stream",
     "text": [
      "<class 'pandas.core.frame.DataFrame'>\n",
      "RangeIndex: 17908 entries, 0 to 17907\n",
      "Data columns (total 20 columns):\n",
      " #   Column                Non-Null Count  Dtype  \n",
      "---  ------                --------------  -----  \n",
      " 0   age                   17908 non-null  int64  \n",
      " 1   pay_schedule          17908 non-null  object \n",
      " 2   home_owner            17908 non-null  int64  \n",
      " 3   income                17908 non-null  int64  \n",
      " 4   months_employed       17908 non-null  int64  \n",
      " 5   years_employed        17908 non-null  int64  \n",
      " 6   current_address_year  17908 non-null  int64  \n",
      " 7   personal_account_m    17908 non-null  int64  \n",
      " 8   personal_account_y    17908 non-null  int64  \n",
      " 9   has_debt              17908 non-null  int64  \n",
      " 10  amount_requested      17908 non-null  int64  \n",
      " 11  risk_score            17908 non-null  int64  \n",
      " 12  risk_score_2          17908 non-null  float64\n",
      " 13  risk_score_3          17908 non-null  float64\n",
      " 14  risk_score_4          17908 non-null  float64\n",
      " 15  risk_score_5          17908 non-null  float64\n",
      " 16  ext_quality_score     17908 non-null  float64\n",
      " 17  ext_quality_score_2   17908 non-null  float64\n",
      " 18  inquiries_last_month  17908 non-null  int64  \n",
      " 19  e_signed              17908 non-null  int64  \n",
      "dtypes: float64(6), int64(13), object(1)\n",
      "memory usage: 2.7+ MB\n"
     ]
    }
   ],
   "source": [
    "df.info()"
   ]
  },
  {
   "cell_type": "markdown",
   "id": "2e5d8f0f",
   "metadata": {
    "papermill": {
     "duration": 0.013535,
     "end_time": "2022-10-05T02:57:28.992977",
     "exception": false,
     "start_time": "2022-10-05T02:57:28.979442",
     "status": "completed"
    },
    "tags": []
   },
   "source": [
    "I see from the Non-Null Count that there are no null values to handle"
   ]
  },
  {
   "cell_type": "code",
   "execution_count": 9,
   "id": "56e3ddbe",
   "metadata": {
    "execution": {
     "iopub.execute_input": "2022-10-05T02:57:29.023378Z",
     "iopub.status.busy": "2022-10-05T02:57:29.023041Z",
     "iopub.status.idle": "2022-10-05T02:57:29.032110Z",
     "shell.execute_reply": "2022-10-05T02:57:29.030658Z"
    },
    "papermill": {
     "duration": 0.026917,
     "end_time": "2022-10-05T02:57:29.034425",
     "exception": false,
     "start_time": "2022-10-05T02:57:29.007508",
     "status": "completed"
    },
    "tags": []
   },
   "outputs": [
    {
     "data": {
      "text/plain": [
       "bi-weekly       10716\n",
       "weekly           3696\n",
       "semi-monthly     2004\n",
       "monthly          1492\n",
       "Name: pay_schedule, dtype: int64"
      ]
     },
     "execution_count": 9,
     "metadata": {},
     "output_type": "execute_result"
    }
   ],
   "source": [
    "df.pay_schedule.value_counts()"
   ]
  },
  {
   "cell_type": "markdown",
   "id": "a6ec50da",
   "metadata": {
    "papermill": {
     "duration": 0.013368,
     "end_time": "2022-10-05T02:57:29.061625",
     "exception": false,
     "start_time": "2022-10-05T02:57:29.048257",
     "status": "completed"
    },
    "tags": []
   },
   "source": [
    "Pay schedule takes on 1 of 4 categorical variables, so I will convert this column to a set of binary variables with one hot encoding so that these values can be passed in as inputs to the models"
   ]
  },
  {
   "cell_type": "code",
   "execution_count": 10,
   "id": "e5724871",
   "metadata": {
    "execution": {
     "iopub.execute_input": "2022-10-05T02:57:29.090754Z",
     "iopub.status.busy": "2022-10-05T02:57:29.090413Z",
     "iopub.status.idle": "2022-10-05T02:57:29.098095Z",
     "shell.execute_reply": "2022-10-05T02:57:29.096574Z"
    },
    "papermill": {
     "duration": 0.025471,
     "end_time": "2022-10-05T02:57:29.100863",
     "exception": false,
     "start_time": "2022-10-05T02:57:29.075392",
     "status": "completed"
    },
    "tags": []
   },
   "outputs": [],
   "source": [
    "one_hot = pd.get_dummies(df.pay_schedule)"
   ]
  },
  {
   "cell_type": "code",
   "execution_count": 11,
   "id": "a76f326b",
   "metadata": {
    "execution": {
     "iopub.execute_input": "2022-10-05T02:57:29.131813Z",
     "iopub.status.busy": "2022-10-05T02:57:29.131490Z",
     "iopub.status.idle": "2022-10-05T02:57:29.137487Z",
     "shell.execute_reply": "2022-10-05T02:57:29.136316Z"
    },
    "papermill": {
     "duration": 0.023872,
     "end_time": "2022-10-05T02:57:29.139680",
     "exception": false,
     "start_time": "2022-10-05T02:57:29.115808",
     "status": "completed"
    },
    "tags": []
   },
   "outputs": [],
   "source": [
    "one_hot.rename(columns = lambda x: x + '_pay_schedule', inplace = True)"
   ]
  },
  {
   "cell_type": "code",
   "execution_count": 12,
   "id": "c7cdd569",
   "metadata": {
    "execution": {
     "iopub.execute_input": "2022-10-05T02:57:29.169342Z",
     "iopub.status.busy": "2022-10-05T02:57:29.169017Z",
     "iopub.status.idle": "2022-10-05T02:57:29.175552Z",
     "shell.execute_reply": "2022-10-05T02:57:29.174157Z"
    },
    "papermill": {
     "duration": 0.024595,
     "end_time": "2022-10-05T02:57:29.178287",
     "exception": false,
     "start_time": "2022-10-05T02:57:29.153692",
     "status": "completed"
    },
    "tags": []
   },
   "outputs": [],
   "source": [
    "df.drop('pay_schedule', axis = 1, inplace = True)"
   ]
  },
  {
   "cell_type": "code",
   "execution_count": 13,
   "id": "97d54097",
   "metadata": {
    "execution": {
     "iopub.execute_input": "2022-10-05T02:57:29.207198Z",
     "iopub.status.busy": "2022-10-05T02:57:29.206863Z",
     "iopub.status.idle": "2022-10-05T02:57:29.216768Z",
     "shell.execute_reply": "2022-10-05T02:57:29.215332Z"
    },
    "papermill": {
     "duration": 0.026828,
     "end_time": "2022-10-05T02:57:29.218718",
     "exception": false,
     "start_time": "2022-10-05T02:57:29.191890",
     "status": "completed"
    },
    "tags": []
   },
   "outputs": [],
   "source": [
    "df = df.join(one_hot)"
   ]
  },
  {
   "cell_type": "code",
   "execution_count": 14,
   "id": "60271fb8",
   "metadata": {
    "execution": {
     "iopub.execute_input": "2022-10-05T02:57:29.247714Z",
     "iopub.status.busy": "2022-10-05T02:57:29.247417Z",
     "iopub.status.idle": "2022-10-05T02:57:29.270660Z",
     "shell.execute_reply": "2022-10-05T02:57:29.269776Z"
    },
    "papermill": {
     "duration": 0.040042,
     "end_time": "2022-10-05T02:57:29.272528",
     "exception": false,
     "start_time": "2022-10-05T02:57:29.232486",
     "status": "completed"
    },
    "tags": []
   },
   "outputs": [
    {
     "data": {
      "text/html": [
       "<div>\n",
       "<style scoped>\n",
       "    .dataframe tbody tr th:only-of-type {\n",
       "        vertical-align: middle;\n",
       "    }\n",
       "\n",
       "    .dataframe tbody tr th {\n",
       "        vertical-align: top;\n",
       "    }\n",
       "\n",
       "    .dataframe thead th {\n",
       "        text-align: right;\n",
       "    }\n",
       "</style>\n",
       "<table border=\"1\" class=\"dataframe\">\n",
       "  <thead>\n",
       "    <tr style=\"text-align: right;\">\n",
       "      <th></th>\n",
       "      <th>age</th>\n",
       "      <th>home_owner</th>\n",
       "      <th>income</th>\n",
       "      <th>months_employed</th>\n",
       "      <th>years_employed</th>\n",
       "      <th>current_address_year</th>\n",
       "      <th>personal_account_m</th>\n",
       "      <th>personal_account_y</th>\n",
       "      <th>has_debt</th>\n",
       "      <th>amount_requested</th>\n",
       "      <th>...</th>\n",
       "      <th>risk_score_4</th>\n",
       "      <th>risk_score_5</th>\n",
       "      <th>ext_quality_score</th>\n",
       "      <th>ext_quality_score_2</th>\n",
       "      <th>inquiries_last_month</th>\n",
       "      <th>e_signed</th>\n",
       "      <th>bi-weekly_pay_schedule</th>\n",
       "      <th>monthly_pay_schedule</th>\n",
       "      <th>semi-monthly_pay_schedule</th>\n",
       "      <th>weekly_pay_schedule</th>\n",
       "    </tr>\n",
       "  </thead>\n",
       "  <tbody>\n",
       "    <tr>\n",
       "      <th>0</th>\n",
       "      <td>40</td>\n",
       "      <td>1</td>\n",
       "      <td>3135</td>\n",
       "      <td>0</td>\n",
       "      <td>3</td>\n",
       "      <td>3</td>\n",
       "      <td>6</td>\n",
       "      <td>2</td>\n",
       "      <td>1</td>\n",
       "      <td>550</td>\n",
       "      <td>...</td>\n",
       "      <td>0.487712</td>\n",
       "      <td>0.515977</td>\n",
       "      <td>0.580918</td>\n",
       "      <td>0.380918</td>\n",
       "      <td>10</td>\n",
       "      <td>1</td>\n",
       "      <td>1</td>\n",
       "      <td>0</td>\n",
       "      <td>0</td>\n",
       "      <td>0</td>\n",
       "    </tr>\n",
       "    <tr>\n",
       "      <th>1</th>\n",
       "      <td>61</td>\n",
       "      <td>0</td>\n",
       "      <td>3180</td>\n",
       "      <td>0</td>\n",
       "      <td>6</td>\n",
       "      <td>3</td>\n",
       "      <td>2</td>\n",
       "      <td>7</td>\n",
       "      <td>1</td>\n",
       "      <td>600</td>\n",
       "      <td>...</td>\n",
       "      <td>0.713423</td>\n",
       "      <td>0.826402</td>\n",
       "      <td>0.730720</td>\n",
       "      <td>0.630720</td>\n",
       "      <td>9</td>\n",
       "      <td>0</td>\n",
       "      <td>0</td>\n",
       "      <td>0</td>\n",
       "      <td>0</td>\n",
       "      <td>1</td>\n",
       "    </tr>\n",
       "    <tr>\n",
       "      <th>2</th>\n",
       "      <td>23</td>\n",
       "      <td>0</td>\n",
       "      <td>1540</td>\n",
       "      <td>6</td>\n",
       "      <td>0</td>\n",
       "      <td>0</td>\n",
       "      <td>7</td>\n",
       "      <td>1</td>\n",
       "      <td>1</td>\n",
       "      <td>450</td>\n",
       "      <td>...</td>\n",
       "      <td>0.595018</td>\n",
       "      <td>0.762284</td>\n",
       "      <td>0.531712</td>\n",
       "      <td>0.531712</td>\n",
       "      <td>7</td>\n",
       "      <td>0</td>\n",
       "      <td>0</td>\n",
       "      <td>0</td>\n",
       "      <td>0</td>\n",
       "      <td>1</td>\n",
       "    </tr>\n",
       "    <tr>\n",
       "      <th>3</th>\n",
       "      <td>40</td>\n",
       "      <td>0</td>\n",
       "      <td>5230</td>\n",
       "      <td>0</td>\n",
       "      <td>6</td>\n",
       "      <td>1</td>\n",
       "      <td>2</td>\n",
       "      <td>7</td>\n",
       "      <td>1</td>\n",
       "      <td>700</td>\n",
       "      <td>...</td>\n",
       "      <td>0.767828</td>\n",
       "      <td>0.778831</td>\n",
       "      <td>0.792552</td>\n",
       "      <td>0.592552</td>\n",
       "      <td>8</td>\n",
       "      <td>1</td>\n",
       "      <td>1</td>\n",
       "      <td>0</td>\n",
       "      <td>0</td>\n",
       "      <td>0</td>\n",
       "    </tr>\n",
       "    <tr>\n",
       "      <th>4</th>\n",
       "      <td>33</td>\n",
       "      <td>0</td>\n",
       "      <td>3590</td>\n",
       "      <td>0</td>\n",
       "      <td>5</td>\n",
       "      <td>2</td>\n",
       "      <td>2</td>\n",
       "      <td>8</td>\n",
       "      <td>1</td>\n",
       "      <td>1100</td>\n",
       "      <td>...</td>\n",
       "      <td>0.613487</td>\n",
       "      <td>0.665523</td>\n",
       "      <td>0.744634</td>\n",
       "      <td>0.744634</td>\n",
       "      <td>12</td>\n",
       "      <td>0</td>\n",
       "      <td>0</td>\n",
       "      <td>0</td>\n",
       "      <td>1</td>\n",
       "      <td>0</td>\n",
       "    </tr>\n",
       "    <tr>\n",
       "      <th>...</th>\n",
       "      <td>...</td>\n",
       "      <td>...</td>\n",
       "      <td>...</td>\n",
       "      <td>...</td>\n",
       "      <td>...</td>\n",
       "      <td>...</td>\n",
       "      <td>...</td>\n",
       "      <td>...</td>\n",
       "      <td>...</td>\n",
       "      <td>...</td>\n",
       "      <td>...</td>\n",
       "      <td>...</td>\n",
       "      <td>...</td>\n",
       "      <td>...</td>\n",
       "      <td>...</td>\n",
       "      <td>...</td>\n",
       "      <td>...</td>\n",
       "      <td>...</td>\n",
       "      <td>...</td>\n",
       "      <td>...</td>\n",
       "      <td>...</td>\n",
       "    </tr>\n",
       "    <tr>\n",
       "      <th>17903</th>\n",
       "      <td>31</td>\n",
       "      <td>0</td>\n",
       "      <td>3245</td>\n",
       "      <td>0</td>\n",
       "      <td>5</td>\n",
       "      <td>3</td>\n",
       "      <td>2</td>\n",
       "      <td>6</td>\n",
       "      <td>1</td>\n",
       "      <td>700</td>\n",
       "      <td>...</td>\n",
       "      <td>0.664112</td>\n",
       "      <td>0.838012</td>\n",
       "      <td>0.727705</td>\n",
       "      <td>0.627705</td>\n",
       "      <td>2</td>\n",
       "      <td>0</td>\n",
       "      <td>0</td>\n",
       "      <td>1</td>\n",
       "      <td>0</td>\n",
       "      <td>0</td>\n",
       "    </tr>\n",
       "    <tr>\n",
       "      <th>17904</th>\n",
       "      <td>46</td>\n",
       "      <td>0</td>\n",
       "      <td>6525</td>\n",
       "      <td>0</td>\n",
       "      <td>2</td>\n",
       "      <td>1</td>\n",
       "      <td>3</td>\n",
       "      <td>3</td>\n",
       "      <td>1</td>\n",
       "      <td>800</td>\n",
       "      <td>...</td>\n",
       "      <td>0.699241</td>\n",
       "      <td>0.844724</td>\n",
       "      <td>0.774918</td>\n",
       "      <td>0.474918</td>\n",
       "      <td>3</td>\n",
       "      <td>0</td>\n",
       "      <td>1</td>\n",
       "      <td>0</td>\n",
       "      <td>0</td>\n",
       "      <td>0</td>\n",
       "    </tr>\n",
       "    <tr>\n",
       "      <th>17905</th>\n",
       "      <td>46</td>\n",
       "      <td>0</td>\n",
       "      <td>2685</td>\n",
       "      <td>0</td>\n",
       "      <td>5</td>\n",
       "      <td>1</td>\n",
       "      <td>1</td>\n",
       "      <td>8</td>\n",
       "      <td>1</td>\n",
       "      <td>1200</td>\n",
       "      <td>...</td>\n",
       "      <td>0.687981</td>\n",
       "      <td>0.939101</td>\n",
       "      <td>0.472045</td>\n",
       "      <td>0.672045</td>\n",
       "      <td>9</td>\n",
       "      <td>0</td>\n",
       "      <td>0</td>\n",
       "      <td>0</td>\n",
       "      <td>0</td>\n",
       "      <td>1</td>\n",
       "    </tr>\n",
       "    <tr>\n",
       "      <th>17906</th>\n",
       "      <td>42</td>\n",
       "      <td>0</td>\n",
       "      <td>2515</td>\n",
       "      <td>0</td>\n",
       "      <td>3</td>\n",
       "      <td>5</td>\n",
       "      <td>6</td>\n",
       "      <td>1</td>\n",
       "      <td>1</td>\n",
       "      <td>400</td>\n",
       "      <td>...</td>\n",
       "      <td>0.456448</td>\n",
       "      <td>0.686823</td>\n",
       "      <td>0.406568</td>\n",
       "      <td>0.406568</td>\n",
       "      <td>3</td>\n",
       "      <td>1</td>\n",
       "      <td>1</td>\n",
       "      <td>0</td>\n",
       "      <td>0</td>\n",
       "      <td>0</td>\n",
       "    </tr>\n",
       "    <tr>\n",
       "      <th>17907</th>\n",
       "      <td>29</td>\n",
       "      <td>1</td>\n",
       "      <td>2665</td>\n",
       "      <td>0</td>\n",
       "      <td>4</td>\n",
       "      <td>10</td>\n",
       "      <td>4</td>\n",
       "      <td>1</td>\n",
       "      <td>1</td>\n",
       "      <td>600</td>\n",
       "      <td>...</td>\n",
       "      <td>0.505565</td>\n",
       "      <td>0.631619</td>\n",
       "      <td>0.846163</td>\n",
       "      <td>0.846163</td>\n",
       "      <td>4</td>\n",
       "      <td>1</td>\n",
       "      <td>0</td>\n",
       "      <td>0</td>\n",
       "      <td>0</td>\n",
       "      <td>1</td>\n",
       "    </tr>\n",
       "  </tbody>\n",
       "</table>\n",
       "<p>17908 rows × 23 columns</p>\n",
       "</div>"
      ],
      "text/plain": [
       "       age  home_owner  income  months_employed  years_employed  \\\n",
       "0       40           1    3135                0               3   \n",
       "1       61           0    3180                0               6   \n",
       "2       23           0    1540                6               0   \n",
       "3       40           0    5230                0               6   \n",
       "4       33           0    3590                0               5   \n",
       "...    ...         ...     ...              ...             ...   \n",
       "17903   31           0    3245                0               5   \n",
       "17904   46           0    6525                0               2   \n",
       "17905   46           0    2685                0               5   \n",
       "17906   42           0    2515                0               3   \n",
       "17907   29           1    2665                0               4   \n",
       "\n",
       "       current_address_year  personal_account_m  personal_account_y  has_debt  \\\n",
       "0                         3                   6                   2         1   \n",
       "1                         3                   2                   7         1   \n",
       "2                         0                   7                   1         1   \n",
       "3                         1                   2                   7         1   \n",
       "4                         2                   2                   8         1   \n",
       "...                     ...                 ...                 ...       ...   \n",
       "17903                     3                   2                   6         1   \n",
       "17904                     1                   3                   3         1   \n",
       "17905                     1                   1                   8         1   \n",
       "17906                     5                   6                   1         1   \n",
       "17907                    10                   4                   1         1   \n",
       "\n",
       "       amount_requested  ...  risk_score_4  risk_score_5  ext_quality_score  \\\n",
       "0                   550  ...      0.487712      0.515977           0.580918   \n",
       "1                   600  ...      0.713423      0.826402           0.730720   \n",
       "2                   450  ...      0.595018      0.762284           0.531712   \n",
       "3                   700  ...      0.767828      0.778831           0.792552   \n",
       "4                  1100  ...      0.613487      0.665523           0.744634   \n",
       "...                 ...  ...           ...           ...                ...   \n",
       "17903               700  ...      0.664112      0.838012           0.727705   \n",
       "17904               800  ...      0.699241      0.844724           0.774918   \n",
       "17905              1200  ...      0.687981      0.939101           0.472045   \n",
       "17906               400  ...      0.456448      0.686823           0.406568   \n",
       "17907               600  ...      0.505565      0.631619           0.846163   \n",
       "\n",
       "       ext_quality_score_2  inquiries_last_month  e_signed  \\\n",
       "0                 0.380918                    10         1   \n",
       "1                 0.630720                     9         0   \n",
       "2                 0.531712                     7         0   \n",
       "3                 0.592552                     8         1   \n",
       "4                 0.744634                    12         0   \n",
       "...                    ...                   ...       ...   \n",
       "17903             0.627705                     2         0   \n",
       "17904             0.474918                     3         0   \n",
       "17905             0.672045                     9         0   \n",
       "17906             0.406568                     3         1   \n",
       "17907             0.846163                     4         1   \n",
       "\n",
       "       bi-weekly_pay_schedule  monthly_pay_schedule  \\\n",
       "0                           1                     0   \n",
       "1                           0                     0   \n",
       "2                           0                     0   \n",
       "3                           1                     0   \n",
       "4                           0                     0   \n",
       "...                       ...                   ...   \n",
       "17903                       0                     1   \n",
       "17904                       1                     0   \n",
       "17905                       0                     0   \n",
       "17906                       1                     0   \n",
       "17907                       0                     0   \n",
       "\n",
       "       semi-monthly_pay_schedule  weekly_pay_schedule  \n",
       "0                              0                    0  \n",
       "1                              0                    1  \n",
       "2                              0                    1  \n",
       "3                              0                    0  \n",
       "4                              1                    0  \n",
       "...                          ...                  ...  \n",
       "17903                          0                    0  \n",
       "17904                          0                    0  \n",
       "17905                          0                    1  \n",
       "17906                          0                    0  \n",
       "17907                          0                    1  \n",
       "\n",
       "[17908 rows x 23 columns]"
      ]
     },
     "execution_count": 14,
     "metadata": {},
     "output_type": "execute_result"
    }
   ],
   "source": [
    "df"
   ]
  },
  {
   "cell_type": "markdown",
   "id": "8abe74eb",
   "metadata": {
    "papermill": {
     "duration": 0.013802,
     "end_time": "2022-10-05T02:57:29.300503",
     "exception": false,
     "start_time": "2022-10-05T02:57:29.286701",
     "status": "completed"
    },
    "tags": []
   },
   "source": [
    "The time employed and time personal account variables are seperated into months and years, so I combine them into one number that indicates how many years old the person has been employed/ the account has been active"
   ]
  },
  {
   "cell_type": "code",
   "execution_count": 15,
   "id": "794917ae",
   "metadata": {
    "execution": {
     "iopub.execute_input": "2022-10-05T02:57:29.330319Z",
     "iopub.status.busy": "2022-10-05T02:57:29.329999Z",
     "iopub.status.idle": "2022-10-05T02:57:29.336958Z",
     "shell.execute_reply": "2022-10-05T02:57:29.335212Z"
    },
    "papermill": {
     "duration": 0.024774,
     "end_time": "2022-10-05T02:57:29.339504",
     "exception": false,
     "start_time": "2022-10-05T02:57:29.314730",
     "status": "completed"
    },
    "tags": []
   },
   "outputs": [],
   "source": [
    "df['time_employed'] = df.months_employed / 12 + df.years_employed"
   ]
  },
  {
   "cell_type": "code",
   "execution_count": 16,
   "id": "30f8e572",
   "metadata": {
    "execution": {
     "iopub.execute_input": "2022-10-05T02:57:29.369426Z",
     "iopub.status.busy": "2022-10-05T02:57:29.369099Z",
     "iopub.status.idle": "2022-10-05T02:57:29.377272Z",
     "shell.execute_reply": "2022-10-05T02:57:29.375901Z"
    },
    "papermill": {
     "duration": 0.025755,
     "end_time": "2022-10-05T02:57:29.379443",
     "exception": false,
     "start_time": "2022-10-05T02:57:29.353688",
     "status": "completed"
    },
    "tags": []
   },
   "outputs": [],
   "source": [
    "df.drop(['months_employed','years_employed'], axis = 1, inplace = True)"
   ]
  },
  {
   "cell_type": "code",
   "execution_count": 17,
   "id": "4aba3607",
   "metadata": {
    "execution": {
     "iopub.execute_input": "2022-10-05T02:57:29.409297Z",
     "iopub.status.busy": "2022-10-05T02:57:29.408929Z",
     "iopub.status.idle": "2022-10-05T02:57:29.431986Z",
     "shell.execute_reply": "2022-10-05T02:57:29.429855Z"
    },
    "papermill": {
     "duration": 0.040501,
     "end_time": "2022-10-05T02:57:29.434146",
     "exception": false,
     "start_time": "2022-10-05T02:57:29.393645",
     "status": "completed"
    },
    "tags": []
   },
   "outputs": [
    {
     "data": {
      "text/html": [
       "<div>\n",
       "<style scoped>\n",
       "    .dataframe tbody tr th:only-of-type {\n",
       "        vertical-align: middle;\n",
       "    }\n",
       "\n",
       "    .dataframe tbody tr th {\n",
       "        vertical-align: top;\n",
       "    }\n",
       "\n",
       "    .dataframe thead th {\n",
       "        text-align: right;\n",
       "    }\n",
       "</style>\n",
       "<table border=\"1\" class=\"dataframe\">\n",
       "  <thead>\n",
       "    <tr style=\"text-align: right;\">\n",
       "      <th></th>\n",
       "      <th>age</th>\n",
       "      <th>home_owner</th>\n",
       "      <th>income</th>\n",
       "      <th>current_address_year</th>\n",
       "      <th>personal_account_m</th>\n",
       "      <th>personal_account_y</th>\n",
       "      <th>has_debt</th>\n",
       "      <th>amount_requested</th>\n",
       "      <th>risk_score</th>\n",
       "      <th>risk_score_2</th>\n",
       "      <th>...</th>\n",
       "      <th>risk_score_5</th>\n",
       "      <th>ext_quality_score</th>\n",
       "      <th>ext_quality_score_2</th>\n",
       "      <th>inquiries_last_month</th>\n",
       "      <th>e_signed</th>\n",
       "      <th>bi-weekly_pay_schedule</th>\n",
       "      <th>monthly_pay_schedule</th>\n",
       "      <th>semi-monthly_pay_schedule</th>\n",
       "      <th>weekly_pay_schedule</th>\n",
       "      <th>time_employed</th>\n",
       "    </tr>\n",
       "  </thead>\n",
       "  <tbody>\n",
       "    <tr>\n",
       "      <th>0</th>\n",
       "      <td>40</td>\n",
       "      <td>1</td>\n",
       "      <td>3135</td>\n",
       "      <td>3</td>\n",
       "      <td>6</td>\n",
       "      <td>2</td>\n",
       "      <td>1</td>\n",
       "      <td>550</td>\n",
       "      <td>36200</td>\n",
       "      <td>0.737398</td>\n",
       "      <td>...</td>\n",
       "      <td>0.515977</td>\n",
       "      <td>0.580918</td>\n",
       "      <td>0.380918</td>\n",
       "      <td>10</td>\n",
       "      <td>1</td>\n",
       "      <td>1</td>\n",
       "      <td>0</td>\n",
       "      <td>0</td>\n",
       "      <td>0</td>\n",
       "      <td>3.0</td>\n",
       "    </tr>\n",
       "    <tr>\n",
       "      <th>1</th>\n",
       "      <td>61</td>\n",
       "      <td>0</td>\n",
       "      <td>3180</td>\n",
       "      <td>3</td>\n",
       "      <td>2</td>\n",
       "      <td>7</td>\n",
       "      <td>1</td>\n",
       "      <td>600</td>\n",
       "      <td>30150</td>\n",
       "      <td>0.738510</td>\n",
       "      <td>...</td>\n",
       "      <td>0.826402</td>\n",
       "      <td>0.730720</td>\n",
       "      <td>0.630720</td>\n",
       "      <td>9</td>\n",
       "      <td>0</td>\n",
       "      <td>0</td>\n",
       "      <td>0</td>\n",
       "      <td>0</td>\n",
       "      <td>1</td>\n",
       "      <td>6.0</td>\n",
       "    </tr>\n",
       "    <tr>\n",
       "      <th>2</th>\n",
       "      <td>23</td>\n",
       "      <td>0</td>\n",
       "      <td>1540</td>\n",
       "      <td>0</td>\n",
       "      <td>7</td>\n",
       "      <td>1</td>\n",
       "      <td>1</td>\n",
       "      <td>450</td>\n",
       "      <td>34550</td>\n",
       "      <td>0.642993</td>\n",
       "      <td>...</td>\n",
       "      <td>0.762284</td>\n",
       "      <td>0.531712</td>\n",
       "      <td>0.531712</td>\n",
       "      <td>7</td>\n",
       "      <td>0</td>\n",
       "      <td>0</td>\n",
       "      <td>0</td>\n",
       "      <td>0</td>\n",
       "      <td>1</td>\n",
       "      <td>0.5</td>\n",
       "    </tr>\n",
       "    <tr>\n",
       "      <th>3</th>\n",
       "      <td>40</td>\n",
       "      <td>0</td>\n",
       "      <td>5230</td>\n",
       "      <td>1</td>\n",
       "      <td>2</td>\n",
       "      <td>7</td>\n",
       "      <td>1</td>\n",
       "      <td>700</td>\n",
       "      <td>42150</td>\n",
       "      <td>0.665224</td>\n",
       "      <td>...</td>\n",
       "      <td>0.778831</td>\n",
       "      <td>0.792552</td>\n",
       "      <td>0.592552</td>\n",
       "      <td>8</td>\n",
       "      <td>1</td>\n",
       "      <td>1</td>\n",
       "      <td>0</td>\n",
       "      <td>0</td>\n",
       "      <td>0</td>\n",
       "      <td>6.0</td>\n",
       "    </tr>\n",
       "    <tr>\n",
       "      <th>4</th>\n",
       "      <td>33</td>\n",
       "      <td>0</td>\n",
       "      <td>3590</td>\n",
       "      <td>2</td>\n",
       "      <td>2</td>\n",
       "      <td>8</td>\n",
       "      <td>1</td>\n",
       "      <td>1100</td>\n",
       "      <td>53850</td>\n",
       "      <td>0.617361</td>\n",
       "      <td>...</td>\n",
       "      <td>0.665523</td>\n",
       "      <td>0.744634</td>\n",
       "      <td>0.744634</td>\n",
       "      <td>12</td>\n",
       "      <td>0</td>\n",
       "      <td>0</td>\n",
       "      <td>0</td>\n",
       "      <td>1</td>\n",
       "      <td>0</td>\n",
       "      <td>5.0</td>\n",
       "    </tr>\n",
       "    <tr>\n",
       "      <th>...</th>\n",
       "      <td>...</td>\n",
       "      <td>...</td>\n",
       "      <td>...</td>\n",
       "      <td>...</td>\n",
       "      <td>...</td>\n",
       "      <td>...</td>\n",
       "      <td>...</td>\n",
       "      <td>...</td>\n",
       "      <td>...</td>\n",
       "      <td>...</td>\n",
       "      <td>...</td>\n",
       "      <td>...</td>\n",
       "      <td>...</td>\n",
       "      <td>...</td>\n",
       "      <td>...</td>\n",
       "      <td>...</td>\n",
       "      <td>...</td>\n",
       "      <td>...</td>\n",
       "      <td>...</td>\n",
       "      <td>...</td>\n",
       "      <td>...</td>\n",
       "    </tr>\n",
       "    <tr>\n",
       "      <th>17903</th>\n",
       "      <td>31</td>\n",
       "      <td>0</td>\n",
       "      <td>3245</td>\n",
       "      <td>3</td>\n",
       "      <td>2</td>\n",
       "      <td>6</td>\n",
       "      <td>1</td>\n",
       "      <td>700</td>\n",
       "      <td>71700</td>\n",
       "      <td>0.691126</td>\n",
       "      <td>...</td>\n",
       "      <td>0.838012</td>\n",
       "      <td>0.727705</td>\n",
       "      <td>0.627705</td>\n",
       "      <td>2</td>\n",
       "      <td>0</td>\n",
       "      <td>0</td>\n",
       "      <td>1</td>\n",
       "      <td>0</td>\n",
       "      <td>0</td>\n",
       "      <td>5.0</td>\n",
       "    </tr>\n",
       "    <tr>\n",
       "      <th>17904</th>\n",
       "      <td>46</td>\n",
       "      <td>0</td>\n",
       "      <td>6525</td>\n",
       "      <td>1</td>\n",
       "      <td>3</td>\n",
       "      <td>3</td>\n",
       "      <td>1</td>\n",
       "      <td>800</td>\n",
       "      <td>51800</td>\n",
       "      <td>0.648525</td>\n",
       "      <td>...</td>\n",
       "      <td>0.844724</td>\n",
       "      <td>0.774918</td>\n",
       "      <td>0.474918</td>\n",
       "      <td>3</td>\n",
       "      <td>0</td>\n",
       "      <td>1</td>\n",
       "      <td>0</td>\n",
       "      <td>0</td>\n",
       "      <td>0</td>\n",
       "      <td>2.0</td>\n",
       "    </tr>\n",
       "    <tr>\n",
       "      <th>17905</th>\n",
       "      <td>46</td>\n",
       "      <td>0</td>\n",
       "      <td>2685</td>\n",
       "      <td>1</td>\n",
       "      <td>1</td>\n",
       "      <td>8</td>\n",
       "      <td>1</td>\n",
       "      <td>1200</td>\n",
       "      <td>59650</td>\n",
       "      <td>0.677975</td>\n",
       "      <td>...</td>\n",
       "      <td>0.939101</td>\n",
       "      <td>0.472045</td>\n",
       "      <td>0.672045</td>\n",
       "      <td>9</td>\n",
       "      <td>0</td>\n",
       "      <td>0</td>\n",
       "      <td>0</td>\n",
       "      <td>0</td>\n",
       "      <td>1</td>\n",
       "      <td>5.0</td>\n",
       "    </tr>\n",
       "    <tr>\n",
       "      <th>17906</th>\n",
       "      <td>42</td>\n",
       "      <td>0</td>\n",
       "      <td>2515</td>\n",
       "      <td>5</td>\n",
       "      <td>6</td>\n",
       "      <td>1</td>\n",
       "      <td>1</td>\n",
       "      <td>400</td>\n",
       "      <td>80200</td>\n",
       "      <td>0.642741</td>\n",
       "      <td>...</td>\n",
       "      <td>0.686823</td>\n",
       "      <td>0.406568</td>\n",
       "      <td>0.406568</td>\n",
       "      <td>3</td>\n",
       "      <td>1</td>\n",
       "      <td>1</td>\n",
       "      <td>0</td>\n",
       "      <td>0</td>\n",
       "      <td>0</td>\n",
       "      <td>3.0</td>\n",
       "    </tr>\n",
       "    <tr>\n",
       "      <th>17907</th>\n",
       "      <td>29</td>\n",
       "      <td>1</td>\n",
       "      <td>2665</td>\n",
       "      <td>10</td>\n",
       "      <td>4</td>\n",
       "      <td>1</td>\n",
       "      <td>1</td>\n",
       "      <td>600</td>\n",
       "      <td>64950</td>\n",
       "      <td>0.720889</td>\n",
       "      <td>...</td>\n",
       "      <td>0.631619</td>\n",
       "      <td>0.846163</td>\n",
       "      <td>0.846163</td>\n",
       "      <td>4</td>\n",
       "      <td>1</td>\n",
       "      <td>0</td>\n",
       "      <td>0</td>\n",
       "      <td>0</td>\n",
       "      <td>1</td>\n",
       "      <td>4.0</td>\n",
       "    </tr>\n",
       "  </tbody>\n",
       "</table>\n",
       "<p>17908 rows × 22 columns</p>\n",
       "</div>"
      ],
      "text/plain": [
       "       age  home_owner  income  current_address_year  personal_account_m  \\\n",
       "0       40           1    3135                     3                   6   \n",
       "1       61           0    3180                     3                   2   \n",
       "2       23           0    1540                     0                   7   \n",
       "3       40           0    5230                     1                   2   \n",
       "4       33           0    3590                     2                   2   \n",
       "...    ...         ...     ...                   ...                 ...   \n",
       "17903   31           0    3245                     3                   2   \n",
       "17904   46           0    6525                     1                   3   \n",
       "17905   46           0    2685                     1                   1   \n",
       "17906   42           0    2515                     5                   6   \n",
       "17907   29           1    2665                    10                   4   \n",
       "\n",
       "       personal_account_y  has_debt  amount_requested  risk_score  \\\n",
       "0                       2         1               550       36200   \n",
       "1                       7         1               600       30150   \n",
       "2                       1         1               450       34550   \n",
       "3                       7         1               700       42150   \n",
       "4                       8         1              1100       53850   \n",
       "...                   ...       ...               ...         ...   \n",
       "17903                   6         1               700       71700   \n",
       "17904                   3         1               800       51800   \n",
       "17905                   8         1              1200       59650   \n",
       "17906                   1         1               400       80200   \n",
       "17907                   1         1               600       64950   \n",
       "\n",
       "       risk_score_2  ...  risk_score_5  ext_quality_score  \\\n",
       "0          0.737398  ...      0.515977           0.580918   \n",
       "1          0.738510  ...      0.826402           0.730720   \n",
       "2          0.642993  ...      0.762284           0.531712   \n",
       "3          0.665224  ...      0.778831           0.792552   \n",
       "4          0.617361  ...      0.665523           0.744634   \n",
       "...             ...  ...           ...                ...   \n",
       "17903      0.691126  ...      0.838012           0.727705   \n",
       "17904      0.648525  ...      0.844724           0.774918   \n",
       "17905      0.677975  ...      0.939101           0.472045   \n",
       "17906      0.642741  ...      0.686823           0.406568   \n",
       "17907      0.720889  ...      0.631619           0.846163   \n",
       "\n",
       "       ext_quality_score_2  inquiries_last_month  e_signed  \\\n",
       "0                 0.380918                    10         1   \n",
       "1                 0.630720                     9         0   \n",
       "2                 0.531712                     7         0   \n",
       "3                 0.592552                     8         1   \n",
       "4                 0.744634                    12         0   \n",
       "...                    ...                   ...       ...   \n",
       "17903             0.627705                     2         0   \n",
       "17904             0.474918                     3         0   \n",
       "17905             0.672045                     9         0   \n",
       "17906             0.406568                     3         1   \n",
       "17907             0.846163                     4         1   \n",
       "\n",
       "       bi-weekly_pay_schedule  monthly_pay_schedule  \\\n",
       "0                           1                     0   \n",
       "1                           0                     0   \n",
       "2                           0                     0   \n",
       "3                           1                     0   \n",
       "4                           0                     0   \n",
       "...                       ...                   ...   \n",
       "17903                       0                     1   \n",
       "17904                       1                     0   \n",
       "17905                       0                     0   \n",
       "17906                       1                     0   \n",
       "17907                       0                     0   \n",
       "\n",
       "       semi-monthly_pay_schedule  weekly_pay_schedule  time_employed  \n",
       "0                              0                    0            3.0  \n",
       "1                              0                    1            6.0  \n",
       "2                              0                    1            0.5  \n",
       "3                              0                    0            6.0  \n",
       "4                              1                    0            5.0  \n",
       "...                          ...                  ...            ...  \n",
       "17903                          0                    0            5.0  \n",
       "17904                          0                    0            2.0  \n",
       "17905                          0                    1            5.0  \n",
       "17906                          0                    0            3.0  \n",
       "17907                          0                    1            4.0  \n",
       "\n",
       "[17908 rows x 22 columns]"
      ]
     },
     "execution_count": 17,
     "metadata": {},
     "output_type": "execute_result"
    }
   ],
   "source": [
    "df"
   ]
  },
  {
   "cell_type": "code",
   "execution_count": 18,
   "id": "725cd85e",
   "metadata": {
    "execution": {
     "iopub.execute_input": "2022-10-05T02:57:29.464384Z",
     "iopub.status.busy": "2022-10-05T02:57:29.464046Z",
     "iopub.status.idle": "2022-10-05T02:57:29.472666Z",
     "shell.execute_reply": "2022-10-05T02:57:29.471367Z"
    },
    "papermill": {
     "duration": 0.026366,
     "end_time": "2022-10-05T02:57:29.474844",
     "exception": false,
     "start_time": "2022-10-05T02:57:29.448478",
     "status": "completed"
    },
    "tags": []
   },
   "outputs": [],
   "source": [
    "df['time_personal_account'] = df.personal_account_m / 12 + df.personal_account_y"
   ]
  },
  {
   "cell_type": "code",
   "execution_count": 19,
   "id": "c51dd1cf",
   "metadata": {
    "execution": {
     "iopub.execute_input": "2022-10-05T02:57:29.506310Z",
     "iopub.status.busy": "2022-10-05T02:57:29.505742Z",
     "iopub.status.idle": "2022-10-05T02:57:29.511047Z",
     "shell.execute_reply": "2022-10-05T02:57:29.510409Z"
    },
    "papermill": {
     "duration": 0.023726,
     "end_time": "2022-10-05T02:57:29.513281",
     "exception": false,
     "start_time": "2022-10-05T02:57:29.489555",
     "status": "completed"
    },
    "tags": []
   },
   "outputs": [],
   "source": [
    "df.drop(['personal_account_m','personal_account_y'], axis = 1, inplace = True)"
   ]
  },
  {
   "cell_type": "code",
   "execution_count": 20,
   "id": "89411e46",
   "metadata": {
    "execution": {
     "iopub.execute_input": "2022-10-05T02:57:29.545290Z",
     "iopub.status.busy": "2022-10-05T02:57:29.544374Z",
     "iopub.status.idle": "2022-10-05T02:57:29.568618Z",
     "shell.execute_reply": "2022-10-05T02:57:29.567358Z"
    },
    "papermill": {
     "duration": 0.041948,
     "end_time": "2022-10-05T02:57:29.570423",
     "exception": false,
     "start_time": "2022-10-05T02:57:29.528475",
     "status": "completed"
    },
    "tags": []
   },
   "outputs": [
    {
     "data": {
      "text/html": [
       "<div>\n",
       "<style scoped>\n",
       "    .dataframe tbody tr th:only-of-type {\n",
       "        vertical-align: middle;\n",
       "    }\n",
       "\n",
       "    .dataframe tbody tr th {\n",
       "        vertical-align: top;\n",
       "    }\n",
       "\n",
       "    .dataframe thead th {\n",
       "        text-align: right;\n",
       "    }\n",
       "</style>\n",
       "<table border=\"1\" class=\"dataframe\">\n",
       "  <thead>\n",
       "    <tr style=\"text-align: right;\">\n",
       "      <th></th>\n",
       "      <th>age</th>\n",
       "      <th>home_owner</th>\n",
       "      <th>income</th>\n",
       "      <th>current_address_year</th>\n",
       "      <th>has_debt</th>\n",
       "      <th>amount_requested</th>\n",
       "      <th>risk_score</th>\n",
       "      <th>risk_score_2</th>\n",
       "      <th>risk_score_3</th>\n",
       "      <th>risk_score_4</th>\n",
       "      <th>...</th>\n",
       "      <th>ext_quality_score</th>\n",
       "      <th>ext_quality_score_2</th>\n",
       "      <th>inquiries_last_month</th>\n",
       "      <th>e_signed</th>\n",
       "      <th>bi-weekly_pay_schedule</th>\n",
       "      <th>monthly_pay_schedule</th>\n",
       "      <th>semi-monthly_pay_schedule</th>\n",
       "      <th>weekly_pay_schedule</th>\n",
       "      <th>time_employed</th>\n",
       "      <th>time_personal_account</th>\n",
       "    </tr>\n",
       "  </thead>\n",
       "  <tbody>\n",
       "    <tr>\n",
       "      <th>0</th>\n",
       "      <td>40</td>\n",
       "      <td>1</td>\n",
       "      <td>3135</td>\n",
       "      <td>3</td>\n",
       "      <td>1</td>\n",
       "      <td>550</td>\n",
       "      <td>36200</td>\n",
       "      <td>0.737398</td>\n",
       "      <td>0.903517</td>\n",
       "      <td>0.487712</td>\n",
       "      <td>...</td>\n",
       "      <td>0.580918</td>\n",
       "      <td>0.380918</td>\n",
       "      <td>10</td>\n",
       "      <td>1</td>\n",
       "      <td>1</td>\n",
       "      <td>0</td>\n",
       "      <td>0</td>\n",
       "      <td>0</td>\n",
       "      <td>3.0</td>\n",
       "      <td>2.500000</td>\n",
       "    </tr>\n",
       "    <tr>\n",
       "      <th>1</th>\n",
       "      <td>61</td>\n",
       "      <td>0</td>\n",
       "      <td>3180</td>\n",
       "      <td>3</td>\n",
       "      <td>1</td>\n",
       "      <td>600</td>\n",
       "      <td>30150</td>\n",
       "      <td>0.738510</td>\n",
       "      <td>0.881027</td>\n",
       "      <td>0.713423</td>\n",
       "      <td>...</td>\n",
       "      <td>0.730720</td>\n",
       "      <td>0.630720</td>\n",
       "      <td>9</td>\n",
       "      <td>0</td>\n",
       "      <td>0</td>\n",
       "      <td>0</td>\n",
       "      <td>0</td>\n",
       "      <td>1</td>\n",
       "      <td>6.0</td>\n",
       "      <td>7.166667</td>\n",
       "    </tr>\n",
       "    <tr>\n",
       "      <th>2</th>\n",
       "      <td>23</td>\n",
       "      <td>0</td>\n",
       "      <td>1540</td>\n",
       "      <td>0</td>\n",
       "      <td>1</td>\n",
       "      <td>450</td>\n",
       "      <td>34550</td>\n",
       "      <td>0.642993</td>\n",
       "      <td>0.766554</td>\n",
       "      <td>0.595018</td>\n",
       "      <td>...</td>\n",
       "      <td>0.531712</td>\n",
       "      <td>0.531712</td>\n",
       "      <td>7</td>\n",
       "      <td>0</td>\n",
       "      <td>0</td>\n",
       "      <td>0</td>\n",
       "      <td>0</td>\n",
       "      <td>1</td>\n",
       "      <td>0.5</td>\n",
       "      <td>1.583333</td>\n",
       "    </tr>\n",
       "    <tr>\n",
       "      <th>3</th>\n",
       "      <td>40</td>\n",
       "      <td>0</td>\n",
       "      <td>5230</td>\n",
       "      <td>1</td>\n",
       "      <td>1</td>\n",
       "      <td>700</td>\n",
       "      <td>42150</td>\n",
       "      <td>0.665224</td>\n",
       "      <td>0.960832</td>\n",
       "      <td>0.767828</td>\n",
       "      <td>...</td>\n",
       "      <td>0.792552</td>\n",
       "      <td>0.592552</td>\n",
       "      <td>8</td>\n",
       "      <td>1</td>\n",
       "      <td>1</td>\n",
       "      <td>0</td>\n",
       "      <td>0</td>\n",
       "      <td>0</td>\n",
       "      <td>6.0</td>\n",
       "      <td>7.166667</td>\n",
       "    </tr>\n",
       "    <tr>\n",
       "      <th>4</th>\n",
       "      <td>33</td>\n",
       "      <td>0</td>\n",
       "      <td>3590</td>\n",
       "      <td>2</td>\n",
       "      <td>1</td>\n",
       "      <td>1100</td>\n",
       "      <td>53850</td>\n",
       "      <td>0.617361</td>\n",
       "      <td>0.857560</td>\n",
       "      <td>0.613487</td>\n",
       "      <td>...</td>\n",
       "      <td>0.744634</td>\n",
       "      <td>0.744634</td>\n",
       "      <td>12</td>\n",
       "      <td>0</td>\n",
       "      <td>0</td>\n",
       "      <td>0</td>\n",
       "      <td>1</td>\n",
       "      <td>0</td>\n",
       "      <td>5.0</td>\n",
       "      <td>8.166667</td>\n",
       "    </tr>\n",
       "    <tr>\n",
       "      <th>...</th>\n",
       "      <td>...</td>\n",
       "      <td>...</td>\n",
       "      <td>...</td>\n",
       "      <td>...</td>\n",
       "      <td>...</td>\n",
       "      <td>...</td>\n",
       "      <td>...</td>\n",
       "      <td>...</td>\n",
       "      <td>...</td>\n",
       "      <td>...</td>\n",
       "      <td>...</td>\n",
       "      <td>...</td>\n",
       "      <td>...</td>\n",
       "      <td>...</td>\n",
       "      <td>...</td>\n",
       "      <td>...</td>\n",
       "      <td>...</td>\n",
       "      <td>...</td>\n",
       "      <td>...</td>\n",
       "      <td>...</td>\n",
       "      <td>...</td>\n",
       "    </tr>\n",
       "    <tr>\n",
       "      <th>17903</th>\n",
       "      <td>31</td>\n",
       "      <td>0</td>\n",
       "      <td>3245</td>\n",
       "      <td>3</td>\n",
       "      <td>1</td>\n",
       "      <td>700</td>\n",
       "      <td>71700</td>\n",
       "      <td>0.691126</td>\n",
       "      <td>0.928196</td>\n",
       "      <td>0.664112</td>\n",
       "      <td>...</td>\n",
       "      <td>0.727705</td>\n",
       "      <td>0.627705</td>\n",
       "      <td>2</td>\n",
       "      <td>0</td>\n",
       "      <td>0</td>\n",
       "      <td>1</td>\n",
       "      <td>0</td>\n",
       "      <td>0</td>\n",
       "      <td>5.0</td>\n",
       "      <td>6.166667</td>\n",
       "    </tr>\n",
       "    <tr>\n",
       "      <th>17904</th>\n",
       "      <td>46</td>\n",
       "      <td>0</td>\n",
       "      <td>6525</td>\n",
       "      <td>1</td>\n",
       "      <td>1</td>\n",
       "      <td>800</td>\n",
       "      <td>51800</td>\n",
       "      <td>0.648525</td>\n",
       "      <td>0.970832</td>\n",
       "      <td>0.699241</td>\n",
       "      <td>...</td>\n",
       "      <td>0.774918</td>\n",
       "      <td>0.474918</td>\n",
       "      <td>3</td>\n",
       "      <td>0</td>\n",
       "      <td>1</td>\n",
       "      <td>0</td>\n",
       "      <td>0</td>\n",
       "      <td>0</td>\n",
       "      <td>2.0</td>\n",
       "      <td>3.250000</td>\n",
       "    </tr>\n",
       "    <tr>\n",
       "      <th>17905</th>\n",
       "      <td>46</td>\n",
       "      <td>0</td>\n",
       "      <td>2685</td>\n",
       "      <td>1</td>\n",
       "      <td>1</td>\n",
       "      <td>1200</td>\n",
       "      <td>59650</td>\n",
       "      <td>0.677975</td>\n",
       "      <td>0.918141</td>\n",
       "      <td>0.687981</td>\n",
       "      <td>...</td>\n",
       "      <td>0.472045</td>\n",
       "      <td>0.672045</td>\n",
       "      <td>9</td>\n",
       "      <td>0</td>\n",
       "      <td>0</td>\n",
       "      <td>0</td>\n",
       "      <td>0</td>\n",
       "      <td>1</td>\n",
       "      <td>5.0</td>\n",
       "      <td>8.083333</td>\n",
       "    </tr>\n",
       "    <tr>\n",
       "      <th>17906</th>\n",
       "      <td>42</td>\n",
       "      <td>0</td>\n",
       "      <td>2515</td>\n",
       "      <td>5</td>\n",
       "      <td>1</td>\n",
       "      <td>400</td>\n",
       "      <td>80200</td>\n",
       "      <td>0.642741</td>\n",
       "      <td>0.885684</td>\n",
       "      <td>0.456448</td>\n",
       "      <td>...</td>\n",
       "      <td>0.406568</td>\n",
       "      <td>0.406568</td>\n",
       "      <td>3</td>\n",
       "      <td>1</td>\n",
       "      <td>1</td>\n",
       "      <td>0</td>\n",
       "      <td>0</td>\n",
       "      <td>0</td>\n",
       "      <td>3.0</td>\n",
       "      <td>1.500000</td>\n",
       "    </tr>\n",
       "    <tr>\n",
       "      <th>17907</th>\n",
       "      <td>29</td>\n",
       "      <td>1</td>\n",
       "      <td>2665</td>\n",
       "      <td>10</td>\n",
       "      <td>1</td>\n",
       "      <td>600</td>\n",
       "      <td>64950</td>\n",
       "      <td>0.720889</td>\n",
       "      <td>0.874372</td>\n",
       "      <td>0.505565</td>\n",
       "      <td>...</td>\n",
       "      <td>0.846163</td>\n",
       "      <td>0.846163</td>\n",
       "      <td>4</td>\n",
       "      <td>1</td>\n",
       "      <td>0</td>\n",
       "      <td>0</td>\n",
       "      <td>0</td>\n",
       "      <td>1</td>\n",
       "      <td>4.0</td>\n",
       "      <td>1.333333</td>\n",
       "    </tr>\n",
       "  </tbody>\n",
       "</table>\n",
       "<p>17908 rows × 21 columns</p>\n",
       "</div>"
      ],
      "text/plain": [
       "       age  home_owner  income  current_address_year  has_debt  \\\n",
       "0       40           1    3135                     3         1   \n",
       "1       61           0    3180                     3         1   \n",
       "2       23           0    1540                     0         1   \n",
       "3       40           0    5230                     1         1   \n",
       "4       33           0    3590                     2         1   \n",
       "...    ...         ...     ...                   ...       ...   \n",
       "17903   31           0    3245                     3         1   \n",
       "17904   46           0    6525                     1         1   \n",
       "17905   46           0    2685                     1         1   \n",
       "17906   42           0    2515                     5         1   \n",
       "17907   29           1    2665                    10         1   \n",
       "\n",
       "       amount_requested  risk_score  risk_score_2  risk_score_3  risk_score_4  \\\n",
       "0                   550       36200      0.737398      0.903517      0.487712   \n",
       "1                   600       30150      0.738510      0.881027      0.713423   \n",
       "2                   450       34550      0.642993      0.766554      0.595018   \n",
       "3                   700       42150      0.665224      0.960832      0.767828   \n",
       "4                  1100       53850      0.617361      0.857560      0.613487   \n",
       "...                 ...         ...           ...           ...           ...   \n",
       "17903               700       71700      0.691126      0.928196      0.664112   \n",
       "17904               800       51800      0.648525      0.970832      0.699241   \n",
       "17905              1200       59650      0.677975      0.918141      0.687981   \n",
       "17906               400       80200      0.642741      0.885684      0.456448   \n",
       "17907               600       64950      0.720889      0.874372      0.505565   \n",
       "\n",
       "       ...  ext_quality_score  ext_quality_score_2  inquiries_last_month  \\\n",
       "0      ...           0.580918             0.380918                    10   \n",
       "1      ...           0.730720             0.630720                     9   \n",
       "2      ...           0.531712             0.531712                     7   \n",
       "3      ...           0.792552             0.592552                     8   \n",
       "4      ...           0.744634             0.744634                    12   \n",
       "...    ...                ...                  ...                   ...   \n",
       "17903  ...           0.727705             0.627705                     2   \n",
       "17904  ...           0.774918             0.474918                     3   \n",
       "17905  ...           0.472045             0.672045                     9   \n",
       "17906  ...           0.406568             0.406568                     3   \n",
       "17907  ...           0.846163             0.846163                     4   \n",
       "\n",
       "       e_signed  bi-weekly_pay_schedule  monthly_pay_schedule  \\\n",
       "0             1                       1                     0   \n",
       "1             0                       0                     0   \n",
       "2             0                       0                     0   \n",
       "3             1                       1                     0   \n",
       "4             0                       0                     0   \n",
       "...         ...                     ...                   ...   \n",
       "17903         0                       0                     1   \n",
       "17904         0                       1                     0   \n",
       "17905         0                       0                     0   \n",
       "17906         1                       1                     0   \n",
       "17907         1                       0                     0   \n",
       "\n",
       "       semi-monthly_pay_schedule  weekly_pay_schedule  time_employed  \\\n",
       "0                              0                    0            3.0   \n",
       "1                              0                    1            6.0   \n",
       "2                              0                    1            0.5   \n",
       "3                              0                    0            6.0   \n",
       "4                              1                    0            5.0   \n",
       "...                          ...                  ...            ...   \n",
       "17903                          0                    0            5.0   \n",
       "17904                          0                    0            2.0   \n",
       "17905                          0                    1            5.0   \n",
       "17906                          0                    0            3.0   \n",
       "17907                          0                    1            4.0   \n",
       "\n",
       "       time_personal_account  \n",
       "0                   2.500000  \n",
       "1                   7.166667  \n",
       "2                   1.583333  \n",
       "3                   7.166667  \n",
       "4                   8.166667  \n",
       "...                      ...  \n",
       "17903               6.166667  \n",
       "17904               3.250000  \n",
       "17905               8.083333  \n",
       "17906               1.500000  \n",
       "17907               1.333333  \n",
       "\n",
       "[17908 rows x 21 columns]"
      ]
     },
     "execution_count": 20,
     "metadata": {},
     "output_type": "execute_result"
    }
   ],
   "source": [
    "df"
   ]
  },
  {
   "cell_type": "markdown",
   "id": "18276a83",
   "metadata": {
    "papermill": {
     "duration": 0.014795,
     "end_time": "2022-10-05T02:57:29.601010",
     "exception": false,
     "start_time": "2022-10-05T02:57:29.586215",
     "status": "completed"
    },
    "tags": []
   },
   "source": [
    "I rearrange the columns of our dataframe to put our target, e_signed, at the end for aesthetic purposes"
   ]
  },
  {
   "cell_type": "code",
   "execution_count": 21,
   "id": "a545918a",
   "metadata": {
    "execution": {
     "iopub.execute_input": "2022-10-05T02:57:29.632806Z",
     "iopub.status.busy": "2022-10-05T02:57:29.632483Z",
     "iopub.status.idle": "2022-10-05T02:57:29.637898Z",
     "shell.execute_reply": "2022-10-05T02:57:29.637308Z"
    },
    "papermill": {
     "duration": 0.02361,
     "end_time": "2022-10-05T02:57:29.639903",
     "exception": false,
     "start_time": "2022-10-05T02:57:29.616293",
     "status": "completed"
    },
    "tags": []
   },
   "outputs": [],
   "source": [
    "df = df[[c for c in df if c not in ['e_signed']] + ['e_signed']]"
   ]
  },
  {
   "cell_type": "code",
   "execution_count": 22,
   "id": "92df38cd",
   "metadata": {
    "execution": {
     "iopub.execute_input": "2022-10-05T02:57:29.671717Z",
     "iopub.status.busy": "2022-10-05T02:57:29.670961Z",
     "iopub.status.idle": "2022-10-05T02:57:29.694870Z",
     "shell.execute_reply": "2022-10-05T02:57:29.693749Z"
    },
    "papermill": {
     "duration": 0.0422,
     "end_time": "2022-10-05T02:57:29.697080",
     "exception": false,
     "start_time": "2022-10-05T02:57:29.654880",
     "status": "completed"
    },
    "tags": []
   },
   "outputs": [
    {
     "data": {
      "text/html": [
       "<div>\n",
       "<style scoped>\n",
       "    .dataframe tbody tr th:only-of-type {\n",
       "        vertical-align: middle;\n",
       "    }\n",
       "\n",
       "    .dataframe tbody tr th {\n",
       "        vertical-align: top;\n",
       "    }\n",
       "\n",
       "    .dataframe thead th {\n",
       "        text-align: right;\n",
       "    }\n",
       "</style>\n",
       "<table border=\"1\" class=\"dataframe\">\n",
       "  <thead>\n",
       "    <tr style=\"text-align: right;\">\n",
       "      <th></th>\n",
       "      <th>age</th>\n",
       "      <th>home_owner</th>\n",
       "      <th>income</th>\n",
       "      <th>current_address_year</th>\n",
       "      <th>has_debt</th>\n",
       "      <th>amount_requested</th>\n",
       "      <th>risk_score</th>\n",
       "      <th>risk_score_2</th>\n",
       "      <th>risk_score_3</th>\n",
       "      <th>risk_score_4</th>\n",
       "      <th>...</th>\n",
       "      <th>ext_quality_score</th>\n",
       "      <th>ext_quality_score_2</th>\n",
       "      <th>inquiries_last_month</th>\n",
       "      <th>bi-weekly_pay_schedule</th>\n",
       "      <th>monthly_pay_schedule</th>\n",
       "      <th>semi-monthly_pay_schedule</th>\n",
       "      <th>weekly_pay_schedule</th>\n",
       "      <th>time_employed</th>\n",
       "      <th>time_personal_account</th>\n",
       "      <th>e_signed</th>\n",
       "    </tr>\n",
       "  </thead>\n",
       "  <tbody>\n",
       "    <tr>\n",
       "      <th>0</th>\n",
       "      <td>40</td>\n",
       "      <td>1</td>\n",
       "      <td>3135</td>\n",
       "      <td>3</td>\n",
       "      <td>1</td>\n",
       "      <td>550</td>\n",
       "      <td>36200</td>\n",
       "      <td>0.737398</td>\n",
       "      <td>0.903517</td>\n",
       "      <td>0.487712</td>\n",
       "      <td>...</td>\n",
       "      <td>0.580918</td>\n",
       "      <td>0.380918</td>\n",
       "      <td>10</td>\n",
       "      <td>1</td>\n",
       "      <td>0</td>\n",
       "      <td>0</td>\n",
       "      <td>0</td>\n",
       "      <td>3.0</td>\n",
       "      <td>2.500000</td>\n",
       "      <td>1</td>\n",
       "    </tr>\n",
       "    <tr>\n",
       "      <th>1</th>\n",
       "      <td>61</td>\n",
       "      <td>0</td>\n",
       "      <td>3180</td>\n",
       "      <td>3</td>\n",
       "      <td>1</td>\n",
       "      <td>600</td>\n",
       "      <td>30150</td>\n",
       "      <td>0.738510</td>\n",
       "      <td>0.881027</td>\n",
       "      <td>0.713423</td>\n",
       "      <td>...</td>\n",
       "      <td>0.730720</td>\n",
       "      <td>0.630720</td>\n",
       "      <td>9</td>\n",
       "      <td>0</td>\n",
       "      <td>0</td>\n",
       "      <td>0</td>\n",
       "      <td>1</td>\n",
       "      <td>6.0</td>\n",
       "      <td>7.166667</td>\n",
       "      <td>0</td>\n",
       "    </tr>\n",
       "    <tr>\n",
       "      <th>2</th>\n",
       "      <td>23</td>\n",
       "      <td>0</td>\n",
       "      <td>1540</td>\n",
       "      <td>0</td>\n",
       "      <td>1</td>\n",
       "      <td>450</td>\n",
       "      <td>34550</td>\n",
       "      <td>0.642993</td>\n",
       "      <td>0.766554</td>\n",
       "      <td>0.595018</td>\n",
       "      <td>...</td>\n",
       "      <td>0.531712</td>\n",
       "      <td>0.531712</td>\n",
       "      <td>7</td>\n",
       "      <td>0</td>\n",
       "      <td>0</td>\n",
       "      <td>0</td>\n",
       "      <td>1</td>\n",
       "      <td>0.5</td>\n",
       "      <td>1.583333</td>\n",
       "      <td>0</td>\n",
       "    </tr>\n",
       "    <tr>\n",
       "      <th>3</th>\n",
       "      <td>40</td>\n",
       "      <td>0</td>\n",
       "      <td>5230</td>\n",
       "      <td>1</td>\n",
       "      <td>1</td>\n",
       "      <td>700</td>\n",
       "      <td>42150</td>\n",
       "      <td>0.665224</td>\n",
       "      <td>0.960832</td>\n",
       "      <td>0.767828</td>\n",
       "      <td>...</td>\n",
       "      <td>0.792552</td>\n",
       "      <td>0.592552</td>\n",
       "      <td>8</td>\n",
       "      <td>1</td>\n",
       "      <td>0</td>\n",
       "      <td>0</td>\n",
       "      <td>0</td>\n",
       "      <td>6.0</td>\n",
       "      <td>7.166667</td>\n",
       "      <td>1</td>\n",
       "    </tr>\n",
       "    <tr>\n",
       "      <th>4</th>\n",
       "      <td>33</td>\n",
       "      <td>0</td>\n",
       "      <td>3590</td>\n",
       "      <td>2</td>\n",
       "      <td>1</td>\n",
       "      <td>1100</td>\n",
       "      <td>53850</td>\n",
       "      <td>0.617361</td>\n",
       "      <td>0.857560</td>\n",
       "      <td>0.613487</td>\n",
       "      <td>...</td>\n",
       "      <td>0.744634</td>\n",
       "      <td>0.744634</td>\n",
       "      <td>12</td>\n",
       "      <td>0</td>\n",
       "      <td>0</td>\n",
       "      <td>1</td>\n",
       "      <td>0</td>\n",
       "      <td>5.0</td>\n",
       "      <td>8.166667</td>\n",
       "      <td>0</td>\n",
       "    </tr>\n",
       "    <tr>\n",
       "      <th>...</th>\n",
       "      <td>...</td>\n",
       "      <td>...</td>\n",
       "      <td>...</td>\n",
       "      <td>...</td>\n",
       "      <td>...</td>\n",
       "      <td>...</td>\n",
       "      <td>...</td>\n",
       "      <td>...</td>\n",
       "      <td>...</td>\n",
       "      <td>...</td>\n",
       "      <td>...</td>\n",
       "      <td>...</td>\n",
       "      <td>...</td>\n",
       "      <td>...</td>\n",
       "      <td>...</td>\n",
       "      <td>...</td>\n",
       "      <td>...</td>\n",
       "      <td>...</td>\n",
       "      <td>...</td>\n",
       "      <td>...</td>\n",
       "      <td>...</td>\n",
       "    </tr>\n",
       "    <tr>\n",
       "      <th>17903</th>\n",
       "      <td>31</td>\n",
       "      <td>0</td>\n",
       "      <td>3245</td>\n",
       "      <td>3</td>\n",
       "      <td>1</td>\n",
       "      <td>700</td>\n",
       "      <td>71700</td>\n",
       "      <td>0.691126</td>\n",
       "      <td>0.928196</td>\n",
       "      <td>0.664112</td>\n",
       "      <td>...</td>\n",
       "      <td>0.727705</td>\n",
       "      <td>0.627705</td>\n",
       "      <td>2</td>\n",
       "      <td>0</td>\n",
       "      <td>1</td>\n",
       "      <td>0</td>\n",
       "      <td>0</td>\n",
       "      <td>5.0</td>\n",
       "      <td>6.166667</td>\n",
       "      <td>0</td>\n",
       "    </tr>\n",
       "    <tr>\n",
       "      <th>17904</th>\n",
       "      <td>46</td>\n",
       "      <td>0</td>\n",
       "      <td>6525</td>\n",
       "      <td>1</td>\n",
       "      <td>1</td>\n",
       "      <td>800</td>\n",
       "      <td>51800</td>\n",
       "      <td>0.648525</td>\n",
       "      <td>0.970832</td>\n",
       "      <td>0.699241</td>\n",
       "      <td>...</td>\n",
       "      <td>0.774918</td>\n",
       "      <td>0.474918</td>\n",
       "      <td>3</td>\n",
       "      <td>1</td>\n",
       "      <td>0</td>\n",
       "      <td>0</td>\n",
       "      <td>0</td>\n",
       "      <td>2.0</td>\n",
       "      <td>3.250000</td>\n",
       "      <td>0</td>\n",
       "    </tr>\n",
       "    <tr>\n",
       "      <th>17905</th>\n",
       "      <td>46</td>\n",
       "      <td>0</td>\n",
       "      <td>2685</td>\n",
       "      <td>1</td>\n",
       "      <td>1</td>\n",
       "      <td>1200</td>\n",
       "      <td>59650</td>\n",
       "      <td>0.677975</td>\n",
       "      <td>0.918141</td>\n",
       "      <td>0.687981</td>\n",
       "      <td>...</td>\n",
       "      <td>0.472045</td>\n",
       "      <td>0.672045</td>\n",
       "      <td>9</td>\n",
       "      <td>0</td>\n",
       "      <td>0</td>\n",
       "      <td>0</td>\n",
       "      <td>1</td>\n",
       "      <td>5.0</td>\n",
       "      <td>8.083333</td>\n",
       "      <td>0</td>\n",
       "    </tr>\n",
       "    <tr>\n",
       "      <th>17906</th>\n",
       "      <td>42</td>\n",
       "      <td>0</td>\n",
       "      <td>2515</td>\n",
       "      <td>5</td>\n",
       "      <td>1</td>\n",
       "      <td>400</td>\n",
       "      <td>80200</td>\n",
       "      <td>0.642741</td>\n",
       "      <td>0.885684</td>\n",
       "      <td>0.456448</td>\n",
       "      <td>...</td>\n",
       "      <td>0.406568</td>\n",
       "      <td>0.406568</td>\n",
       "      <td>3</td>\n",
       "      <td>1</td>\n",
       "      <td>0</td>\n",
       "      <td>0</td>\n",
       "      <td>0</td>\n",
       "      <td>3.0</td>\n",
       "      <td>1.500000</td>\n",
       "      <td>1</td>\n",
       "    </tr>\n",
       "    <tr>\n",
       "      <th>17907</th>\n",
       "      <td>29</td>\n",
       "      <td>1</td>\n",
       "      <td>2665</td>\n",
       "      <td>10</td>\n",
       "      <td>1</td>\n",
       "      <td>600</td>\n",
       "      <td>64950</td>\n",
       "      <td>0.720889</td>\n",
       "      <td>0.874372</td>\n",
       "      <td>0.505565</td>\n",
       "      <td>...</td>\n",
       "      <td>0.846163</td>\n",
       "      <td>0.846163</td>\n",
       "      <td>4</td>\n",
       "      <td>0</td>\n",
       "      <td>0</td>\n",
       "      <td>0</td>\n",
       "      <td>1</td>\n",
       "      <td>4.0</td>\n",
       "      <td>1.333333</td>\n",
       "      <td>1</td>\n",
       "    </tr>\n",
       "  </tbody>\n",
       "</table>\n",
       "<p>17908 rows × 21 columns</p>\n",
       "</div>"
      ],
      "text/plain": [
       "       age  home_owner  income  current_address_year  has_debt  \\\n",
       "0       40           1    3135                     3         1   \n",
       "1       61           0    3180                     3         1   \n",
       "2       23           0    1540                     0         1   \n",
       "3       40           0    5230                     1         1   \n",
       "4       33           0    3590                     2         1   \n",
       "...    ...         ...     ...                   ...       ...   \n",
       "17903   31           0    3245                     3         1   \n",
       "17904   46           0    6525                     1         1   \n",
       "17905   46           0    2685                     1         1   \n",
       "17906   42           0    2515                     5         1   \n",
       "17907   29           1    2665                    10         1   \n",
       "\n",
       "       amount_requested  risk_score  risk_score_2  risk_score_3  risk_score_4  \\\n",
       "0                   550       36200      0.737398      0.903517      0.487712   \n",
       "1                   600       30150      0.738510      0.881027      0.713423   \n",
       "2                   450       34550      0.642993      0.766554      0.595018   \n",
       "3                   700       42150      0.665224      0.960832      0.767828   \n",
       "4                  1100       53850      0.617361      0.857560      0.613487   \n",
       "...                 ...         ...           ...           ...           ...   \n",
       "17903               700       71700      0.691126      0.928196      0.664112   \n",
       "17904               800       51800      0.648525      0.970832      0.699241   \n",
       "17905              1200       59650      0.677975      0.918141      0.687981   \n",
       "17906               400       80200      0.642741      0.885684      0.456448   \n",
       "17907               600       64950      0.720889      0.874372      0.505565   \n",
       "\n",
       "       ...  ext_quality_score  ext_quality_score_2  inquiries_last_month  \\\n",
       "0      ...           0.580918             0.380918                    10   \n",
       "1      ...           0.730720             0.630720                     9   \n",
       "2      ...           0.531712             0.531712                     7   \n",
       "3      ...           0.792552             0.592552                     8   \n",
       "4      ...           0.744634             0.744634                    12   \n",
       "...    ...                ...                  ...                   ...   \n",
       "17903  ...           0.727705             0.627705                     2   \n",
       "17904  ...           0.774918             0.474918                     3   \n",
       "17905  ...           0.472045             0.672045                     9   \n",
       "17906  ...           0.406568             0.406568                     3   \n",
       "17907  ...           0.846163             0.846163                     4   \n",
       "\n",
       "       bi-weekly_pay_schedule  monthly_pay_schedule  \\\n",
       "0                           1                     0   \n",
       "1                           0                     0   \n",
       "2                           0                     0   \n",
       "3                           1                     0   \n",
       "4                           0                     0   \n",
       "...                       ...                   ...   \n",
       "17903                       0                     1   \n",
       "17904                       1                     0   \n",
       "17905                       0                     0   \n",
       "17906                       1                     0   \n",
       "17907                       0                     0   \n",
       "\n",
       "       semi-monthly_pay_schedule  weekly_pay_schedule  time_employed  \\\n",
       "0                              0                    0            3.0   \n",
       "1                              0                    1            6.0   \n",
       "2                              0                    1            0.5   \n",
       "3                              0                    0            6.0   \n",
       "4                              1                    0            5.0   \n",
       "...                          ...                  ...            ...   \n",
       "17903                          0                    0            5.0   \n",
       "17904                          0                    0            2.0   \n",
       "17905                          0                    1            5.0   \n",
       "17906                          0                    0            3.0   \n",
       "17907                          0                    1            4.0   \n",
       "\n",
       "       time_personal_account  e_signed  \n",
       "0                   2.500000         1  \n",
       "1                   7.166667         0  \n",
       "2                   1.583333         0  \n",
       "3                   7.166667         1  \n",
       "4                   8.166667         0  \n",
       "...                      ...       ...  \n",
       "17903               6.166667         0  \n",
       "17904               3.250000         0  \n",
       "17905               8.083333         0  \n",
       "17906               1.500000         1  \n",
       "17907               1.333333         1  \n",
       "\n",
       "[17908 rows x 21 columns]"
      ]
     },
     "execution_count": 22,
     "metadata": {},
     "output_type": "execute_result"
    }
   ],
   "source": [
    "df"
   ]
  },
  {
   "cell_type": "markdown",
   "id": "40416d24",
   "metadata": {
    "papermill": {
     "duration": 0.016063,
     "end_time": "2022-10-05T02:57:29.729638",
     "exception": false,
     "start_time": "2022-10-05T02:57:29.713575",
     "status": "completed"
    },
    "tags": []
   },
   "source": [
    "I want to get an idea for the distribution of our datapoints. To do this, I find the mean of the binary columns and the mean and standard deviation of the other columns. In order to perform this split, I first need to make a list of all the columns with binary values"
   ]
  },
  {
   "cell_type": "code",
   "execution_count": 23,
   "id": "995433fe",
   "metadata": {
    "execution": {
     "iopub.execute_input": "2022-10-05T02:57:29.763128Z",
     "iopub.status.busy": "2022-10-05T02:57:29.762580Z",
     "iopub.status.idle": "2022-10-05T02:57:29.785675Z",
     "shell.execute_reply": "2022-10-05T02:57:29.784518Z"
    },
    "papermill": {
     "duration": 0.042367,
     "end_time": "2022-10-05T02:57:29.787990",
     "exception": false,
     "start_time": "2022-10-05T02:57:29.745623",
     "status": "completed"
    },
    "tags": []
   },
   "outputs": [],
   "source": [
    "binary_cols = []\n",
    "for c in df.columns:\n",
    "    if len(df[c].value_counts()) == 2 and 1 in df[c] and 0 in df[c]:\n",
    "        binary_cols.append(c)"
   ]
  },
  {
   "cell_type": "code",
   "execution_count": 24,
   "id": "3f39a679",
   "metadata": {
    "execution": {
     "iopub.execute_input": "2022-10-05T02:57:29.820296Z",
     "iopub.status.busy": "2022-10-05T02:57:29.819937Z",
     "iopub.status.idle": "2022-10-05T02:57:29.826081Z",
     "shell.execute_reply": "2022-10-05T02:57:29.824767Z"
    },
    "papermill": {
     "duration": 0.024328,
     "end_time": "2022-10-05T02:57:29.827822",
     "exception": false,
     "start_time": "2022-10-05T02:57:29.803494",
     "status": "completed"
    },
    "tags": []
   },
   "outputs": [
    {
     "data": {
      "text/plain": [
       "['home_owner',\n",
       " 'has_debt',\n",
       " 'bi-weekly_pay_schedule',\n",
       " 'monthly_pay_schedule',\n",
       " 'semi-monthly_pay_schedule',\n",
       " 'weekly_pay_schedule',\n",
       " 'e_signed']"
      ]
     },
     "execution_count": 24,
     "metadata": {},
     "output_type": "execute_result"
    }
   ],
   "source": [
    "binary_cols"
   ]
  },
  {
   "cell_type": "code",
   "execution_count": 25,
   "id": "c530985b",
   "metadata": {
    "execution": {
     "iopub.execute_input": "2022-10-05T02:57:29.861153Z",
     "iopub.status.busy": "2022-10-05T02:57:29.860623Z",
     "iopub.status.idle": "2022-10-05T02:57:29.871666Z",
     "shell.execute_reply": "2022-10-05T02:57:29.869780Z"
    },
    "papermill": {
     "duration": 0.030383,
     "end_time": "2022-10-05T02:57:29.873828",
     "exception": false,
     "start_time": "2022-10-05T02:57:29.843445",
     "status": "completed"
    },
    "tags": []
   },
   "outputs": [
    {
     "name": "stdout",
     "output_type": "stream",
     "text": [
      "The mean value of age is 43.0154121063212 and the standard deviation is 11.873106909579503\n",
      "The percentage of trues in home_owner is 0.4251731069912888\n",
      "The mean value of income is 3657.214652669198 and the standard deviation is 1504.890063360771\n",
      "The mean value of current_address_year is 3.584710743801653 and the standard deviation is 2.75193666406176\n",
      "The percentage of trues in has_debt is 0.7953987044896136\n",
      "The mean value of amount_requested is 950.4464485146303 and the standard deviation is 698.5436832136472\n",
      "The mean value of risk_score is 61086.30221130221 and the standard deviation is 15394.255019831051\n",
      "The mean value of risk_score_2 is 0.6908776181187738 and the standard deviation is 0.09047039328192538\n",
      "The mean value of risk_score_3 is 0.8782757628316953 and the standard deviation is 0.05456319219119612\n",
      "The mean value of risk_score_4 is 0.5831545620014519 and the standard deviation is 0.12506128244136025\n",
      "The mean value of risk_score_5 is 0.7182519798099732 and the standard deviation is 0.12069733703713292\n",
      "The mean value of ext_quality_score is 0.6231124358945723 and the standard deviation is 0.13972852996949778\n",
      "The mean value of ext_quality_score_2 is 0.6220682098503463 and the standard deviation is 0.13989830159611238\n",
      "The mean value of inquiries_last_month is 6.457225820862185 and the standard deviation is 3.6730925100839795\n",
      "The percentage of trues in bi-weekly_pay_schedule is 0.598391780209962\n",
      "The percentage of trues in monthly_pay_schedule is 0.08331471967835605\n",
      "The percentage of trues in semi-monthly_pay_schedule is 0.11190529372347555\n",
      "The percentage of trues in weekly_pay_schedule is 0.20638820638820637\n",
      "The mean value of time_employed is 3.625693358647904 and the standard deviation is 2.2304237672414895\n",
      "The mean value of time_personal_account is 3.788949073039982 and the standard deviation is 1.9382357679815208\n",
      "The percentage of trues in e_signed is 0.5382510609783338\n"
     ]
    }
   ],
   "source": [
    "for c in df.columns:\n",
    "    if c in binary_cols:\n",
    "        mean = df[c].mean()\n",
    "        print(\"The percentage of trues in \" + c + f\" is {mean}\")\n",
    "    else:\n",
    "        mean = df[c].mean()\n",
    "        std = df[c].std()\n",
    "        print(\"The mean value of \" + c + f\" is {mean} and the standard deviation is {std}\")"
   ]
  },
  {
   "cell_type": "code",
   "execution_count": 26,
   "id": "2b3156a4",
   "metadata": {
    "execution": {
     "iopub.execute_input": "2022-10-05T02:57:29.906666Z",
     "iopub.status.busy": "2022-10-05T02:57:29.906121Z",
     "iopub.status.idle": "2022-10-05T02:57:29.909551Z",
     "shell.execute_reply": "2022-10-05T02:57:29.908945Z"
    },
    "papermill": {
     "duration": 0.021598,
     "end_time": "2022-10-05T02:57:29.911143",
     "exception": false,
     "start_time": "2022-10-05T02:57:29.889545",
     "status": "completed"
    },
    "tags": []
   },
   "outputs": [],
   "source": [
    "cols = df.shape[1]"
   ]
  },
  {
   "cell_type": "markdown",
   "id": "71d274f1",
   "metadata": {
    "papermill": {
     "duration": 0.015576,
     "end_time": "2022-10-05T02:57:29.942586",
     "exception": false,
     "start_time": "2022-10-05T02:57:29.927010",
     "status": "completed"
    },
    "tags": []
   },
   "source": [
    "I will check the correlation between the variables to get a sense of which features are linearly correlated with e_signed"
   ]
  },
  {
   "cell_type": "code",
   "execution_count": 27,
   "id": "a7b480fa",
   "metadata": {
    "execution": {
     "iopub.execute_input": "2022-10-05T02:57:29.977023Z",
     "iopub.status.busy": "2022-10-05T02:57:29.976479Z",
     "iopub.status.idle": "2022-10-05T02:57:30.005058Z",
     "shell.execute_reply": "2022-10-05T02:57:30.004407Z"
    },
    "papermill": {
     "duration": 0.047281,
     "end_time": "2022-10-05T02:57:30.006667",
     "exception": false,
     "start_time": "2022-10-05T02:57:29.959386",
     "status": "completed"
    },
    "tags": []
   },
   "outputs": [
    {
     "data": {
      "text/html": [
       "<div>\n",
       "<style scoped>\n",
       "    .dataframe tbody tr th:only-of-type {\n",
       "        vertical-align: middle;\n",
       "    }\n",
       "\n",
       "    .dataframe tbody tr th {\n",
       "        vertical-align: top;\n",
       "    }\n",
       "\n",
       "    .dataframe thead th {\n",
       "        text-align: right;\n",
       "    }\n",
       "</style>\n",
       "<table border=\"1\" class=\"dataframe\">\n",
       "  <thead>\n",
       "    <tr style=\"text-align: right;\">\n",
       "      <th></th>\n",
       "      <th>e_signed</th>\n",
       "    </tr>\n",
       "  </thead>\n",
       "  <tbody>\n",
       "    <tr>\n",
       "      <th>age</th>\n",
       "      <td>-0.096998</td>\n",
       "    </tr>\n",
       "    <tr>\n",
       "      <th>home_owner</th>\n",
       "      <td>-0.047409</td>\n",
       "    </tr>\n",
       "    <tr>\n",
       "      <th>income</th>\n",
       "      <td>0.031377</td>\n",
       "    </tr>\n",
       "    <tr>\n",
       "      <th>current_address_year</th>\n",
       "      <td>-0.018969</td>\n",
       "    </tr>\n",
       "    <tr>\n",
       "      <th>has_debt</th>\n",
       "      <td>0.039192</td>\n",
       "    </tr>\n",
       "    <tr>\n",
       "      <th>amount_requested</th>\n",
       "      <td>0.069572</td>\n",
       "    </tr>\n",
       "    <tr>\n",
       "      <th>risk_score</th>\n",
       "      <td>0.086098</td>\n",
       "    </tr>\n",
       "    <tr>\n",
       "      <th>risk_score_2</th>\n",
       "      <td>0.010473</td>\n",
       "    </tr>\n",
       "    <tr>\n",
       "      <th>risk_score_3</th>\n",
       "      <td>-0.037483</td>\n",
       "    </tr>\n",
       "    <tr>\n",
       "      <th>risk_score_4</th>\n",
       "      <td>0.006147</td>\n",
       "    </tr>\n",
       "    <tr>\n",
       "      <th>risk_score_5</th>\n",
       "      <td>-0.007541</td>\n",
       "    </tr>\n",
       "    <tr>\n",
       "      <th>ext_quality_score</th>\n",
       "      <td>-0.032129</td>\n",
       "    </tr>\n",
       "    <tr>\n",
       "      <th>ext_quality_score_2</th>\n",
       "      <td>-0.024271</td>\n",
       "    </tr>\n",
       "    <tr>\n",
       "      <th>inquiries_last_month</th>\n",
       "      <td>-0.025165</td>\n",
       "    </tr>\n",
       "    <tr>\n",
       "      <th>bi-weekly_pay_schedule</th>\n",
       "      <td>-0.022369</td>\n",
       "    </tr>\n",
       "    <tr>\n",
       "      <th>monthly_pay_schedule</th>\n",
       "      <td>-0.000029</td>\n",
       "    </tr>\n",
       "    <tr>\n",
       "      <th>semi-monthly_pay_schedule</th>\n",
       "      <td>0.034232</td>\n",
       "    </tr>\n",
       "    <tr>\n",
       "      <th>weekly_pay_schedule</th>\n",
       "      <td>0.000449</td>\n",
       "    </tr>\n",
       "    <tr>\n",
       "      <th>time_employed</th>\n",
       "      <td>0.004705</td>\n",
       "    </tr>\n",
       "    <tr>\n",
       "      <th>time_personal_account</th>\n",
       "      <td>-0.032114</td>\n",
       "    </tr>\n",
       "    <tr>\n",
       "      <th>e_signed</th>\n",
       "      <td>1.000000</td>\n",
       "    </tr>\n",
       "  </tbody>\n",
       "</table>\n",
       "</div>"
      ],
      "text/plain": [
       "                           e_signed\n",
       "age                       -0.096998\n",
       "home_owner                -0.047409\n",
       "income                     0.031377\n",
       "current_address_year      -0.018969\n",
       "has_debt                   0.039192\n",
       "amount_requested           0.069572\n",
       "risk_score                 0.086098\n",
       "risk_score_2               0.010473\n",
       "risk_score_3              -0.037483\n",
       "risk_score_4               0.006147\n",
       "risk_score_5              -0.007541\n",
       "ext_quality_score         -0.032129\n",
       "ext_quality_score_2       -0.024271\n",
       "inquiries_last_month      -0.025165\n",
       "bi-weekly_pay_schedule    -0.022369\n",
       "monthly_pay_schedule      -0.000029\n",
       "semi-monthly_pay_schedule  0.034232\n",
       "weekly_pay_schedule        0.000449\n",
       "time_employed              0.004705\n",
       "time_personal_account     -0.032114\n",
       "e_signed                   1.000000"
      ]
     },
     "execution_count": 27,
     "metadata": {},
     "output_type": "execute_result"
    }
   ],
   "source": [
    "df.corr()[[\"e_signed\"]]"
   ]
  },
  {
   "cell_type": "markdown",
   "id": "da9cb105",
   "metadata": {
    "papermill": {
     "duration": 0.01568,
     "end_time": "2022-10-05T02:57:30.038508",
     "exception": false,
     "start_time": "2022-10-05T02:57:30.022828",
     "status": "completed"
    },
    "tags": []
   },
   "source": [
    "It looks like none of the variables are strongly linearly correlated with e_signed"
   ]
  },
  {
   "cell_type": "markdown",
   "id": "fae53955",
   "metadata": {
    "papermill": {
     "duration": 0.015854,
     "end_time": "2022-10-05T02:57:30.070239",
     "exception": false,
     "start_time": "2022-10-05T02:57:30.054385",
     "status": "completed"
    },
    "tags": []
   },
   "source": [
    "I now create a dataset of the input features and seperate the e_signed column. Then, I split my data into training data and testing data"
   ]
  },
  {
   "cell_type": "code",
   "execution_count": 28,
   "id": "f97acb62",
   "metadata": {
    "execution": {
     "iopub.execute_input": "2022-10-05T02:57:30.104114Z",
     "iopub.status.busy": "2022-10-05T02:57:30.103426Z",
     "iopub.status.idle": "2022-10-05T02:57:30.109874Z",
     "shell.execute_reply": "2022-10-05T02:57:30.108921Z"
    },
    "papermill": {
     "duration": 0.025711,
     "end_time": "2022-10-05T02:57:30.111982",
     "exception": false,
     "start_time": "2022-10-05T02:57:30.086271",
     "status": "completed"
    },
    "tags": []
   },
   "outputs": [],
   "source": [
    "X = df.drop(columns = ['e_signed'])\n",
    "X = X.to_numpy()\n",
    "y = df['e_signed']"
   ]
  },
  {
   "cell_type": "code",
   "execution_count": 29,
   "id": "6379afa1",
   "metadata": {
    "execution": {
     "iopub.execute_input": "2022-10-05T02:57:30.145222Z",
     "iopub.status.busy": "2022-10-05T02:57:30.144882Z",
     "iopub.status.idle": "2022-10-05T02:57:30.152031Z",
     "shell.execute_reply": "2022-10-05T02:57:30.150749Z"
    },
    "papermill": {
     "duration": 0.026599,
     "end_time": "2022-10-05T02:57:30.154490",
     "exception": false,
     "start_time": "2022-10-05T02:57:30.127891",
     "status": "completed"
    },
    "tags": []
   },
   "outputs": [
    {
     "data": {
      "text/plain": [
       "0        1\n",
       "1        0\n",
       "2        0\n",
       "3        1\n",
       "4        0\n",
       "        ..\n",
       "17903    0\n",
       "17904    0\n",
       "17905    0\n",
       "17906    1\n",
       "17907    1\n",
       "Name: e_signed, Length: 17908, dtype: int64"
      ]
     },
     "execution_count": 29,
     "metadata": {},
     "output_type": "execute_result"
    }
   ],
   "source": [
    "y"
   ]
  },
  {
   "cell_type": "code",
   "execution_count": 30,
   "id": "5c599bc6",
   "metadata": {
    "execution": {
     "iopub.execute_input": "2022-10-05T02:57:30.186956Z",
     "iopub.status.busy": "2022-10-05T02:57:30.186646Z",
     "iopub.status.idle": "2022-10-05T02:57:30.194908Z",
     "shell.execute_reply": "2022-10-05T02:57:30.193721Z"
    },
    "papermill": {
     "duration": 0.02679,
     "end_time": "2022-10-05T02:57:30.197072",
     "exception": false,
     "start_time": "2022-10-05T02:57:30.170282",
     "status": "completed"
    },
    "tags": []
   },
   "outputs": [],
   "source": [
    "X_train, X_test,y_train, y_test = train_test_split(X, y)"
   ]
  },
  {
   "cell_type": "markdown",
   "id": "75c3bc81",
   "metadata": {
    "papermill": {
     "duration": 0.015638,
     "end_time": "2022-10-05T02:57:30.228857",
     "exception": false,
     "start_time": "2022-10-05T02:57:30.213219",
     "status": "completed"
    },
    "tags": []
   },
   "source": [
    "I investigate the shapes of the split data to ensure that the split occurred properly"
   ]
  },
  {
   "cell_type": "code",
   "execution_count": 31,
   "id": "508778f2",
   "metadata": {
    "execution": {
     "iopub.execute_input": "2022-10-05T02:57:30.262458Z",
     "iopub.status.busy": "2022-10-05T02:57:30.262126Z",
     "iopub.status.idle": "2022-10-05T02:57:30.269042Z",
     "shell.execute_reply": "2022-10-05T02:57:30.267650Z"
    },
    "papermill": {
     "duration": 0.027081,
     "end_time": "2022-10-05T02:57:30.271785",
     "exception": false,
     "start_time": "2022-10-05T02:57:30.244704",
     "status": "completed"
    },
    "tags": []
   },
   "outputs": [
    {
     "data": {
      "text/plain": [
       "(13431, 20)"
      ]
     },
     "execution_count": 31,
     "metadata": {},
     "output_type": "execute_result"
    }
   ],
   "source": [
    "X_train.shape"
   ]
  },
  {
   "cell_type": "code",
   "execution_count": 32,
   "id": "4e021501",
   "metadata": {
    "execution": {
     "iopub.execute_input": "2022-10-05T02:57:30.305704Z",
     "iopub.status.busy": "2022-10-05T02:57:30.305401Z",
     "iopub.status.idle": "2022-10-05T02:57:30.311974Z",
     "shell.execute_reply": "2022-10-05T02:57:30.310980Z"
    },
    "papermill": {
     "duration": 0.025507,
     "end_time": "2022-10-05T02:57:30.313651",
     "exception": false,
     "start_time": "2022-10-05T02:57:30.288144",
     "status": "completed"
    },
    "tags": []
   },
   "outputs": [
    {
     "data": {
      "text/plain": [
       "(4477, 20)"
      ]
     },
     "execution_count": 32,
     "metadata": {},
     "output_type": "execute_result"
    }
   ],
   "source": [
    "X_test.shape"
   ]
  },
  {
   "cell_type": "markdown",
   "id": "e7f15499",
   "metadata": {
    "papermill": {
     "duration": 0.01597,
     "end_time": "2022-10-05T02:57:30.345636",
     "exception": false,
     "start_time": "2022-10-05T02:57:30.329666",
     "status": "completed"
    },
    "tags": []
   },
   "source": [
    "First, I will train a Decision Tree and generate predictions"
   ]
  },
  {
   "cell_type": "code",
   "execution_count": 33,
   "id": "cf8d3596",
   "metadata": {
    "execution": {
     "iopub.execute_input": "2022-10-05T02:57:30.379654Z",
     "iopub.status.busy": "2022-10-05T02:57:30.379317Z",
     "iopub.status.idle": "2022-10-05T02:57:30.635862Z",
     "shell.execute_reply": "2022-10-05T02:57:30.634908Z"
    },
    "papermill": {
     "duration": 0.276344,
     "end_time": "2022-10-05T02:57:30.638098",
     "exception": false,
     "start_time": "2022-10-05T02:57:30.361754",
     "status": "completed"
    },
    "tags": []
   },
   "outputs": [],
   "source": [
    "decision_tree = DecisionTreeClassifier(min_samples_leaf = 6)\n",
    "decision_tree.fit(X_train, y_train)\n",
    "y_pred_dtree = decision_tree.predict(X_test)"
   ]
  },
  {
   "cell_type": "markdown",
   "id": "fb9b755f",
   "metadata": {
    "papermill": {
     "duration": 0.016376,
     "end_time": "2022-10-05T02:57:30.670855",
     "exception": false,
     "start_time": "2022-10-05T02:57:30.654479",
     "status": "completed"
    },
    "tags": []
   },
   "source": [
    "I evaluate the decision tree, and the other two approaches in this notebook, by looking at the model's accuracy and f1 score. Accuracy simply measures what percent of the cases the model got right, while the f1 score measures how often the model predicted true positives out of the number of true positives and false predictions. A high f1 score indicates that the model was able to accurately predict when a loan was e-signed and was not prone to misidentifying outputs, while a low f1 score indicates the opposite relationship. I chose to use this metric because we consider both false negatives and false positices to be bad outcomes"
   ]
  },
  {
   "cell_type": "code",
   "execution_count": 34,
   "id": "c2296514",
   "metadata": {
    "execution": {
     "iopub.execute_input": "2022-10-05T02:57:30.704979Z",
     "iopub.status.busy": "2022-10-05T02:57:30.704672Z",
     "iopub.status.idle": "2022-10-05T02:57:30.715510Z",
     "shell.execute_reply": "2022-10-05T02:57:30.713887Z"
    },
    "papermill": {
     "duration": 0.030456,
     "end_time": "2022-10-05T02:57:30.717678",
     "exception": false,
     "start_time": "2022-10-05T02:57:30.687222",
     "status": "completed"
    },
    "tags": []
   },
   "outputs": [
    {
     "name": "stdout",
     "output_type": "stream",
     "text": [
      "Decision Tree Accuracy: 55.400000000000006 %\n",
      "Decision Tree F1 Score: 0.581\n"
     ]
    }
   ],
   "source": [
    "acc_dtree = round(metrics.accuracy_score(y_test, y_pred_dtree), 3) * 100\n",
    "f1_dtree = round(metrics.f1_score(y_test, y_pred_dtree), 3)\n",
    "print(f\"Decision Tree Accuracy: {acc_dtree} %\")\n",
    "print(f\"Decision Tree F1 Score: {f1_dtree}\")"
   ]
  },
  {
   "cell_type": "markdown",
   "id": "5cbce4d4",
   "metadata": {
    "papermill": {
     "duration": 0.015848,
     "end_time": "2022-10-05T02:57:30.749554",
     "exception": false,
     "start_time": "2022-10-05T02:57:30.733706",
     "status": "completed"
    },
    "tags": []
   },
   "source": [
    "I also look at the confusion matrix for each model. The confusion matrix displays how many false positives, false negatives, true positives, and true negatives occurred"
   ]
  },
  {
   "cell_type": "code",
   "execution_count": 35,
   "id": "e87a7255",
   "metadata": {
    "execution": {
     "iopub.execute_input": "2022-10-05T02:57:30.782635Z",
     "iopub.status.busy": "2022-10-05T02:57:30.782300Z",
     "iopub.status.idle": "2022-10-05T02:57:31.022076Z",
     "shell.execute_reply": "2022-10-05T02:57:31.019962Z"
    },
    "papermill": {
     "duration": 0.25894,
     "end_time": "2022-10-05T02:57:31.024356",
     "exception": false,
     "start_time": "2022-10-05T02:57:30.765416",
     "status": "completed"
    },
    "tags": []
   },
   "outputs": [
    {
     "name": "stdout",
     "output_type": "stream",
     "text": [
      "Decision Tree Confusion Matrix: \n",
      "\n"
     ]
    },
    {
     "name": "stderr",
     "output_type": "stream",
     "text": [
      "/opt/conda/lib/python3.7/site-packages/sklearn/utils/deprecation.py:87: FutureWarning: Function plot_confusion_matrix is deprecated; Function `plot_confusion_matrix` is deprecated in 1.0 and will be removed in 1.2. Use one of the class methods: ConfusionMatrixDisplay.from_predictions or ConfusionMatrixDisplay.from_estimator.\n",
      "  warnings.warn(msg, category=FutureWarning)\n"
     ]
    },
    {
     "data": {
      "text/plain": [
       "<sklearn.metrics._plot.confusion_matrix.ConfusionMatrixDisplay at 0x7fa051f02990>"
      ]
     },
     "execution_count": 35,
     "metadata": {},
     "output_type": "execute_result"
    },
    {
     "data": {
      "image/png": "[encoded data removed]",
      "text/plain": [
       "<Figure size 432x288 with 2 Axes>"
      ]
     },
     "metadata": {
      "needs_background": "light"
     },
     "output_type": "display_data"
    }
   ],
   "source": [
    "print(\"Decision Tree Confusion Matrix: \\n\")\n",
    "metrics.plot_confusion_matrix(decision_tree, X_test, y_test)"
   ]
  },
  {
   "cell_type": "markdown",
   "id": "0e996fe2",
   "metadata": {
    "papermill": {
     "duration": 0.01637,
     "end_time": "2022-10-05T02:57:31.057467",
     "exception": false,
     "start_time": "2022-10-05T02:57:31.041097",
     "status": "completed"
    },
    "tags": []
   },
   "source": [
    "Next, I train and evaluate a random forest classifier"
   ]
  },
  {
   "cell_type": "code",
   "execution_count": 36,
   "id": "1f9afd2c",
   "metadata": {
    "execution": {
     "iopub.execute_input": "2022-10-05T02:57:31.092889Z",
     "iopub.status.busy": "2022-10-05T02:57:31.091838Z",
     "iopub.status.idle": "2022-10-05T02:57:34.757702Z",
     "shell.execute_reply": "2022-10-05T02:57:34.756769Z"
    },
    "papermill": {
     "duration": 3.685803,
     "end_time": "2022-10-05T02:57:34.759918",
     "exception": false,
     "start_time": "2022-10-05T02:57:31.074115",
     "status": "completed"
    },
    "tags": []
   },
   "outputs": [],
   "source": [
    "random_forest = RandomForestClassifier(min_samples_leaf = 6)\n",
    "\n",
    "random_forest.fit(X_train,y_train)\n",
    "y_pred_random_forest = random_forest.predict(X_test)"
   ]
  },
  {
   "cell_type": "code",
   "execution_count": 37,
   "id": "162a2835",
   "metadata": {
    "execution": {
     "iopub.execute_input": "2022-10-05T02:57:34.795613Z",
     "iopub.status.busy": "2022-10-05T02:57:34.795228Z",
     "iopub.status.idle": "2022-10-05T02:57:34.807501Z",
     "shell.execute_reply": "2022-10-05T02:57:34.805415Z"
    },
    "papermill": {
     "duration": 0.032759,
     "end_time": "2022-10-05T02:57:34.810087",
     "exception": false,
     "start_time": "2022-10-05T02:57:34.777328",
     "status": "completed"
    },
    "tags": []
   },
   "outputs": [
    {
     "name": "stdout",
     "output_type": "stream",
     "text": [
      "Random Forest Accuracy: 62.8 %\n",
      "Random Forest F1 Score: 0.667\n"
     ]
    }
   ],
   "source": [
    "acc_rforest = round(metrics.accuracy_score(y_test, y_pred_random_forest), 3) * 100\n",
    "f1_rforest = round(metrics.f1_score(y_test, y_pred_random_forest),3)\n",
    "print(f\"Random Forest Accuracy: {acc_rforest} %\")\n",
    "print(f\"Random Forest F1 Score: {f1_rforest}\")"
   ]
  },
  {
   "cell_type": "code",
   "execution_count": 38,
   "id": "7ea6a9ab",
   "metadata": {
    "execution": {
     "iopub.execute_input": "2022-10-05T02:57:34.845299Z",
     "iopub.status.busy": "2022-10-05T02:57:34.844986Z",
     "iopub.status.idle": "2022-10-05T02:57:35.099761Z",
     "shell.execute_reply": "2022-10-05T02:57:35.098997Z"
    },
    "papermill": {
     "duration": 0.274659,
     "end_time": "2022-10-05T02:57:35.101739",
     "exception": false,
     "start_time": "2022-10-05T02:57:34.827080",
     "status": "completed"
    },
    "tags": []
   },
   "outputs": [
    {
     "name": "stdout",
     "output_type": "stream",
     "text": [
      "Random Forest Confusion Matrix: \n",
      "\n"
     ]
    },
    {
     "name": "stderr",
     "output_type": "stream",
     "text": [
      "/opt/conda/lib/python3.7/site-packages/sklearn/utils/deprecation.py:87: FutureWarning: Function plot_confusion_matrix is deprecated; Function `plot_confusion_matrix` is deprecated in 1.0 and will be removed in 1.2. Use one of the class methods: ConfusionMatrixDisplay.from_predictions or ConfusionMatrixDisplay.from_estimator.\n",
      "  warnings.warn(msg, category=FutureWarning)\n"
     ]
    },
    {
     "data": {
      "text/plain": [
       "<sklearn.metrics._plot.confusion_matrix.ConfusionMatrixDisplay at 0x7fa04f9b6e90>"
      ]
     },
     "execution_count": 38,
     "metadata": {},
     "output_type": "execute_result"
    },
    {
     "data": {
      "image/png": "[encoded data removed]",
      "text/plain": [
       "<Figure size 432x288 with 2 Axes>"
      ]
     },
     "metadata": {
      "needs_background": "light"
     },
     "output_type": "display_data"
    }
   ],
   "source": [
    "print(\"Random Forest Confusion Matrix: \\n\")\n",
    "metrics.plot_confusion_matrix(random_forest, X_test, y_test)"
   ]
  },
  {
   "cell_type": "markdown",
   "id": "6347ec0c",
   "metadata": {
    "papermill": {
     "duration": 0.01642,
     "end_time": "2022-10-05T02:57:35.136948",
     "exception": false,
     "start_time": "2022-10-05T02:57:35.120528",
     "status": "completed"
    },
    "tags": []
   },
   "source": [
    "The next model will be a multilayer perceptron, a popular type of ANN. First, I need to preprocess the data by applying a standard scaler. This scaler will make the data (roughly) follow a standard normal distribution. I didn't do this for the deciison tree and random forest because it would not have changed the final model. This is beneficial for the neural network, however, because it speeds up the training process "
   ]
  },
  {
   "cell_type": "code",
   "execution_count": 39,
   "id": "dc382cc2",
   "metadata": {
    "execution": {
     "iopub.execute_input": "2022-10-05T02:57:35.173112Z",
     "iopub.status.busy": "2022-10-05T02:57:35.172570Z",
     "iopub.status.idle": "2022-10-05T02:57:35.181773Z",
     "shell.execute_reply": "2022-10-05T02:57:35.180497Z"
    },
    "papermill": {
     "duration": 0.03029,
     "end_time": "2022-10-05T02:57:35.184058",
     "exception": false,
     "start_time": "2022-10-05T02:57:35.153768",
     "status": "completed"
    },
    "tags": []
   },
   "outputs": [],
   "source": [
    "scaler = preprocessing.StandardScaler().fit(X_train)\n",
    "X_train_scaled = scaler.transform(X_train)\n",
    "X_test_scaled = scaler.transform(X_test)"
   ]
  },
  {
   "cell_type": "code",
   "execution_count": 40,
   "id": "43e61d3d",
   "metadata": {
    "execution": {
     "iopub.execute_input": "2022-10-05T02:57:35.220081Z",
     "iopub.status.busy": "2022-10-05T02:57:35.219736Z",
     "iopub.status.idle": "2022-10-05T02:57:35.240869Z",
     "shell.execute_reply": "2022-10-05T02:57:35.239324Z"
    },
    "papermill": {
     "duration": 0.041536,
     "end_time": "2022-10-05T02:57:35.242973",
     "exception": false,
     "start_time": "2022-10-05T02:57:35.201437",
     "status": "completed"
    },
    "tags": []
   },
   "outputs": [],
   "source": [
    "X_train_scaled = np.stack(X_train_scaled, axis = 0)"
   ]
  },
  {
   "cell_type": "code",
   "execution_count": 41,
   "id": "74f9e94d",
   "metadata": {
    "execution": {
     "iopub.execute_input": "2022-10-05T02:57:35.280136Z",
     "iopub.status.busy": "2022-10-05T02:57:35.279658Z",
     "iopub.status.idle": "2022-10-05T02:57:35.283984Z",
     "shell.execute_reply": "2022-10-05T02:57:35.283409Z"
    },
    "papermill": {
     "duration": 0.025378,
     "end_time": "2022-10-05T02:57:35.285537",
     "exception": false,
     "start_time": "2022-10-05T02:57:35.260159",
     "status": "completed"
    },
    "tags": []
   },
   "outputs": [
    {
     "data": {
      "text/plain": [
       "(13431, 20)"
      ]
     },
     "execution_count": 41,
     "metadata": {},
     "output_type": "execute_result"
    }
   ],
   "source": [
    "X_train_scaled.shape"
   ]
  },
  {
   "cell_type": "code",
   "execution_count": 42,
   "id": "9eb397bd",
   "metadata": {
    "execution": {
     "iopub.execute_input": "2022-10-05T02:57:35.322746Z",
     "iopub.status.busy": "2022-10-05T02:57:35.322281Z",
     "iopub.status.idle": "2022-10-05T02:57:35.330739Z",
     "shell.execute_reply": "2022-10-05T02:57:35.329804Z"
    },
    "papermill": {
     "duration": 0.029448,
     "end_time": "2022-10-05T02:57:35.332855",
     "exception": false,
     "start_time": "2022-10-05T02:57:35.303407",
     "status": "completed"
    },
    "tags": []
   },
   "outputs": [],
   "source": [
    "X_test_scaled = np.stack(X_test_scaled, axis = 0)"
   ]
  },
  {
   "cell_type": "code",
   "execution_count": 43,
   "id": "2ac0df76",
   "metadata": {
    "execution": {
     "iopub.execute_input": "2022-10-05T02:57:35.367804Z",
     "iopub.status.busy": "2022-10-05T02:57:35.367146Z",
     "iopub.status.idle": "2022-10-05T02:57:35.373159Z",
     "shell.execute_reply": "2022-10-05T02:57:35.372232Z"
    },
    "papermill": {
     "duration": 0.025459,
     "end_time": "2022-10-05T02:57:35.375081",
     "exception": false,
     "start_time": "2022-10-05T02:57:35.349622",
     "status": "completed"
    },
    "tags": []
   },
   "outputs": [
    {
     "data": {
      "text/plain": [
       "(4477, 20)"
      ]
     },
     "execution_count": 43,
     "metadata": {},
     "output_type": "execute_result"
    }
   ],
   "source": [
    "X_test_scaled.shape"
   ]
  },
  {
   "cell_type": "code",
   "execution_count": 44,
   "id": "897b1e08",
   "metadata": {
    "execution": {
     "iopub.execute_input": "2022-10-05T02:57:35.412316Z",
     "iopub.status.busy": "2022-10-05T02:57:35.411825Z",
     "iopub.status.idle": "2022-10-05T02:57:35.416107Z",
     "shell.execute_reply": "2022-10-05T02:57:35.414688Z"
    },
    "papermill": {
     "duration": 0.025852,
     "end_time": "2022-10-05T02:57:35.418273",
     "exception": false,
     "start_time": "2022-10-05T02:57:35.392421",
     "status": "completed"
    },
    "tags": []
   },
   "outputs": [],
   "source": [
    "y_train_array = y_train.to_numpy()"
   ]
  },
  {
   "cell_type": "code",
   "execution_count": 45,
   "id": "99b87d9f",
   "metadata": {
    "execution": {
     "iopub.execute_input": "2022-10-05T02:57:35.454932Z",
     "iopub.status.busy": "2022-10-05T02:57:35.454460Z",
     "iopub.status.idle": "2022-10-05T02:57:35.458724Z",
     "shell.execute_reply": "2022-10-05T02:57:35.457494Z"
    },
    "papermill": {
     "duration": 0.025239,
     "end_time": "2022-10-05T02:57:35.460866",
     "exception": false,
     "start_time": "2022-10-05T02:57:35.435627",
     "status": "completed"
    },
    "tags": []
   },
   "outputs": [],
   "source": [
    "y_train_array = np.reshape(y_train_array, (-1,1))"
   ]
  },
  {
   "cell_type": "code",
   "execution_count": 46,
   "id": "cbbe01c2",
   "metadata": {
    "execution": {
     "iopub.execute_input": "2022-10-05T02:57:35.499361Z",
     "iopub.status.busy": "2022-10-05T02:57:35.498388Z",
     "iopub.status.idle": "2022-10-05T02:57:35.504368Z",
     "shell.execute_reply": "2022-10-05T02:57:35.502982Z"
    },
    "papermill": {
     "duration": 0.028073,
     "end_time": "2022-10-05T02:57:35.506781",
     "exception": false,
     "start_time": "2022-10-05T02:57:35.478708",
     "status": "completed"
    },
    "tags": []
   },
   "outputs": [
    {
     "data": {
      "text/plain": [
       "(13431, 1)"
      ]
     },
     "execution_count": 46,
     "metadata": {},
     "output_type": "execute_result"
    }
   ],
   "source": [
    "y_train_array.shape"
   ]
  },
  {
   "cell_type": "code",
   "execution_count": 47,
   "id": "7bf99639",
   "metadata": {
    "execution": {
     "iopub.execute_input": "2022-10-05T02:57:35.544944Z",
     "iopub.status.busy": "2022-10-05T02:57:35.544590Z",
     "iopub.status.idle": "2022-10-05T02:57:35.549323Z",
     "shell.execute_reply": "2022-10-05T02:57:35.547963Z"
    },
    "papermill": {
     "duration": 0.025962,
     "end_time": "2022-10-05T02:57:35.551232",
     "exception": false,
     "start_time": "2022-10-05T02:57:35.525270",
     "status": "completed"
    },
    "tags": []
   },
   "outputs": [],
   "source": [
    "y_test_array = y_test.to_numpy()"
   ]
  },
  {
   "cell_type": "markdown",
   "id": "a1c5baef",
   "metadata": {
    "papermill": {
     "duration": 0.017612,
     "end_time": "2022-10-05T02:57:35.586730",
     "exception": false,
     "start_time": "2022-10-05T02:57:35.569118",
     "status": "completed"
    },
    "tags": []
   },
   "source": [
    "I reshape the y-values to make them compatible with the model"
   ]
  },
  {
   "cell_type": "code",
   "execution_count": 48,
   "id": "cba02ba1",
   "metadata": {
    "execution": {
     "iopub.execute_input": "2022-10-05T02:57:35.624878Z",
     "iopub.status.busy": "2022-10-05T02:57:35.624281Z",
     "iopub.status.idle": "2022-10-05T02:57:35.628831Z",
     "shell.execute_reply": "2022-10-05T02:57:35.627454Z"
    },
    "papermill": {
     "duration": 0.026691,
     "end_time": "2022-10-05T02:57:35.631190",
     "exception": false,
     "start_time": "2022-10-05T02:57:35.604499",
     "status": "completed"
    },
    "tags": []
   },
   "outputs": [],
   "source": [
    "y_test_array = np.reshape(y_test_array, (-1,1))"
   ]
  },
  {
   "cell_type": "code",
   "execution_count": 49,
   "id": "992d7a57",
   "metadata": {
    "execution": {
     "iopub.execute_input": "2022-10-05T02:57:35.670540Z",
     "iopub.status.busy": "2022-10-05T02:57:35.670215Z",
     "iopub.status.idle": "2022-10-05T02:57:35.676584Z",
     "shell.execute_reply": "2022-10-05T02:57:35.675494Z"
    },
    "papermill": {
     "duration": 0.028507,
     "end_time": "2022-10-05T02:57:35.678321",
     "exception": false,
     "start_time": "2022-10-05T02:57:35.649814",
     "status": "completed"
    },
    "tags": []
   },
   "outputs": [
    {
     "data": {
      "text/plain": [
       "(4477, 1)"
      ]
     },
     "execution_count": 49,
     "metadata": {},
     "output_type": "execute_result"
    }
   ],
   "source": [
    "y_test_array.shape"
   ]
  },
  {
   "cell_type": "code",
   "execution_count": 50,
   "id": "1dc65e2f",
   "metadata": {
    "execution": {
     "iopub.execute_input": "2022-10-05T02:57:35.716927Z",
     "iopub.status.busy": "2022-10-05T02:57:35.715898Z",
     "iopub.status.idle": "2022-10-05T02:57:35.840088Z",
     "shell.execute_reply": "2022-10-05T02:57:35.838226Z"
    },
    "papermill": {
     "duration": 0.14728,
     "end_time": "2022-10-05T02:57:35.843700",
     "exception": false,
     "start_time": "2022-10-05T02:57:35.696420",
     "status": "completed"
    },
    "tags": []
   },
   "outputs": [
    {
     "name": "stderr",
     "output_type": "stream",
     "text": [
      "2022-10-05 02:57:35.752891: I tensorflow/core/common_runtime/process_util.cc:146] Creating new thread pool with default inter op setting: 2. Tune using inter_op_parallelism_threads for best performance.\n"
     ]
    }
   ],
   "source": [
    "mlp = models.Sequential()\n",
    "mlp.add(Dense(20, input_shape = (X_train_scaled.shape[1],), activation = 'relu'))\n",
    "mlp.add(Dense(10,activation = 'relu'))\n",
    "mlp.add(Dense(1, activation = 'relu'))\n",
    "mlp.compile(optimizer = 'adam', loss = 'mse', metrics = ['binary_accuracy'])"
   ]
  },
  {
   "cell_type": "markdown",
   "id": "764a345f",
   "metadata": {
    "papermill": {
     "duration": 0.017599,
     "end_time": "2022-10-05T02:57:35.880022",
     "exception": false,
     "start_time": "2022-10-05T02:57:35.862423",
     "status": "completed"
    },
    "tags": []
   },
   "source": [
    "The learning rate is lowered to speed up training"
   ]
  },
  {
   "cell_type": "code",
   "execution_count": 51,
   "id": "fd9d48be",
   "metadata": {
    "execution": {
     "iopub.execute_input": "2022-10-05T02:57:35.919061Z",
     "iopub.status.busy": "2022-10-05T02:57:35.918058Z",
     "iopub.status.idle": "2022-10-05T02:59:37.967641Z",
     "shell.execute_reply": "2022-10-05T02:59:37.966549Z"
    },
    "papermill": {
     "duration": 122.07132,
     "end_time": "2022-10-05T02:59:37.969683",
     "exception": false,
     "start_time": "2022-10-05T02:57:35.898363",
     "status": "completed"
    },
    "scrolled": true,
    "tags": []
   },
   "outputs": [
    {
     "name": "stderr",
     "output_type": "stream",
     "text": [
      "2022-10-05 02:57:35.994324: I tensorflow/compiler/mlir/mlir_graph_optimization_pass.cc:185] None of the MLIR Optimization Passes are enabled (registered 2)\n"
     ]
    },
    {
     "name": "stdout",
     "output_type": "stream",
     "text": [
      "Epoch 1/125\n",
      "538/538 [==============================] - 2s 2ms/step - loss: 0.4042 - binary_accuracy: 0.4808\n",
      "Epoch 2/125\n",
      "538/538 [==============================] - 1s 2ms/step - loss: 0.3308 - binary_accuracy: 0.4933\n",
      "Epoch 3/125\n",
      "538/538 [==============================] - 1s 2ms/step - loss: 0.3015 - binary_accuracy: 0.5046\n",
      "Epoch 4/125\n",
      "538/538 [==============================] - 1s 2ms/step - loss: 0.2846 - binary_accuracy: 0.5170\n",
      "Epoch 5/125\n",
      "538/538 [==============================] - 1s 2ms/step - loss: 0.2741 - binary_accuracy: 0.5256\n",
      "Epoch 6/125\n",
      "538/538 [==============================] - 1s 2ms/step - loss: 0.2669 - binary_accuracy: 0.5310\n",
      "Epoch 7/125\n",
      "538/538 [==============================] - 1s 2ms/step - loss: 0.2617 - binary_accuracy: 0.5374\n",
      "Epoch 8/125\n",
      "538/538 [==============================] - 1s 2ms/step - loss: 0.2576 - binary_accuracy: 0.5413\n",
      "Epoch 9/125\n",
      "538/538 [==============================] - 1s 2ms/step - loss: 0.2544 - binary_accuracy: 0.5489\n",
      "Epoch 10/125\n",
      "538/538 [==============================] - 1s 2ms/step - loss: 0.2517 - binary_accuracy: 0.5541\n",
      "Epoch 11/125\n",
      "538/538 [==============================] - 1s 2ms/step - loss: 0.2496 - binary_accuracy: 0.5592\n",
      "Epoch 12/125\n",
      "538/538 [==============================] - 1s 2ms/step - loss: 0.2478 - binary_accuracy: 0.5616\n",
      "Epoch 13/125\n",
      "538/538 [==============================] - 1s 2ms/step - loss: 0.2462 - binary_accuracy: 0.5659\n",
      "Epoch 14/125\n",
      "538/538 [==============================] - 1s 2ms/step - loss: 0.2449 - binary_accuracy: 0.5682\n",
      "Epoch 15/125\n",
      "538/538 [==============================] - 1s 2ms/step - loss: 0.2437 - binary_accuracy: 0.5703\n",
      "Epoch 16/125\n",
      "538/538 [==============================] - 1s 2ms/step - loss: 0.2426 - binary_accuracy: 0.5749\n",
      "Epoch 17/125\n",
      "538/538 [==============================] - 1s 2ms/step - loss: 0.2416 - binary_accuracy: 0.5772\n",
      "Epoch 18/125\n",
      "538/538 [==============================] - 1s 2ms/step - loss: 0.2408 - binary_accuracy: 0.5793\n",
      "Epoch 19/125\n",
      "538/538 [==============================] - 1s 2ms/step - loss: 0.2400 - binary_accuracy: 0.5819\n",
      "Epoch 20/125\n",
      "538/538 [==============================] - 1s 2ms/step - loss: 0.2393 - binary_accuracy: 0.5816\n",
      "Epoch 21/125\n",
      "538/538 [==============================] - 1s 2ms/step - loss: 0.2387 - binary_accuracy: 0.5836\n",
      "Epoch 22/125\n",
      "538/538 [==============================] - 1s 2ms/step - loss: 0.2381 - binary_accuracy: 0.5866\n",
      "Epoch 23/125\n",
      "538/538 [==============================] - 1s 2ms/step - loss: 0.2376 - binary_accuracy: 0.5881\n",
      "Epoch 24/125\n",
      "538/538 [==============================] - 1s 2ms/step - loss: 0.2370 - binary_accuracy: 0.5915\n",
      "Epoch 25/125\n",
      "538/538 [==============================] - 1s 2ms/step - loss: 0.2365 - binary_accuracy: 0.5918\n",
      "Epoch 26/125\n",
      "538/538 [==============================] - 1s 2ms/step - loss: 0.2360 - binary_accuracy: 0.5935\n",
      "Epoch 27/125\n",
      "538/538 [==============================] - 1s 2ms/step - loss: 0.2355 - binary_accuracy: 0.5962\n",
      "Epoch 28/125\n",
      "538/538 [==============================] - 1s 2ms/step - loss: 0.2351 - binary_accuracy: 0.5955\n",
      "Epoch 29/125\n",
      "538/538 [==============================] - 1s 2ms/step - loss: 0.2347 - binary_accuracy: 0.5965\n",
      "Epoch 30/125\n",
      "538/538 [==============================] - 1s 2ms/step - loss: 0.2343 - binary_accuracy: 0.6010\n",
      "Epoch 31/125\n",
      "538/538 [==============================] - 1s 2ms/step - loss: 0.2340 - binary_accuracy: 0.6003\n",
      "Epoch 32/125\n",
      "538/538 [==============================] - 1s 2ms/step - loss: 0.2336 - binary_accuracy: 0.6016\n",
      "Epoch 33/125\n",
      "538/538 [==============================] - 1s 2ms/step - loss: 0.2333 - binary_accuracy: 0.6003\n",
      "Epoch 34/125\n",
      "538/538 [==============================] - 1s 2ms/step - loss: 0.2330 - binary_accuracy: 0.6040\n",
      "Epoch 35/125\n",
      "538/538 [==============================] - 1s 2ms/step - loss: 0.2327 - binary_accuracy: 0.6058\n",
      "Epoch 36/125\n",
      "538/538 [==============================] - 1s 2ms/step - loss: 0.2324 - binary_accuracy: 0.6060\n",
      "Epoch 37/125\n",
      "538/538 [==============================] - 1s 2ms/step - loss: 0.2322 - binary_accuracy: 0.6052\n",
      "Epoch 38/125\n",
      "538/538 [==============================] - 1s 2ms/step - loss: 0.2319 - binary_accuracy: 0.6068\n",
      "Epoch 39/125\n",
      "538/538 [==============================] - 1s 2ms/step - loss: 0.2316 - binary_accuracy: 0.6084\n",
      "Epoch 40/125\n",
      "538/538 [==============================] - 1s 2ms/step - loss: 0.2314 - binary_accuracy: 0.6074\n",
      "Epoch 41/125\n",
      "538/538 [==============================] - 1s 2ms/step - loss: 0.2312 - binary_accuracy: 0.6093\n",
      "Epoch 42/125\n",
      "538/538 [==============================] - 1s 2ms/step - loss: 0.2310 - binary_accuracy: 0.6084\n",
      "Epoch 43/125\n",
      "538/538 [==============================] - 1s 2ms/step - loss: 0.2308 - binary_accuracy: 0.6117\n",
      "Epoch 44/125\n",
      "538/538 [==============================] - 1s 2ms/step - loss: 0.2306 - binary_accuracy: 0.6110\n",
      "Epoch 45/125\n",
      "538/538 [==============================] - 1s 2ms/step - loss: 0.2304 - binary_accuracy: 0.6119\n",
      "Epoch 46/125\n",
      "538/538 [==============================] - 1s 2ms/step - loss: 0.2301 - binary_accuracy: 0.6122\n",
      "Epoch 47/125\n",
      "538/538 [==============================] - 1s 2ms/step - loss: 0.2300 - binary_accuracy: 0.6128\n",
      "Epoch 48/125\n",
      "538/538 [==============================] - 1s 2ms/step - loss: 0.2298 - binary_accuracy: 0.6137\n",
      "Epoch 49/125\n",
      "538/538 [==============================] - 1s 2ms/step - loss: 0.2296 - binary_accuracy: 0.6146\n",
      "Epoch 50/125\n",
      "538/538 [==============================] - 1s 2ms/step - loss: 0.2294 - binary_accuracy: 0.6141\n",
      "Epoch 51/125\n",
      "538/538 [==============================] - 1s 2ms/step - loss: 0.2292 - binary_accuracy: 0.6170\n",
      "Epoch 52/125\n",
      "538/538 [==============================] - 1s 2ms/step - loss: 0.2290 - binary_accuracy: 0.6167\n",
      "Epoch 53/125\n",
      "538/538 [==============================] - 1s 2ms/step - loss: 0.2289 - binary_accuracy: 0.6158\n",
      "Epoch 54/125\n",
      "538/538 [==============================] - 1s 2ms/step - loss: 0.2287 - binary_accuracy: 0.6167\n",
      "Epoch 55/125\n",
      "538/538 [==============================] - 1s 2ms/step - loss: 0.2286 - binary_accuracy: 0.6183\n",
      "Epoch 56/125\n",
      "538/538 [==============================] - 1s 2ms/step - loss: 0.2284 - binary_accuracy: 0.6174\n",
      "Epoch 57/125\n",
      "538/538 [==============================] - 1s 2ms/step - loss: 0.2282 - binary_accuracy: 0.6201\n",
      "Epoch 58/125\n",
      "538/538 [==============================] - 1s 2ms/step - loss: 0.2281 - binary_accuracy: 0.6197\n",
      "Epoch 59/125\n",
      "538/538 [==============================] - 1s 2ms/step - loss: 0.2279 - binary_accuracy: 0.6201\n",
      "Epoch 60/125\n",
      "538/538 [==============================] - 1s 2ms/step - loss: 0.2277 - binary_accuracy: 0.6190\n",
      "Epoch 61/125\n",
      "538/538 [==============================] - 1s 2ms/step - loss: 0.2276 - binary_accuracy: 0.6203\n",
      "Epoch 62/125\n",
      "538/538 [==============================] - 1s 2ms/step - loss: 0.2275 - binary_accuracy: 0.6215\n",
      "Epoch 63/125\n",
      "538/538 [==============================] - 1s 2ms/step - loss: 0.2274 - binary_accuracy: 0.6202\n",
      "Epoch 64/125\n",
      "538/538 [==============================] - 1s 2ms/step - loss: 0.2272 - binary_accuracy: 0.6198\n",
      "Epoch 65/125\n",
      "538/538 [==============================] - 1s 2ms/step - loss: 0.2271 - binary_accuracy: 0.6227\n",
      "Epoch 66/125\n",
      "538/538 [==============================] - 1s 2ms/step - loss: 0.2270 - binary_accuracy: 0.6227\n",
      "Epoch 67/125\n",
      "538/538 [==============================] - 1s 2ms/step - loss: 0.2269 - binary_accuracy: 0.6229\n",
      "Epoch 68/125\n",
      "538/538 [==============================] - 1s 2ms/step - loss: 0.2267 - binary_accuracy: 0.6220\n",
      "Epoch 69/125\n",
      "538/538 [==============================] - 1s 2ms/step - loss: 0.2267 - binary_accuracy: 0.6223\n",
      "Epoch 70/125\n",
      "538/538 [==============================] - 1s 2ms/step - loss: 0.2265 - binary_accuracy: 0.6233\n",
      "Epoch 71/125\n",
      "538/538 [==============================] - 1s 2ms/step - loss: 0.2264 - binary_accuracy: 0.6230\n",
      "Epoch 72/125\n",
      "538/538 [==============================] - 1s 2ms/step - loss: 0.2263 - binary_accuracy: 0.6250\n",
      "Epoch 73/125\n",
      "538/538 [==============================] - 1s 2ms/step - loss: 0.2262 - binary_accuracy: 0.6253\n",
      "Epoch 74/125\n",
      "538/538 [==============================] - 1s 2ms/step - loss: 0.2261 - binary_accuracy: 0.6242\n",
      "Epoch 75/125\n",
      "538/538 [==============================] - 1s 2ms/step - loss: 0.2260 - binary_accuracy: 0.6250\n",
      "Epoch 76/125\n",
      "538/538 [==============================] - 1s 2ms/step - loss: 0.2259 - binary_accuracy: 0.6237\n",
      "Epoch 77/125\n",
      "538/538 [==============================] - 1s 2ms/step - loss: 0.2258 - binary_accuracy: 0.6275\n",
      "Epoch 78/125\n",
      "538/538 [==============================] - 1s 2ms/step - loss: 0.2257 - binary_accuracy: 0.6247\n",
      "Epoch 79/125\n",
      "538/538 [==============================] - 1s 2ms/step - loss: 0.2255 - binary_accuracy: 0.6272\n",
      "Epoch 80/125\n",
      "538/538 [==============================] - 1s 2ms/step - loss: 0.2255 - binary_accuracy: 0.6271\n",
      "Epoch 81/125\n",
      "538/538 [==============================] - 1s 2ms/step - loss: 0.2254 - binary_accuracy: 0.6269\n",
      "Epoch 82/125\n",
      "538/538 [==============================] - 1s 2ms/step - loss: 0.2253 - binary_accuracy: 0.6253\n",
      "Epoch 83/125\n",
      "538/538 [==============================] - 1s 2ms/step - loss: 0.2252 - binary_accuracy: 0.6274\n",
      "Epoch 84/125\n",
      "538/538 [==============================] - 1s 2ms/step - loss: 0.2251 - binary_accuracy: 0.6254\n",
      "Epoch 85/125\n",
      "538/538 [==============================] - 1s 2ms/step - loss: 0.2251 - binary_accuracy: 0.6277\n",
      "Epoch 86/125\n",
      "538/538 [==============================] - 1s 2ms/step - loss: 0.2250 - binary_accuracy: 0.6266\n",
      "Epoch 87/125\n",
      "538/538 [==============================] - 1s 2ms/step - loss: 0.2249 - binary_accuracy: 0.6275\n",
      "Epoch 88/125\n",
      "538/538 [==============================] - 1s 2ms/step - loss: 0.2248 - binary_accuracy: 0.6256\n",
      "Epoch 89/125\n",
      "538/538 [==============================] - 1s 2ms/step - loss: 0.2247 - binary_accuracy: 0.6256\n",
      "Epoch 90/125\n",
      "538/538 [==============================] - 1s 2ms/step - loss: 0.2247 - binary_accuracy: 0.6269\n",
      "Epoch 91/125\n",
      "538/538 [==============================] - 1s 2ms/step - loss: 0.2245 - binary_accuracy: 0.6279\n",
      "Epoch 92/125\n",
      "538/538 [==============================] - 1s 2ms/step - loss: 0.2245 - binary_accuracy: 0.6271\n",
      "Epoch 93/125\n",
      "538/538 [==============================] - 1s 2ms/step - loss: 0.2244 - binary_accuracy: 0.6272\n",
      "Epoch 94/125\n",
      "538/538 [==============================] - 1s 2ms/step - loss: 0.2243 - binary_accuracy: 0.6268\n",
      "Epoch 95/125\n",
      "538/538 [==============================] - 1s 2ms/step - loss: 0.2243 - binary_accuracy: 0.6271\n",
      "Epoch 96/125\n",
      "538/538 [==============================] - 1s 2ms/step - loss: 0.2242 - binary_accuracy: 0.6277\n",
      "Epoch 97/125\n",
      "538/538 [==============================] - 1s 2ms/step - loss: 0.2241 - binary_accuracy: 0.6284\n",
      "Epoch 98/125\n",
      "538/538 [==============================] - 1s 2ms/step - loss: 0.2241 - binary_accuracy: 0.6285\n",
      "Epoch 99/125\n",
      "538/538 [==============================] - 1s 2ms/step - loss: 0.2240 - binary_accuracy: 0.6285\n",
      "Epoch 100/125\n",
      "538/538 [==============================] - 1s 2ms/step - loss: 0.2239 - binary_accuracy: 0.6285\n",
      "Epoch 101/125\n",
      "538/538 [==============================] - 1s 2ms/step - loss: 0.2239 - binary_accuracy: 0.6285\n",
      "Epoch 102/125\n",
      "538/538 [==============================] - 1s 2ms/step - loss: 0.2238 - binary_accuracy: 0.6285\n",
      "Epoch 103/125\n",
      "538/538 [==============================] - 1s 2ms/step - loss: 0.2237 - binary_accuracy: 0.6284\n",
      "Epoch 104/125\n",
      "538/538 [==============================] - 1s 2ms/step - loss: 0.2236 - binary_accuracy: 0.6282\n",
      "Epoch 105/125\n",
      "538/538 [==============================] - 1s 2ms/step - loss: 0.2236 - binary_accuracy: 0.6284\n",
      "Epoch 106/125\n",
      "538/538 [==============================] - 1s 2ms/step - loss: 0.2235 - binary_accuracy: 0.6285\n",
      "Epoch 107/125\n",
      "538/538 [==============================] - 1s 2ms/step - loss: 0.2234 - binary_accuracy: 0.6282\n",
      "Epoch 108/125\n",
      "538/538 [==============================] - 1s 2ms/step - loss: 0.2234 - binary_accuracy: 0.6299\n",
      "Epoch 109/125\n",
      "538/538 [==============================] - 1s 2ms/step - loss: 0.2233 - binary_accuracy: 0.6305\n",
      "Epoch 110/125\n",
      "538/538 [==============================] - 1s 2ms/step - loss: 0.2232 - binary_accuracy: 0.6294\n",
      "Epoch 111/125\n",
      "538/538 [==============================] - 1s 2ms/step - loss: 0.2232 - binary_accuracy: 0.6288\n",
      "Epoch 112/125\n",
      "538/538 [==============================] - 1s 2ms/step - loss: 0.2231 - binary_accuracy: 0.6304\n",
      "Epoch 113/125\n",
      "538/538 [==============================] - 1s 2ms/step - loss: 0.2230 - binary_accuracy: 0.6309\n",
      "Epoch 114/125\n",
      "538/538 [==============================] - 1s 2ms/step - loss: 0.2230 - binary_accuracy: 0.6298\n",
      "Epoch 115/125\n",
      "538/538 [==============================] - 1s 2ms/step - loss: 0.2229 - binary_accuracy: 0.6319\n",
      "Epoch 116/125\n",
      "538/538 [==============================] - 1s 2ms/step - loss: 0.2229 - binary_accuracy: 0.6308\n",
      "Epoch 117/125\n",
      "538/538 [==============================] - 1s 2ms/step - loss: 0.2228 - binary_accuracy: 0.6304\n",
      "Epoch 118/125\n",
      "538/538 [==============================] - 1s 2ms/step - loss: 0.2227 - binary_accuracy: 0.6316\n",
      "Epoch 119/125\n",
      "538/538 [==============================] - 1s 2ms/step - loss: 0.2226 - binary_accuracy: 0.6325\n",
      "Epoch 120/125\n",
      "538/538 [==============================] - 1s 2ms/step - loss: 0.2226 - binary_accuracy: 0.6329\n",
      "Epoch 121/125\n",
      "538/538 [==============================] - 1s 2ms/step - loss: 0.2225 - binary_accuracy: 0.6313\n",
      "Epoch 122/125\n",
      "538/538 [==============================] - 1s 2ms/step - loss: 0.2225 - binary_accuracy: 0.6329\n",
      "Epoch 123/125\n",
      "538/538 [==============================] - 1s 2ms/step - loss: 0.2224 - binary_accuracy: 0.6314\n",
      "Epoch 124/125\n",
      "538/538 [==============================] - 1s 2ms/step - loss: 0.2223 - binary_accuracy: 0.6320\n",
      "Epoch 125/125\n",
      "538/538 [==============================] - 1s 2ms/step - loss: 0.2223 - binary_accuracy: 0.6328\n"
     ]
    },
    {
     "data": {
      "text/plain": [
       "<keras.callbacks.History at 0x7fa04f634850>"
      ]
     },
     "execution_count": 51,
     "metadata": {},
     "output_type": "execute_result"
    }
   ],
   "source": [
    "K.set_value(mlp.optimizer.learning_rate, 0.0001)\n",
    "\n",
    "mlp.fit(X_train_scaled, y_train_array, epochs = 125, batch_size = 25)"
   ]
  },
  {
   "cell_type": "code",
   "execution_count": 52,
   "id": "d9236360",
   "metadata": {
    "execution": {
     "iopub.execute_input": "2022-10-05T02:59:38.322693Z",
     "iopub.status.busy": "2022-10-05T02:59:38.321610Z",
     "iopub.status.idle": "2022-10-05T02:59:38.533966Z",
     "shell.execute_reply": "2022-10-05T02:59:38.533237Z"
    },
    "papermill": {
     "duration": 0.415052,
     "end_time": "2022-10-05T02:59:38.536007",
     "exception": false,
     "start_time": "2022-10-05T02:59:38.120955",
     "status": "completed"
    },
    "tags": []
   },
   "outputs": [],
   "source": [
    "y_pred_mlp = mlp.predict(X_test_scaled)"
   ]
  },
  {
   "cell_type": "code",
   "execution_count": 53,
   "id": "3a1d7f02",
   "metadata": {
    "execution": {
     "iopub.execute_input": "2022-10-05T02:59:38.836584Z",
     "iopub.status.busy": "2022-10-05T02:59:38.835925Z",
     "iopub.status.idle": "2022-10-05T02:59:38.840068Z",
     "shell.execute_reply": "2022-10-05T02:59:38.839260Z"
    },
    "papermill": {
     "duration": 0.15734,
     "end_time": "2022-10-05T02:59:38.842441",
     "exception": false,
     "start_time": "2022-10-05T02:59:38.685101",
     "status": "completed"
    },
    "tags": []
   },
   "outputs": [],
   "source": [
    "y_pred_mlp = np.around(y_pred_mlp)"
   ]
  },
  {
   "cell_type": "code",
   "execution_count": 54,
   "id": "453b440a",
   "metadata": {
    "execution": {
     "iopub.execute_input": "2022-10-05T02:59:39.144522Z",
     "iopub.status.busy": "2022-10-05T02:59:39.142876Z",
     "iopub.status.idle": "2022-10-05T02:59:39.153716Z",
     "shell.execute_reply": "2022-10-05T02:59:39.152562Z"
    },
    "papermill": {
     "duration": 0.163652,
     "end_time": "2022-10-05T02:59:39.155778",
     "exception": false,
     "start_time": "2022-10-05T02:59:38.992126",
     "status": "completed"
    },
    "tags": []
   },
   "outputs": [
    {
     "name": "stdout",
     "output_type": "stream",
     "text": [
      "MLP Accuracy: 58.9 %\n",
      "MLP F1 Score: 0.632\n"
     ]
    }
   ],
   "source": [
    "acc_mlp = round(metrics.accuracy_score(y_pred_mlp, y_test), 3) * 100\n",
    "f1_mlp = round(metrics.f1_score(y_pred_mlp, y_test), 3)\n",
    "print(f\"MLP Accuracy: {acc_mlp} %\")\n",
    "print(f\"MLP F1 Score: {f1_mlp}\")"
   ]
  },
  {
   "cell_type": "markdown",
   "id": "522c52bc",
   "metadata": {
    "papermill": {
     "duration": 0.151806,
     "end_time": "2022-10-05T02:59:39.456246",
     "exception": false,
     "start_time": "2022-10-05T02:59:39.304440",
     "status": "completed"
    },
    "tags": []
   },
   "source": [
    "I want to compare the performance of all 3 models. To do this, I plot the accuracy and f1 score for each model"
   ]
  },
  {
   "cell_type": "code",
   "execution_count": 55,
   "id": "dc86fd4e",
   "metadata": {
    "execution": {
     "iopub.execute_input": "2022-10-05T02:59:39.766553Z",
     "iopub.status.busy": "2022-10-05T02:59:39.766242Z",
     "iopub.status.idle": "2022-10-05T02:59:39.950816Z",
     "shell.execute_reply": "2022-10-05T02:59:39.950184Z"
    },
    "papermill": {
     "duration": 0.341309,
     "end_time": "2022-10-05T02:59:39.952519",
     "exception": false,
     "start_time": "2022-10-05T02:59:39.611210",
     "status": "completed"
    },
    "tags": []
   },
   "outputs": [
    {
     "data": {
      "image/png": "[encoded data removed]",
      "text/plain": [
       "<Figure size 864x576 with 1 Axes>"
      ]
     },
     "metadata": {
      "needs_background": "light"
     },
     "output_type": "display_data"
    }
   ],
   "source": [
    "labels = ['Decision Tree', 'Random Forest', 'MLP']\n",
    "accuracies = [acc_dtree / 100, acc_rforest / 100, acc_mlp / 100] \n",
    "f1s = [f1_dtree, f1_rforest, f1_mlp]\n",
    "\n",
    "x = np.arange(3)\n",
    "fig, ax = plt.subplots(figsize = (12,8))\n",
    "acc_rect = ax.bar(x - .15, accuracies, 0.3, label = 'Accuracy')\n",
    "f1_rect = ax.bar(x + .15, f1s, 0.3, label = 'F1_score')\n",
    "\n",
    "ax.set_xticks(x, labels)\n",
    "ax.set_title('Model Evaluation Metrics')\n",
    "\n",
    "ax.legend()\n",
    "fig.tight_layout()\n",
    "plt.show()\n"
   ]
  },
  {
   "cell_type": "code",
   "execution_count": null,
   "id": "ec90c796",
   "metadata": {
    "papermill": {
     "duration": 0.15042,
     "end_time": "2022-10-05T02:59:40.255709",
     "exception": false,
     "start_time": "2022-10-05T02:59:40.105289",
     "status": "completed"
    },
    "tags": []
   },
   "outputs": [],
   "source": []
  }
 ],
 "metadata": {
  "kernelspec": {
   "display_name": "Python 3",
   "language": "python",
   "name": "python3"
  },
  "language_info": {
   "codemirror_mode": {
    "name": "ipython",
    "version": 3
   },
   "file_extension": ".py",
   "mimetype": "text/x-python",
   "name": "python",
   "nbconvert_exporter": "python",
   "pygments_lexer": "ipython3",
   "version": "3.7.12"
  },
  "papermill": {
   "default_parameters": {},
   "duration": 151.0869,
   "end_time": "2022-10-05T02:59:43.355146",
   "environment_variables": {},
   "exception": null,
   "input_path": "__notebook__.ipynb",
   "output_path": "__notebook__.ipynb",
   "parameters": {},
   "start_time": "2022-10-05T02:57:12.268246",
   "version": "2.3.4"
  }
 },
 "nbformat": 4,
 "nbformat_minor": 5
}
