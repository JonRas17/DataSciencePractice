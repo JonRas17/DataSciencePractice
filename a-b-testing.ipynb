{
 "cells": [
  {
   "cell_type": "code",
   "execution_count": 1,
   "id": "119c2342",
   "metadata": {
    "_cell_guid": "b1076dfc-b9ad-4769-8c92-a6c4dae69d19",
    "_uuid": "8f2839f25d086af736a60e9eeb907d3b93b6e0e5",
    "execution": {
     "iopub.execute_input": "2022-10-05T03:04:12.654938Z",
     "iopub.status.busy": "2022-10-05T03:04:12.654153Z",
     "iopub.status.idle": "2022-10-05T03:04:12.671453Z",
     "shell.execute_reply": "2022-10-05T03:04:12.670297Z"
    },
    "papermill": {
     "duration": 0.031243,
     "end_time": "2022-10-05T03:04:12.674089",
     "exception": false,
     "start_time": "2022-10-05T03:04:12.642846",
     "status": "completed"
    },
    "tags": []
   },
   "outputs": [
    {
     "name": "stdout",
     "output_type": "stream",
     "text": [
      "/kaggle/input/ab-test-data/AB_Test_Results.csv\n"
     ]
    }
   ],
   "source": [
    "#This notebook used the following dataset: https://www.kaggle.com/datasets/sergylog/ab-test-data\n",
    "\n",
    "import numpy as np \n",
    "import pandas as pd \n",
    "import matplotlib.pyplot as plt\n",
    "\n",
    "\n",
    "import os\n",
    "for dirname, _, filenames in os.walk('/kaggle/input'):\n",
    "    for filename in filenames:\n",
    "        print(os.path.join(dirname, filename))"
   ]
  },
  {
   "cell_type": "markdown",
   "id": "d890b047",
   "metadata": {
    "papermill": {
     "duration": 0.008553,
     "end_time": "2022-10-05T03:04:12.691526",
     "exception": false,
     "start_time": "2022-10-05T03:04:12.682973",
     "status": "completed"
    },
    "tags": []
   },
   "source": [
    "This notebook was created on Kaggle, so many of the basic kaggle features are included"
   ]
  },
  {
   "cell_type": "markdown",
   "id": "e8230ace",
   "metadata": {
    "papermill": {
     "duration": 0.007691,
     "end_time": "2022-10-05T03:04:12.707401",
     "exception": false,
     "start_time": "2022-10-05T03:04:12.699710",
     "status": "completed"
    },
    "tags": []
   },
   "source": [
    "To start, I'll do some basic exploratory data analysis to get a basic understanding of our dataset and a direction of where to go with my hypothesis test"
   ]
  },
  {
   "cell_type": "code",
   "execution_count": 2,
   "id": "2b22f499",
   "metadata": {
    "execution": {
     "iopub.execute_input": "2022-10-05T03:04:12.724855Z",
     "iopub.status.busy": "2022-10-05T03:04:12.724461Z",
     "iopub.status.idle": "2022-10-05T03:04:12.769515Z",
     "shell.execute_reply": "2022-10-05T03:04:12.768572Z"
    },
    "papermill": {
     "duration": 0.056487,
     "end_time": "2022-10-05T03:04:12.771739",
     "exception": false,
     "start_time": "2022-10-05T03:04:12.715252",
     "status": "completed"
    },
    "tags": []
   },
   "outputs": [
    {
     "data": {
      "text/html": [
       "<div>\n",
       "<style scoped>\n",
       "    .dataframe tbody tr th:only-of-type {\n",
       "        vertical-align: middle;\n",
       "    }\n",
       "\n",
       "    .dataframe tbody tr th {\n",
       "        vertical-align: top;\n",
       "    }\n",
       "\n",
       "    .dataframe thead th {\n",
       "        text-align: right;\n",
       "    }\n",
       "</style>\n",
       "<table border=\"1\" class=\"dataframe\">\n",
       "  <thead>\n",
       "    <tr style=\"text-align: right;\">\n",
       "      <th></th>\n",
       "      <th>USER_ID</th>\n",
       "      <th>VARIANT_NAME</th>\n",
       "      <th>REVENUE</th>\n",
       "    </tr>\n",
       "  </thead>\n",
       "  <tbody>\n",
       "    <tr>\n",
       "      <th>0</th>\n",
       "      <td>737</td>\n",
       "      <td>variant</td>\n",
       "      <td>0.0</td>\n",
       "    </tr>\n",
       "    <tr>\n",
       "      <th>1</th>\n",
       "      <td>2423</td>\n",
       "      <td>control</td>\n",
       "      <td>0.0</td>\n",
       "    </tr>\n",
       "    <tr>\n",
       "      <th>2</th>\n",
       "      <td>9411</td>\n",
       "      <td>control</td>\n",
       "      <td>0.0</td>\n",
       "    </tr>\n",
       "    <tr>\n",
       "      <th>3</th>\n",
       "      <td>7311</td>\n",
       "      <td>control</td>\n",
       "      <td>0.0</td>\n",
       "    </tr>\n",
       "    <tr>\n",
       "      <th>4</th>\n",
       "      <td>6174</td>\n",
       "      <td>variant</td>\n",
       "      <td>0.0</td>\n",
       "    </tr>\n",
       "  </tbody>\n",
       "</table>\n",
       "</div>"
      ],
      "text/plain": [
       "   USER_ID VARIANT_NAME  REVENUE\n",
       "0      737      variant      0.0\n",
       "1     2423      control      0.0\n",
       "2     9411      control      0.0\n",
       "3     7311      control      0.0\n",
       "4     6174      variant      0.0"
      ]
     },
     "execution_count": 2,
     "metadata": {},
     "output_type": "execute_result"
    }
   ],
   "source": [
    "df = pd.read_csv('/kaggle/input/ab-test-data/AB_Test_Results.csv')\n",
    "\n",
    "df.head()"
   ]
  },
  {
   "cell_type": "code",
   "execution_count": 3,
   "id": "a695c8c9",
   "metadata": {
    "execution": {
     "iopub.execute_input": "2022-10-05T03:04:12.790145Z",
     "iopub.status.busy": "2022-10-05T03:04:12.789685Z",
     "iopub.status.idle": "2022-10-05T03:04:12.800634Z",
     "shell.execute_reply": "2022-10-05T03:04:12.799711Z"
    },
    "papermill": {
     "duration": 0.022639,
     "end_time": "2022-10-05T03:04:12.802655",
     "exception": false,
     "start_time": "2022-10-05T03:04:12.780016",
     "status": "completed"
    },
    "tags": []
   },
   "outputs": [
    {
     "data": {
      "text/html": [
       "<div>\n",
       "<style scoped>\n",
       "    .dataframe tbody tr th:only-of-type {\n",
       "        vertical-align: middle;\n",
       "    }\n",
       "\n",
       "    .dataframe tbody tr th {\n",
       "        vertical-align: top;\n",
       "    }\n",
       "\n",
       "    .dataframe thead th {\n",
       "        text-align: right;\n",
       "    }\n",
       "</style>\n",
       "<table border=\"1\" class=\"dataframe\">\n",
       "  <thead>\n",
       "    <tr style=\"text-align: right;\">\n",
       "      <th></th>\n",
       "      <th>USER_ID</th>\n",
       "      <th>VARIANT_NAME</th>\n",
       "      <th>REVENUE</th>\n",
       "    </tr>\n",
       "  </thead>\n",
       "  <tbody>\n",
       "    <tr>\n",
       "      <th>9995</th>\n",
       "      <td>1981</td>\n",
       "      <td>control</td>\n",
       "      <td>0.0</td>\n",
       "    </tr>\n",
       "    <tr>\n",
       "      <th>9996</th>\n",
       "      <td>502</td>\n",
       "      <td>variant</td>\n",
       "      <td>0.0</td>\n",
       "    </tr>\n",
       "    <tr>\n",
       "      <th>9997</th>\n",
       "      <td>9214</td>\n",
       "      <td>variant</td>\n",
       "      <td>0.0</td>\n",
       "    </tr>\n",
       "    <tr>\n",
       "      <th>9998</th>\n",
       "      <td>7741</td>\n",
       "      <td>control</td>\n",
       "      <td>0.0</td>\n",
       "    </tr>\n",
       "    <tr>\n",
       "      <th>9999</th>\n",
       "      <td>9468</td>\n",
       "      <td>control</td>\n",
       "      <td>0.0</td>\n",
       "    </tr>\n",
       "  </tbody>\n",
       "</table>\n",
       "</div>"
      ],
      "text/plain": [
       "      USER_ID VARIANT_NAME  REVENUE\n",
       "9995     1981      control      0.0\n",
       "9996      502      variant      0.0\n",
       "9997     9214      variant      0.0\n",
       "9998     7741      control      0.0\n",
       "9999     9468      control      0.0"
      ]
     },
     "execution_count": 3,
     "metadata": {},
     "output_type": "execute_result"
    }
   ],
   "source": [
    "df.tail()"
   ]
  },
  {
   "cell_type": "code",
   "execution_count": 4,
   "id": "99730d23",
   "metadata": {
    "execution": {
     "iopub.execute_input": "2022-10-05T03:04:12.823082Z",
     "iopub.status.busy": "2022-10-05T03:04:12.822364Z",
     "iopub.status.idle": "2022-10-05T03:04:12.829517Z",
     "shell.execute_reply": "2022-10-05T03:04:12.828351Z"
    },
    "papermill": {
     "duration": 0.019557,
     "end_time": "2022-10-05T03:04:12.832165",
     "exception": false,
     "start_time": "2022-10-05T03:04:12.812608",
     "status": "completed"
    },
    "tags": []
   },
   "outputs": [
    {
     "data": {
      "text/plain": [
       "Index(['USER_ID', 'VARIANT_NAME', 'REVENUE'], dtype='object')"
      ]
     },
     "execution_count": 4,
     "metadata": {},
     "output_type": "execute_result"
    }
   ],
   "source": [
    "df.columns"
   ]
  },
  {
   "cell_type": "markdown",
   "id": "50f29df9",
   "metadata": {
    "papermill": {
     "duration": 0.008242,
     "end_time": "2022-10-05T03:04:12.848998",
     "exception": false,
     "start_time": "2022-10-05T03:04:12.840756",
     "status": "completed"
    },
    "tags": []
   },
   "source": [
    "I want to check if any users were both in the variant and control group"
   ]
  },
  {
   "cell_type": "code",
   "execution_count": 5,
   "id": "fa5ad12d",
   "metadata": {
    "execution": {
     "iopub.execute_input": "2022-10-05T03:04:12.867814Z",
     "iopub.status.busy": "2022-10-05T03:04:12.867333Z",
     "iopub.status.idle": "2022-10-05T03:04:12.898145Z",
     "shell.execute_reply": "2022-10-05T03:04:12.896955Z"
    },
    "papermill": {
     "duration": 0.043024,
     "end_time": "2022-10-05T03:04:12.900578",
     "exception": false,
     "start_time": "2022-10-05T03:04:12.857554",
     "status": "completed"
    },
    "tags": []
   },
   "outputs": [
    {
     "data": {
      "text/plain": [
       "1    4783\n",
       "2    1541\n",
       "Name: VARIANT_NAME, dtype: int64"
      ]
     },
     "execution_count": 5,
     "metadata": {},
     "output_type": "execute_result"
    }
   ],
   "source": [
    "df.groupby(by = 'USER_ID').VARIANT_NAME.nunique().value_counts()"
   ]
  },
  {
   "cell_type": "markdown",
   "id": "00ded2e2",
   "metadata": {
    "papermill": {
     "duration": 0.008264,
     "end_time": "2022-10-05T03:04:12.917635",
     "exception": false,
     "start_time": "2022-10-05T03:04:12.909371",
     "status": "completed"
    },
    "tags": []
   },
   "source": [
    "There are 1,541 users in both groups. I will drop these users since I do not know which treatment influenced their decision"
   ]
  },
  {
   "cell_type": "code",
   "execution_count": 6,
   "id": "2945836f",
   "metadata": {
    "execution": {
     "iopub.execute_input": "2022-10-05T03:04:12.936487Z",
     "iopub.status.busy": "2022-10-05T03:04:12.936047Z",
     "iopub.status.idle": "2022-10-05T03:04:12.949687Z",
     "shell.execute_reply": "2022-10-05T03:04:12.948802Z"
    },
    "papermill": {
     "duration": 0.025801,
     "end_time": "2022-10-05T03:04:12.952030",
     "exception": false,
     "start_time": "2022-10-05T03:04:12.926229",
     "status": "completed"
    },
    "tags": []
   },
   "outputs": [
    {
     "data": {
      "text/plain": [
       "Int64Index([   2,    4,    5,    6,    9,   11,   12,   13,   15,   19,\n",
       "            ...\n",
       "            9976, 9980, 9983, 9986, 9989, 9990, 9992, 9993, 9995, 9998],\n",
       "           dtype='int64', name='USER_ID', length=4783)"
      ]
     },
     "execution_count": 6,
     "metadata": {},
     "output_type": "execute_result"
    }
   ],
   "source": [
    "one_var_user = (df.groupby(by = 'USER_ID').VARIANT_NAME.nunique() == 1)\n",
    "\n",
    "one_var_users = one_var_user[one_var_user].index\n",
    "\n",
    "one_var_users"
   ]
  },
  {
   "cell_type": "code",
   "execution_count": 7,
   "id": "9304a5c9",
   "metadata": {
    "execution": {
     "iopub.execute_input": "2022-10-05T03:04:12.972202Z",
     "iopub.status.busy": "2022-10-05T03:04:12.971753Z",
     "iopub.status.idle": "2022-10-05T03:04:12.991128Z",
     "shell.execute_reply": "2022-10-05T03:04:12.990298Z"
    },
    "papermill": {
     "duration": 0.032166,
     "end_time": "2022-10-05T03:04:12.993275",
     "exception": false,
     "start_time": "2022-10-05T03:04:12.961109",
     "status": "completed"
    },
    "tags": []
   },
   "outputs": [
    {
     "data": {
      "text/html": [
       "<div>\n",
       "<style scoped>\n",
       "    .dataframe tbody tr th:only-of-type {\n",
       "        vertical-align: middle;\n",
       "    }\n",
       "\n",
       "    .dataframe tbody tr th {\n",
       "        vertical-align: top;\n",
       "    }\n",
       "\n",
       "    .dataframe thead th {\n",
       "        text-align: right;\n",
       "    }\n",
       "</style>\n",
       "<table border=\"1\" class=\"dataframe\">\n",
       "  <thead>\n",
       "    <tr style=\"text-align: right;\">\n",
       "      <th></th>\n",
       "      <th>USER_ID</th>\n",
       "      <th>VARIANT_NAME</th>\n",
       "      <th>REVENUE</th>\n",
       "    </tr>\n",
       "  </thead>\n",
       "  <tbody>\n",
       "    <tr>\n",
       "      <th>0</th>\n",
       "      <td>737</td>\n",
       "      <td>variant</td>\n",
       "      <td>0.0</td>\n",
       "    </tr>\n",
       "    <tr>\n",
       "      <th>1</th>\n",
       "      <td>6174</td>\n",
       "      <td>variant</td>\n",
       "      <td>0.0</td>\n",
       "    </tr>\n",
       "    <tr>\n",
       "      <th>2</th>\n",
       "      <td>2380</td>\n",
       "      <td>variant</td>\n",
       "      <td>0.0</td>\n",
       "    </tr>\n",
       "    <tr>\n",
       "      <th>3</th>\n",
       "      <td>9168</td>\n",
       "      <td>control</td>\n",
       "      <td>0.0</td>\n",
       "    </tr>\n",
       "    <tr>\n",
       "      <th>4</th>\n",
       "      <td>7548</td>\n",
       "      <td>control</td>\n",
       "      <td>0.0</td>\n",
       "    </tr>\n",
       "    <tr>\n",
       "      <th>...</th>\n",
       "      <td>...</td>\n",
       "      <td>...</td>\n",
       "      <td>...</td>\n",
       "    </tr>\n",
       "    <tr>\n",
       "      <th>6065</th>\n",
       "      <td>2400</td>\n",
       "      <td>variant</td>\n",
       "      <td>0.0</td>\n",
       "    </tr>\n",
       "    <tr>\n",
       "      <th>6066</th>\n",
       "      <td>3129</td>\n",
       "      <td>control</td>\n",
       "      <td>0.0</td>\n",
       "    </tr>\n",
       "    <tr>\n",
       "      <th>6067</th>\n",
       "      <td>502</td>\n",
       "      <td>variant</td>\n",
       "      <td>0.0</td>\n",
       "    </tr>\n",
       "    <tr>\n",
       "      <th>6068</th>\n",
       "      <td>7741</td>\n",
       "      <td>control</td>\n",
       "      <td>0.0</td>\n",
       "    </tr>\n",
       "    <tr>\n",
       "      <th>6069</th>\n",
       "      <td>9468</td>\n",
       "      <td>control</td>\n",
       "      <td>0.0</td>\n",
       "    </tr>\n",
       "  </tbody>\n",
       "</table>\n",
       "<p>6070 rows × 3 columns</p>\n",
       "</div>"
      ],
      "text/plain": [
       "      USER_ID VARIANT_NAME  REVENUE\n",
       "0         737      variant      0.0\n",
       "1        6174      variant      0.0\n",
       "2        2380      variant      0.0\n",
       "3        9168      control      0.0\n",
       "4        7548      control      0.0\n",
       "...       ...          ...      ...\n",
       "6065     2400      variant      0.0\n",
       "6066     3129      control      0.0\n",
       "6067      502      variant      0.0\n",
       "6068     7741      control      0.0\n",
       "6069     9468      control      0.0\n",
       "\n",
       "[6070 rows x 3 columns]"
      ]
     },
     "execution_count": 7,
     "metadata": {},
     "output_type": "execute_result"
    }
   ],
   "source": [
    "df = df[df.USER_ID.isin(one_var_users)]\n",
    "\n",
    "df.reset_index(inplace = True, drop = True)\n",
    "\n",
    "df"
   ]
  },
  {
   "cell_type": "code",
   "execution_count": 8,
   "id": "4e60994b",
   "metadata": {
    "execution": {
     "iopub.execute_input": "2022-10-05T03:04:13.013470Z",
     "iopub.status.busy": "2022-10-05T03:04:13.012547Z",
     "iopub.status.idle": "2022-10-05T03:04:13.020887Z",
     "shell.execute_reply": "2022-10-05T03:04:13.020024Z"
    },
    "papermill": {
     "duration": 0.020773,
     "end_time": "2022-10-05T03:04:13.023115",
     "exception": false,
     "start_time": "2022-10-05T03:04:13.002342",
     "status": "completed"
    },
    "tags": []
   },
   "outputs": [
    {
     "data": {
      "text/plain": [
       "5652    6\n",
       "1339    5\n",
       "1782    5\n",
       "9152    4\n",
       "8573    4\n",
       "       ..\n",
       "9730    1\n",
       "2924    1\n",
       "293     1\n",
       "9670    1\n",
       "9468    1\n",
       "Name: USER_ID, Length: 4783, dtype: int64"
      ]
     },
     "execution_count": 8,
     "metadata": {},
     "output_type": "execute_result"
    }
   ],
   "source": [
    "df.USER_ID.value_counts()"
   ]
  },
  {
   "cell_type": "markdown",
   "id": "48058836",
   "metadata": {
    "papermill": {
     "duration": 0.008883,
     "end_time": "2022-10-05T03:04:13.041223",
     "exception": false,
     "start_time": "2022-10-05T03:04:13.032340",
     "status": "completed"
    },
    "tags": []
   },
   "source": [
    "Some users are in this dataset multiple times. Since I know now that they only received one treatment (I dropped all users who got multiple ones), I can make their revenue value the sum of the amounts they spent in all their purchases"
   ]
  },
  {
   "cell_type": "code",
   "execution_count": 9,
   "id": "a59f36d8",
   "metadata": {
    "execution": {
     "iopub.execute_input": "2022-10-05T03:04:13.061529Z",
     "iopub.status.busy": "2022-10-05T03:04:13.060832Z",
     "iopub.status.idle": "2022-10-05T03:04:13.084938Z",
     "shell.execute_reply": "2022-10-05T03:04:13.084116Z"
    },
    "papermill": {
     "duration": 0.036779,
     "end_time": "2022-10-05T03:04:13.087109",
     "exception": false,
     "start_time": "2022-10-05T03:04:13.050330",
     "status": "completed"
    },
    "tags": []
   },
   "outputs": [
    {
     "data": {
      "text/html": [
       "<div>\n",
       "<style scoped>\n",
       "    .dataframe tbody tr th:only-of-type {\n",
       "        vertical-align: middle;\n",
       "    }\n",
       "\n",
       "    .dataframe tbody tr th {\n",
       "        vertical-align: top;\n",
       "    }\n",
       "\n",
       "    .dataframe thead th {\n",
       "        text-align: right;\n",
       "    }\n",
       "</style>\n",
       "<table border=\"1\" class=\"dataframe\">\n",
       "  <thead>\n",
       "    <tr style=\"text-align: right;\">\n",
       "      <th></th>\n",
       "      <th>USER_ID</th>\n",
       "      <th>VARIANT_NAME</th>\n",
       "      <th>REVENUE</th>\n",
       "    </tr>\n",
       "  </thead>\n",
       "  <tbody>\n",
       "    <tr>\n",
       "      <th>0</th>\n",
       "      <td>2</td>\n",
       "      <td>control</td>\n",
       "      <td>0.0</td>\n",
       "    </tr>\n",
       "    <tr>\n",
       "      <th>1</th>\n",
       "      <td>4</td>\n",
       "      <td>variant</td>\n",
       "      <td>0.0</td>\n",
       "    </tr>\n",
       "    <tr>\n",
       "      <th>2</th>\n",
       "      <td>5</td>\n",
       "      <td>variant</td>\n",
       "      <td>0.0</td>\n",
       "    </tr>\n",
       "    <tr>\n",
       "      <th>3</th>\n",
       "      <td>6</td>\n",
       "      <td>variant</td>\n",
       "      <td>0.0</td>\n",
       "    </tr>\n",
       "    <tr>\n",
       "      <th>4</th>\n",
       "      <td>9</td>\n",
       "      <td>variant</td>\n",
       "      <td>0.0</td>\n",
       "    </tr>\n",
       "    <tr>\n",
       "      <th>...</th>\n",
       "      <td>...</td>\n",
       "      <td>...</td>\n",
       "      <td>...</td>\n",
       "    </tr>\n",
       "    <tr>\n",
       "      <th>4778</th>\n",
       "      <td>9990</td>\n",
       "      <td>variant</td>\n",
       "      <td>0.0</td>\n",
       "    </tr>\n",
       "    <tr>\n",
       "      <th>4779</th>\n",
       "      <td>9992</td>\n",
       "      <td>control</td>\n",
       "      <td>0.0</td>\n",
       "    </tr>\n",
       "    <tr>\n",
       "      <th>4780</th>\n",
       "      <td>9993</td>\n",
       "      <td>control</td>\n",
       "      <td>0.0</td>\n",
       "    </tr>\n",
       "    <tr>\n",
       "      <th>4781</th>\n",
       "      <td>9995</td>\n",
       "      <td>variant</td>\n",
       "      <td>0.0</td>\n",
       "    </tr>\n",
       "    <tr>\n",
       "      <th>4782</th>\n",
       "      <td>9998</td>\n",
       "      <td>control</td>\n",
       "      <td>0.0</td>\n",
       "    </tr>\n",
       "  </tbody>\n",
       "</table>\n",
       "<p>4783 rows × 3 columns</p>\n",
       "</div>"
      ],
      "text/plain": [
       "      USER_ID VARIANT_NAME  REVENUE\n",
       "0           2      control      0.0\n",
       "1           4      variant      0.0\n",
       "2           5      variant      0.0\n",
       "3           6      variant      0.0\n",
       "4           9      variant      0.0\n",
       "...       ...          ...      ...\n",
       "4778     9990      variant      0.0\n",
       "4779     9992      control      0.0\n",
       "4780     9993      control      0.0\n",
       "4781     9995      variant      0.0\n",
       "4782     9998      control      0.0\n",
       "\n",
       "[4783 rows x 3 columns]"
      ]
     },
     "execution_count": 9,
     "metadata": {},
     "output_type": "execute_result"
    }
   ],
   "source": [
    "df = df.groupby(by = ['USER_ID', 'VARIANT_NAME']).sum()\n",
    "\n",
    "df.reset_index(inplace = True)\n",
    "\n",
    "df"
   ]
  },
  {
   "cell_type": "code",
   "execution_count": 10,
   "id": "65a8576b",
   "metadata": {
    "execution": {
     "iopub.execute_input": "2022-10-05T03:04:13.108064Z",
     "iopub.status.busy": "2022-10-05T03:04:13.107345Z",
     "iopub.status.idle": "2022-10-05T03:04:13.115999Z",
     "shell.execute_reply": "2022-10-05T03:04:13.114880Z"
    },
    "papermill": {
     "duration": 0.021693,
     "end_time": "2022-10-05T03:04:13.118198",
     "exception": false,
     "start_time": "2022-10-05T03:04:13.096505",
     "status": "completed"
    },
    "tags": []
   },
   "outputs": [
    {
     "data": {
      "text/plain": [
       "2       1\n",
       "6674    1\n",
       "6672    1\n",
       "6671    1\n",
       "6668    1\n",
       "       ..\n",
       "3331    1\n",
       "3330    1\n",
       "3327    1\n",
       "3326    1\n",
       "9998    1\n",
       "Name: USER_ID, Length: 4783, dtype: int64"
      ]
     },
     "execution_count": 10,
     "metadata": {},
     "output_type": "execute_result"
    }
   ],
   "source": [
    "df.USER_ID.value_counts()"
   ]
  },
  {
   "cell_type": "markdown",
   "id": "92cc3832",
   "metadata": {
    "papermill": {
     "duration": 0.009181,
     "end_time": "2022-10-05T03:04:13.136994",
     "exception": false,
     "start_time": "2022-10-05T03:04:13.127813",
     "status": "completed"
    },
    "tags": []
   },
   "source": [
    "Now, I only have each user once in our dataset"
   ]
  },
  {
   "cell_type": "markdown",
   "id": "a8a65ce5",
   "metadata": {
    "papermill": {
     "duration": 0.009083,
     "end_time": "2022-10-05T03:04:13.155554",
     "exception": false,
     "start_time": "2022-10-05T03:04:13.146471",
     "status": "completed"
    },
    "tags": []
   },
   "source": [
    "I investigate if there are any users who were outliers and spent a lot. If there are few, they will be dropped"
   ]
  },
  {
   "cell_type": "code",
   "execution_count": 11,
   "id": "31e19265",
   "metadata": {
    "execution": {
     "iopub.execute_input": "2022-10-05T03:04:13.176717Z",
     "iopub.status.busy": "2022-10-05T03:04:13.175988Z",
     "iopub.status.idle": "2022-10-05T03:04:13.187985Z",
     "shell.execute_reply": "2022-10-05T03:04:13.187080Z"
    },
    "papermill": {
     "duration": 0.025106,
     "end_time": "2022-10-05T03:04:13.190201",
     "exception": false,
     "start_time": "2022-10-05T03:04:13.165095",
     "status": "completed"
    },
    "tags": []
   },
   "outputs": [
    {
     "data": {
      "text/html": [
       "<div>\n",
       "<style scoped>\n",
       "    .dataframe tbody tr th:only-of-type {\n",
       "        vertical-align: middle;\n",
       "    }\n",
       "\n",
       "    .dataframe tbody tr th {\n",
       "        vertical-align: top;\n",
       "    }\n",
       "\n",
       "    .dataframe thead th {\n",
       "        text-align: right;\n",
       "    }\n",
       "</style>\n",
       "<table border=\"1\" class=\"dataframe\">\n",
       "  <thead>\n",
       "    <tr style=\"text-align: right;\">\n",
       "      <th></th>\n",
       "      <th>USER_ID</th>\n",
       "      <th>VARIANT_NAME</th>\n",
       "      <th>REVENUE</th>\n",
       "    </tr>\n",
       "  </thead>\n",
       "  <tbody>\n",
       "    <tr>\n",
       "      <th>1779</th>\n",
       "      <td>3684</td>\n",
       "      <td>variant</td>\n",
       "      <td>19.47</td>\n",
       "    </tr>\n",
       "    <tr>\n",
       "      <th>514</th>\n",
       "      <td>1053</td>\n",
       "      <td>control</td>\n",
       "      <td>20.07</td>\n",
       "    </tr>\n",
       "    <tr>\n",
       "      <th>3511</th>\n",
       "      <td>7356</td>\n",
       "      <td>variant</td>\n",
       "      <td>23.04</td>\n",
       "    </tr>\n",
       "    <tr>\n",
       "      <th>1054</th>\n",
       "      <td>2166</td>\n",
       "      <td>control</td>\n",
       "      <td>29.32</td>\n",
       "    </tr>\n",
       "    <tr>\n",
       "      <th>1601</th>\n",
       "      <td>3342</td>\n",
       "      <td>control</td>\n",
       "      <td>196.01</td>\n",
       "    </tr>\n",
       "  </tbody>\n",
       "</table>\n",
       "</div>"
      ],
      "text/plain": [
       "      USER_ID VARIANT_NAME  REVENUE\n",
       "1779     3684      variant    19.47\n",
       "514      1053      control    20.07\n",
       "3511     7356      variant    23.04\n",
       "1054     2166      control    29.32\n",
       "1601     3342      control   196.01"
      ]
     },
     "execution_count": 11,
     "metadata": {},
     "output_type": "execute_result"
    }
   ],
   "source": [
    "df.sort_values(by = 'REVENUE').tail()"
   ]
  },
  {
   "cell_type": "code",
   "execution_count": 12,
   "id": "5a713568",
   "metadata": {
    "execution": {
     "iopub.execute_input": "2022-10-05T03:04:13.211891Z",
     "iopub.status.busy": "2022-10-05T03:04:13.211182Z",
     "iopub.status.idle": "2022-10-05T03:04:13.224720Z",
     "shell.execute_reply": "2022-10-05T03:04:13.223559Z"
    },
    "papermill": {
     "duration": 0.027163,
     "end_time": "2022-10-05T03:04:13.227185",
     "exception": false,
     "start_time": "2022-10-05T03:04:13.200022",
     "status": "completed"
    },
    "tags": []
   },
   "outputs": [
    {
     "data": {
      "text/html": [
       "<div>\n",
       "<style scoped>\n",
       "    .dataframe tbody tr th:only-of-type {\n",
       "        vertical-align: middle;\n",
       "    }\n",
       "\n",
       "    .dataframe tbody tr th {\n",
       "        vertical-align: top;\n",
       "    }\n",
       "\n",
       "    .dataframe thead th {\n",
       "        text-align: right;\n",
       "    }\n",
       "</style>\n",
       "<table border=\"1\" class=\"dataframe\">\n",
       "  <thead>\n",
       "    <tr style=\"text-align: right;\">\n",
       "      <th></th>\n",
       "      <th>USER_ID</th>\n",
       "      <th>VARIANT_NAME</th>\n",
       "      <th>REVENUE</th>\n",
       "    </tr>\n",
       "  </thead>\n",
       "  <tbody>\n",
       "    <tr>\n",
       "      <th>137</th>\n",
       "      <td>282</td>\n",
       "      <td>control</td>\n",
       "      <td>18.56</td>\n",
       "    </tr>\n",
       "    <tr>\n",
       "      <th>1778</th>\n",
       "      <td>3684</td>\n",
       "      <td>variant</td>\n",
       "      <td>19.47</td>\n",
       "    </tr>\n",
       "    <tr>\n",
       "      <th>514</th>\n",
       "      <td>1053</td>\n",
       "      <td>control</td>\n",
       "      <td>20.07</td>\n",
       "    </tr>\n",
       "    <tr>\n",
       "      <th>3510</th>\n",
       "      <td>7356</td>\n",
       "      <td>variant</td>\n",
       "      <td>23.04</td>\n",
       "    </tr>\n",
       "    <tr>\n",
       "      <th>1054</th>\n",
       "      <td>2166</td>\n",
       "      <td>control</td>\n",
       "      <td>29.32</td>\n",
       "    </tr>\n",
       "  </tbody>\n",
       "</table>\n",
       "</div>"
      ],
      "text/plain": [
       "      USER_ID VARIANT_NAME  REVENUE\n",
       "137       282      control    18.56\n",
       "1778     3684      variant    19.47\n",
       "514      1053      control    20.07\n",
       "3510     7356      variant    23.04\n",
       "1054     2166      control    29.32"
      ]
     },
     "execution_count": 12,
     "metadata": {},
     "output_type": "execute_result"
    }
   ],
   "source": [
    "df = df[df.USER_ID != 3342]\n",
    "\n",
    "df.reset_index(inplace = True, drop = True)\n",
    "\n",
    "df.sort_values(by = 'REVENUE').tail()"
   ]
  },
  {
   "cell_type": "code",
   "execution_count": 13,
   "id": "2aa65fa4",
   "metadata": {
    "execution": {
     "iopub.execute_input": "2022-10-05T03:04:13.249135Z",
     "iopub.status.busy": "2022-10-05T03:04:13.248657Z",
     "iopub.status.idle": "2022-10-05T03:04:13.261535Z",
     "shell.execute_reply": "2022-10-05T03:04:13.260378Z"
    },
    "papermill": {
     "duration": 0.02666,
     "end_time": "2022-10-05T03:04:13.263956",
     "exception": false,
     "start_time": "2022-10-05T03:04:13.237296",
     "status": "completed"
    },
    "tags": []
   },
   "outputs": [
    {
     "data": {
      "text/html": [
       "<div>\n",
       "<style scoped>\n",
       "    .dataframe tbody tr th:only-of-type {\n",
       "        vertical-align: middle;\n",
       "    }\n",
       "\n",
       "    .dataframe tbody tr th {\n",
       "        vertical-align: top;\n",
       "    }\n",
       "\n",
       "    .dataframe thead th {\n",
       "        text-align: right;\n",
       "    }\n",
       "</style>\n",
       "<table border=\"1\" class=\"dataframe\">\n",
       "  <thead>\n",
       "    <tr style=\"text-align: right;\">\n",
       "      <th></th>\n",
       "      <th>USER_ID</th>\n",
       "      <th>VARIANT_NAME</th>\n",
       "      <th>REVENUE</th>\n",
       "    </tr>\n",
       "  </thead>\n",
       "  <tbody>\n",
       "    <tr>\n",
       "      <th>0</th>\n",
       "      <td>2</td>\n",
       "      <td>control</td>\n",
       "      <td>0.0</td>\n",
       "    </tr>\n",
       "    <tr>\n",
       "      <th>3178</th>\n",
       "      <td>6640</td>\n",
       "      <td>variant</td>\n",
       "      <td>0.0</td>\n",
       "    </tr>\n",
       "    <tr>\n",
       "      <th>3177</th>\n",
       "      <td>6637</td>\n",
       "      <td>variant</td>\n",
       "      <td>0.0</td>\n",
       "    </tr>\n",
       "    <tr>\n",
       "      <th>3176</th>\n",
       "      <td>6636</td>\n",
       "      <td>variant</td>\n",
       "      <td>0.0</td>\n",
       "    </tr>\n",
       "    <tr>\n",
       "      <th>3175</th>\n",
       "      <td>6634</td>\n",
       "      <td>variant</td>\n",
       "      <td>0.0</td>\n",
       "    </tr>\n",
       "  </tbody>\n",
       "</table>\n",
       "</div>"
      ],
      "text/plain": [
       "      USER_ID VARIANT_NAME  REVENUE\n",
       "0           2      control      0.0\n",
       "3178     6640      variant      0.0\n",
       "3177     6637      variant      0.0\n",
       "3176     6636      variant      0.0\n",
       "3175     6634      variant      0.0"
      ]
     },
     "execution_count": 13,
     "metadata": {},
     "output_type": "execute_result"
    }
   ],
   "source": [
    "df.sort_values(by = 'REVENUE').head()"
   ]
  },
  {
   "cell_type": "code",
   "execution_count": 14,
   "id": "ed8cd4a6",
   "metadata": {
    "execution": {
     "iopub.execute_input": "2022-10-05T03:04:13.286345Z",
     "iopub.status.busy": "2022-10-05T03:04:13.285515Z",
     "iopub.status.idle": "2022-10-05T03:04:13.297199Z",
     "shell.execute_reply": "2022-10-05T03:04:13.296266Z"
    },
    "papermill": {
     "duration": 0.025479,
     "end_time": "2022-10-05T03:04:13.299482",
     "exception": false,
     "start_time": "2022-10-05T03:04:13.274003",
     "status": "completed"
    },
    "tags": []
   },
   "outputs": [
    {
     "data": {
      "text/plain": [
       "VARIANT_NAME\n",
       "control    0.114923\n",
       "variant    0.074935\n",
       "Name: REVENUE, dtype: float64"
      ]
     },
     "execution_count": 14,
     "metadata": {},
     "output_type": "execute_result"
    }
   ],
   "source": [
    "df.groupby('VARIANT_NAME').REVENUE.mean()"
   ]
  },
  {
   "cell_type": "code",
   "execution_count": 15,
   "id": "3f5b8fff",
   "metadata": {
    "execution": {
     "iopub.execute_input": "2022-10-05T03:04:13.322153Z",
     "iopub.status.busy": "2022-10-05T03:04:13.321312Z",
     "iopub.status.idle": "2022-10-05T03:04:13.574079Z",
     "shell.execute_reply": "2022-10-05T03:04:13.572922Z"
    },
    "papermill": {
     "duration": 0.267108,
     "end_time": "2022-10-05T03:04:13.576713",
     "exception": false,
     "start_time": "2022-10-05T03:04:13.309605",
     "status": "completed"
    },
    "tags": []
   },
   "outputs": [
    {
     "data": {
      "text/plain": [
       "<matplotlib.legend.Legend at 0x7f986aa443d0>"
      ]
     },
     "execution_count": 15,
     "metadata": {},
     "output_type": "execute_result"
    },
    {
     "data": {
      "image/png": "[encoded data removed]",
      "text/plain": [
       "<Figure size 432x288 with 1 Axes>"
      ]
     },
     "metadata": {
      "needs_background": "light"
     },
     "output_type": "display_data"
    }
   ],
   "source": [
    "fig = plt.figure()\n",
    "\n",
    "df.groupby('VARIANT_NAME').REVENUE.plot()\n",
    "\n",
    "fig.legend()"
   ]
  },
  {
   "cell_type": "markdown",
   "id": "ac222d11",
   "metadata": {
    "papermill": {
     "duration": 0.010178,
     "end_time": "2022-10-05T03:04:13.597505",
     "exception": false,
     "start_time": "2022-10-05T03:04:13.587327",
     "status": "completed"
    },
    "tags": []
   },
   "source": [
    "The data does not appear to be normally distributed for either group"
   ]
  },
  {
   "cell_type": "code",
   "execution_count": 16,
   "id": "143e5227",
   "metadata": {
    "execution": {
     "iopub.execute_input": "2022-10-05T03:04:13.620997Z",
     "iopub.status.busy": "2022-10-05T03:04:13.620178Z",
     "iopub.status.idle": "2022-10-05T03:04:13.632153Z",
     "shell.execute_reply": "2022-10-05T03:04:13.631175Z"
    },
    "papermill": {
     "duration": 0.026378,
     "end_time": "2022-10-05T03:04:13.634499",
     "exception": false,
     "start_time": "2022-10-05T03:04:13.608121",
     "status": "completed"
    },
    "tags": []
   },
   "outputs": [
    {
     "data": {
      "text/plain": [
       "VARIANT_NAME\n",
       "control    1.351394\n",
       "variant    0.736520\n",
       "Name: REVENUE, dtype: float64"
      ]
     },
     "execution_count": 16,
     "metadata": {},
     "output_type": "execute_result"
    }
   ],
   "source": [
    "df.groupby('VARIANT_NAME').REVENUE.var()"
   ]
  },
  {
   "cell_type": "markdown",
   "id": "ceb588be",
   "metadata": {
    "papermill": {
     "duration": 0.01019,
     "end_time": "2022-10-05T03:04:13.655814",
     "exception": false,
     "start_time": "2022-10-05T03:04:13.645624",
     "status": "completed"
    },
    "tags": []
   },
   "source": [
    "The samples have inequal variances"
   ]
  },
  {
   "cell_type": "markdown",
   "id": "812ba1c6",
   "metadata": {
    "papermill": {
     "duration": 0.01023,
     "end_time": "2022-10-05T03:04:13.676408",
     "exception": false,
     "start_time": "2022-10-05T03:04:13.666178",
     "status": "completed"
    },
    "tags": []
   },
   "source": [
    "The mean revenue of the 'control' group appears to be greater than that of the 'variant' group. "
   ]
  },
  {
   "cell_type": "markdown",
   "id": "a498ccc8",
   "metadata": {
    "papermill": {
     "duration": 0.010238,
     "end_time": "2022-10-05T03:04:13.697333",
     "exception": false,
     "start_time": "2022-10-05T03:04:13.687095",
     "status": "completed"
    },
    "tags": []
   },
   "source": [
    "I am interested in determining whether or not there is a statistically signifcant difference in the revenues generated by the two methods. I will do this by A/B testing. The null hypothesis will be that there is no difference in the average revenue generates. The alternative hypothesis will be that there is a difference\n"
   ]
  },
  {
   "cell_type": "markdown",
   "id": "ee39c8ae",
   "metadata": {
    "papermill": {
     "duration": 0.010293,
     "end_time": "2022-10-05T03:04:13.718758",
     "exception": false,
     "start_time": "2022-10-05T03:04:13.708465",
     "status": "completed"
    },
    "tags": []
   },
   "source": [
    "I will use an alpha value of 0.05"
   ]
  },
  {
   "cell_type": "code",
   "execution_count": 17,
   "id": "835a5ef7",
   "metadata": {
    "execution": {
     "iopub.execute_input": "2022-10-05T03:04:13.741730Z",
     "iopub.status.busy": "2022-10-05T03:04:13.741319Z",
     "iopub.status.idle": "2022-10-05T03:04:13.746115Z",
     "shell.execute_reply": "2022-10-05T03:04:13.744938Z"
    },
    "papermill": {
     "duration": 0.018935,
     "end_time": "2022-10-05T03:04:13.748379",
     "exception": false,
     "start_time": "2022-10-05T03:04:13.729444",
     "status": "completed"
    },
    "tags": []
   },
   "outputs": [],
   "source": [
    "alpha = 0.05"
   ]
  },
  {
   "cell_type": "markdown",
   "id": "fa4805b8",
   "metadata": {
    "papermill": {
     "duration": 0.010178,
     "end_time": "2022-10-05T03:04:13.769374",
     "exception": false,
     "start_time": "2022-10-05T03:04:13.759196",
     "status": "completed"
    },
    "tags": []
   },
   "source": [
    "I will use a 2-sample Wech's T-Test since the variances are unequal"
   ]
  },
  {
   "cell_type": "code",
   "execution_count": 18,
   "id": "8875064b",
   "metadata": {
    "execution": {
     "iopub.execute_input": "2022-10-05T03:04:13.792298Z",
     "iopub.status.busy": "2022-10-05T03:04:13.791874Z",
     "iopub.status.idle": "2022-10-05T03:04:14.912078Z",
     "shell.execute_reply": "2022-10-05T03:04:14.910939Z"
    },
    "papermill": {
     "duration": 1.134789,
     "end_time": "2022-10-05T03:04:14.914803",
     "exception": false,
     "start_time": "2022-10-05T03:04:13.780014",
     "status": "completed"
    },
    "tags": []
   },
   "outputs": [],
   "source": [
    "from scipy import stats"
   ]
  },
  {
   "cell_type": "code",
   "execution_count": 19,
   "id": "73e0b30c",
   "metadata": {
    "execution": {
     "iopub.execute_input": "2022-10-05T03:04:14.938042Z",
     "iopub.status.busy": "2022-10-05T03:04:14.937632Z",
     "iopub.status.idle": "2022-10-05T03:04:14.946752Z",
     "shell.execute_reply": "2022-10-05T03:04:14.945375Z"
    },
    "papermill": {
     "duration": 0.023564,
     "end_time": "2022-10-05T03:04:14.949209",
     "exception": false,
     "start_time": "2022-10-05T03:04:14.925645",
     "status": "completed"
    },
    "tags": []
   },
   "outputs": [],
   "source": [
    "control = df[df.VARIANT_NAME == 'control'].REVENUE\n",
    "variant = df[df.VARIANT_NAME == 'variant'].REVENUE"
   ]
  },
  {
   "cell_type": "code",
   "execution_count": 20,
   "id": "cb4fcf30",
   "metadata": {
    "execution": {
     "iopub.execute_input": "2022-10-05T03:04:14.972842Z",
     "iopub.status.busy": "2022-10-05T03:04:14.971557Z",
     "iopub.status.idle": "2022-10-05T03:04:14.980865Z",
     "shell.execute_reply": "2022-10-05T03:04:14.979720Z"
    },
    "papermill": {
     "duration": 0.023324,
     "end_time": "2022-10-05T03:04:14.983146",
     "exception": false,
     "start_time": "2022-10-05T03:04:14.959822",
     "status": "completed"
    },
    "tags": []
   },
   "outputs": [
    {
     "data": {
      "text/plain": [
       "0       0.0\n",
       "5       0.0\n",
       "6       0.0\n",
       "7       0.0\n",
       "11      0.0\n",
       "       ... \n",
       "4773    0.0\n",
       "4776    0.0\n",
       "4778    0.0\n",
       "4779    0.0\n",
       "4781    0.0\n",
       "Name: REVENUE, Length: 2389, dtype: float64"
      ]
     },
     "execution_count": 20,
     "metadata": {},
     "output_type": "execute_result"
    }
   ],
   "source": [
    "control"
   ]
  },
  {
   "cell_type": "code",
   "execution_count": 21,
   "id": "7ac4c090",
   "metadata": {
    "execution": {
     "iopub.execute_input": "2022-10-05T03:04:15.006723Z",
     "iopub.status.busy": "2022-10-05T03:04:15.005648Z",
     "iopub.status.idle": "2022-10-05T03:04:15.014610Z",
     "shell.execute_reply": "2022-10-05T03:04:15.013549Z"
    },
    "papermill": {
     "duration": 0.022972,
     "end_time": "2022-10-05T03:04:15.016727",
     "exception": false,
     "start_time": "2022-10-05T03:04:14.993755",
     "status": "completed"
    },
    "tags": []
   },
   "outputs": [
    {
     "data": {
      "text/plain": [
       "1       0.0\n",
       "2       0.0\n",
       "3       0.0\n",
       "4       0.0\n",
       "8       0.0\n",
       "       ... \n",
       "4771    0.0\n",
       "4774    0.0\n",
       "4775    0.0\n",
       "4777    0.0\n",
       "4780    0.0\n",
       "Name: REVENUE, Length: 2393, dtype: float64"
      ]
     },
     "execution_count": 21,
     "metadata": {},
     "output_type": "execute_result"
    }
   ],
   "source": [
    "variant"
   ]
  },
  {
   "cell_type": "code",
   "execution_count": 22,
   "id": "e5d3dbe2",
   "metadata": {
    "execution": {
     "iopub.execute_input": "2022-10-05T03:04:15.040979Z",
     "iopub.status.busy": "2022-10-05T03:04:15.040530Z",
     "iopub.status.idle": "2022-10-05T03:04:15.048582Z",
     "shell.execute_reply": "2022-10-05T03:04:15.047604Z"
    },
    "papermill": {
     "duration": 0.022703,
     "end_time": "2022-10-05T03:04:15.050860",
     "exception": false,
     "start_time": "2022-10-05T03:04:15.028157",
     "status": "completed"
    },
    "tags": []
   },
   "outputs": [],
   "source": [
    "result = stats.ttest_ind(control, variant, equal_var = False)"
   ]
  },
  {
   "cell_type": "code",
   "execution_count": 23,
   "id": "a58fffd2",
   "metadata": {
    "execution": {
     "iopub.execute_input": "2022-10-05T03:04:15.074402Z",
     "iopub.status.busy": "2022-10-05T03:04:15.073983Z",
     "iopub.status.idle": "2022-10-05T03:04:15.079909Z",
     "shell.execute_reply": "2022-10-05T03:04:15.078703Z"
    },
    "papermill": {
     "duration": 0.021159,
     "end_time": "2022-10-05T03:04:15.083140",
     "exception": false,
     "start_time": "2022-10-05T03:04:15.061981",
     "status": "completed"
    },
    "tags": []
   },
   "outputs": [
    {
     "name": "stdout",
     "output_type": "stream",
     "text": [
      " The p value was 0.1761207039161098 and we failed to reject null hypothesis\n"
     ]
    }
   ],
   "source": [
    "if result.pvalue > alpha:\n",
    "    print(f\" The p value was {result.pvalue} and we failed to reject null hypothesis\")\n",
    "\n",
    "else:\n",
    "    print(f\" The p value was {result.pvalue} and we reject the null hypothesis\")"
   ]
  },
  {
   "cell_type": "markdown",
   "id": "ce7acead",
   "metadata": {
    "papermill": {
     "duration": 0.010606,
     "end_time": "2022-10-05T03:04:15.105784",
     "exception": false,
     "start_time": "2022-10-05T03:04:15.095178",
     "status": "completed"
    },
    "tags": []
   },
   "source": [
    "The p-value was greater than 0.05, so I cannot conclude a statistically significant difference in the revenue generated between the two methods"
   ]
  },
  {
   "cell_type": "code",
   "execution_count": null,
   "id": "191e68c3",
   "metadata": {
    "papermill": {
     "duration": 0.010699,
     "end_time": "2022-10-05T03:04:15.127430",
     "exception": false,
     "start_time": "2022-10-05T03:04:15.116731",
     "status": "completed"
    },
    "tags": []
   },
   "outputs": [],
   "source": []
  }
 ],
 "metadata": {
  "kernelspec": {
   "display_name": "Python 3",
   "language": "python",
   "name": "python3"
  },
  "language_info": {
   "codemirror_mode": {
    "name": "ipython",
    "version": 3
   },
   "file_extension": ".py",
   "mimetype": "text/x-python",
   "name": "python",
   "nbconvert_exporter": "python",
   "pygments_lexer": "ipython3",
   "version": "3.7.12"
  },
  "papermill": {
   "default_parameters": {},
   "duration": 14.67611,
   "end_time": "2022-10-05T03:04:15.860058",
   "environment_variables": {},
   "exception": null,
   "input_path": "__notebook__.ipynb",
   "output_path": "__notebook__.ipynb",
   "parameters": {},
   "start_time": "2022-10-05T03:04:01.183948",
   "version": "2.3.4"
  }
 },
 "nbformat": 4,
 "nbformat_minor": 5
}
